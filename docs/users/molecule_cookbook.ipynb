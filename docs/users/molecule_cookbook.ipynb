{
 "cells": [
  {
   "cell_type": "markdown",
   "id": "5b311c85",
   "metadata": {},
   "source": [
    "# Cookbook: Every way to make a `Molecule`"
   ]
  },
  {
   "cell_type": "markdown",
   "id": "05bf5732",
   "metadata": {},
   "source": [
    "Every pathway through the OpenFF Toolkit boils down to four steps:\n",
    "\n",
    "1. Using other tools, assemble a graph of a molecule, including all of its atoms, bonds, bond orders, formal charges, and stereochemistry[^rs]\n",
    "2. Use that information to construct a [`Molecule`](openff.toolkit.topology.Molecule)\n",
    "3. Combine a number of `Molecule` objects to construct a [`Topology`](openff.toolkit.topology.Topology)\n",
    "4. Call [`ForceField.create_openmm_system(topology)`](openff.toolkit.typing.engines.smirnoff.forcefield.ForceField.create_openmm_system) to create an OpenMM [`System`](simtk.openmm.openmm.System) (or, in the near future, an OpenFF [`Interchange`](https://github.com/openforcefield/openff-interchange) for painless conversion to all sorts of MD formats)\n",
    "\n",
    "So let's take a look at every way there is to construct a molecule! We'll use zwitterionic L-alanine as an example biomolecule with all the tricky bits - a stereocenter, non-zero formal charges, and bonds of different orders.\n",
    "\n",
    "[^rs]: Note that this stereochemistry must be defined on the *graph* of the molecule. It's not good enough to just co-ordinates with the correct stereochemistry. But if you have the co-ordinates, you can try getting the stereochemistry automatically with `rdkit` or `openeye` --- If you dare!"
   ]
  },
  {
   "cell_type": "code",
   "execution_count": 1,
   "id": "0a3d1e21",
   "metadata": {
    "tags": [
     "remove-stderr",
     "remove-input",
     "remove-stdout"
    ]
   },
   "outputs": [
    {
     "data": {
      "image/svg+xml": [
       "<svg baseProfile=\"full\" height=\"214px\" version=\"1.1\" viewBox=\"0 0 300 214\" width=\"300px\" xml:space=\"preserve\" xmlns=\"http://www.w3.org/2000/svg\" xmlns:rdkit=\"http://www.rdkit.org/xml\" xmlns:xlink=\"http://www.w3.org/1999/xlink\">\n",
       "<!-- END OF HEADER -->\n",
       "<rect height=\"214\" style=\"opacity:1.0;fill:#FFFFFF;stroke:none\" width=\"300\" x=\"0\" y=\"0\"> </rect>\n",
       "<path class=\"bond-0 atom-1 atom-0\" d=\"M 135.418,82.1566 L 141.995,9.73249 L 128.957,9.72206 Z\" style=\"fill:#000000;fill-rule:evenodd;fill-opacity:1;stroke:#000000;stroke-width:2.0px;stroke-linecap:butt;stroke-linejoin:miter;stroke-opacity:1;\"/>\n",
       "<path class=\"bond-1 atom-1 atom-2\" d=\"M 135.418,82.1566 L 117.669,92.3871\" style=\"fill:none;fill-rule:evenodd;stroke:#000000;stroke-width:2.0px;stroke-linecap:butt;stroke-linejoin:miter;stroke-opacity:1\"/>\n",
       "<path class=\"bond-1 atom-1 atom-2\" d=\"M 117.669,92.3871 L 99.9208,102.618\" style=\"fill:none;fill-rule:evenodd;stroke:#0000FF;stroke-width:2.0px;stroke-linecap:butt;stroke-linejoin:miter;stroke-opacity:1\"/>\n",
       "<path class=\"bond-2 atom-1 atom-3\" d=\"M 135.418,82.1566 L 198.113,118.429\" style=\"fill:none;fill-rule:evenodd;stroke:#000000;stroke-width:2.0px;stroke-linecap:butt;stroke-linejoin:miter;stroke-opacity:1\"/>\n",
       "<path class=\"bond-3 atom-3 atom-4\" d=\"M 198.113,118.429 L 198.09,146.579\" style=\"fill:none;fill-rule:evenodd;stroke:#000000;stroke-width:2.0px;stroke-linecap:butt;stroke-linejoin:miter;stroke-opacity:1\"/>\n",
       "<path class=\"bond-3 atom-3 atom-4\" d=\"M 198.09,146.579 L 198.068,174.728\" style=\"fill:none;fill-rule:evenodd;stroke:#FF0000;stroke-width:2.0px;stroke-linecap:butt;stroke-linejoin:miter;stroke-opacity:1\"/>\n",
       "<path class=\"bond-4 atom-3 atom-5\" d=\"M 201.368,124.077 L 225.339,110.26\" style=\"fill:none;fill-rule:evenodd;stroke:#000000;stroke-width:2.0px;stroke-linecap:butt;stroke-linejoin:miter;stroke-opacity:1\"/>\n",
       "<path class=\"bond-4 atom-3 atom-5\" d=\"M 225.339,110.26 L 249.31,96.4427\" style=\"fill:none;fill-rule:evenodd;stroke:#FF0000;stroke-width:2.0px;stroke-linecap:butt;stroke-linejoin:miter;stroke-opacity:1\"/>\n",
       "<path class=\"bond-4 atom-3 atom-5\" d=\"M 194.858,112.782 L 218.829,98.9646\" style=\"fill:none;fill-rule:evenodd;stroke:#000000;stroke-width:2.0px;stroke-linecap:butt;stroke-linejoin:miter;stroke-opacity:1\"/>\n",
       "<path class=\"bond-4 atom-3 atom-5\" d=\"M 218.829,98.9646 L 242.8,85.1475\" style=\"fill:none;fill-rule:evenodd;stroke:#FF0000;stroke-width:2.0px;stroke-linecap:butt;stroke-linejoin:miter;stroke-opacity:1\"/>\n",
       "<path class=\"atom-2\" d=\"M 22.77 104.168 L 26.61 104.168 L 26.61 116.208 L 41.09 116.208 L 41.09 104.168 L 44.93 104.168 L 44.93 132.488 L 41.09 132.488 L 41.09 119.408 L 26.61 119.408 L 26.61 132.488 L 22.77 132.488 L 22.77 104.168 \" fill=\"#0000FF\"/>\n",
       "<path class=\"atom-2\" d=\"M 55.0148 136.801 Q 56.8364 137.329, 57.7076 138.517 Q 58.6052 139.678, 58.6052 141.526 Q 58.6052 143.11, 57.8132 144.351 Q 57.0212 145.565, 55.5692 146.252 Q 54.1172 146.912, 52.2164 146.912 Q 50.21 146.912, 48.7052 146.225 Q 47.2268 145.513, 46.0388 144.087 L 47.5436 142.556 Q 48.7052 143.823, 49.682 144.325 Q 50.6588 144.8, 52.2164 144.8 Q 53.906 144.8, 54.9356 143.902 Q 55.9652 142.978, 55.9652 141.5 Q 55.9652 139.599, 54.8828 138.754 Q 53.8268 137.883, 51.53 137.883 L 50.1836 137.883 L 50.1836 135.982 L 51.3716 135.982 Q 53.4044 135.956, 54.4868 135.085 Q 55.5692 134.187, 55.5692 132.524 Q 55.5692 131.309, 54.6716 130.597 Q 53.774 129.857, 52.2428 129.857 Q 50.6852 129.857, 49.7084 130.412 Q 48.758 130.966, 48.0188 132.365 L 46.1972 131.389 Q 46.8572 129.831, 48.4412 128.801 Q 50.0252 127.745, 52.2428 127.745 Q 54.9884 127.745, 56.5988 129.039 Q 58.2092 130.333, 58.2092 132.524 Q 58.2092 134.029, 57.3908 135.111 Q 56.5724 136.193, 55.0148 136.801 \" fill=\"#0000FF\"/>\n",
       "<path class=\"atom-2\" d=\"M 66.4052 104.168 L 75.6852 119.168 Q 76.6052 120.648, 78.0852 123.328 Q 79.5652 126.008, 79.6452 126.168 L 79.6452 104.168 L 83.4052 104.168 L 83.4052 132.488 L 79.5252 132.488 L 69.5652 116.088 Q 68.4052 114.168, 67.1652 111.968 Q 65.9652 109.768, 65.6052 109.088 L 65.6052 132.488 L 61.9252 132.488 L 61.9252 104.168 L 66.4052 104.168 \" fill=\"#0000FF\"/>\n",
       "<path class=\"atom-2\" d=\"M 85.7812 109.273 L 90.7708 109.273 L 90.7708 104.019 L 92.9884 104.019 L 92.9884 109.273 L 98.11 109.273 L 98.11 111.173 L 92.9884 111.173 L 92.9884 116.453 L 90.7708 116.453 L 90.7708 111.173 L 85.7812 111.173 L 85.7812 109.273 \" fill=\"#0000FF\"/>\n",
       "<path class=\"atom-4\" d=\"M 185.055 190.939 Q 185.055 184.139, 188.415 180.339 Q 191.775 176.539, 198.055 176.539 Q 204.335 176.539, 207.695 180.339 Q 211.055 184.139, 211.055 190.939 Q 211.055 197.819, 207.655 201.739 Q 204.255 205.619, 198.055 205.619 Q 191.815 205.619, 188.415 201.739 Q 185.055 197.859, 185.055 190.939 M 198.055 202.419 Q 202.375 202.419, 204.695 199.539 Q 207.055 196.619, 207.055 190.939 Q 207.055 185.379, 204.695 182.579 Q 202.375 179.739, 198.055 179.739 Q 193.735 179.739, 191.375 182.539 Q 189.055 185.339, 189.055 190.939 Q 189.055 196.659, 191.375 199.539 Q 193.735 202.419, 198.055 202.419 \" fill=\"#FF0000\"/>\n",
       "<path class=\"atom-4\" d=\"M 212.375 181.161 L 222.064 181.161 L 222.064 183.273 L 212.375 183.273 L 212.375 181.161 \" fill=\"#FF0000\"/>\n",
       "<path class=\"atom-5\" d=\"M 247.866 82.338 Q 247.866 75.538, 251.226 71.738 Q 254.586 67.938, 260.866 67.938 Q 267.146 67.938, 270.506 71.738 Q 273.866 75.538, 273.866 82.338 Q 273.866 89.218, 270.466 93.138 Q 267.066 97.018, 260.866 97.018 Q 254.626 97.018, 251.226 93.138 Q 247.866 89.258, 247.866 82.338 M 260.866 93.818 Q 265.186 93.818, 267.506 90.938 Q 269.866 88.018, 269.866 82.338 Q 269.866 76.778, 267.506 73.978 Q 265.186 71.138, 260.866 71.138 Q 256.546 71.138, 254.186 73.938 Q 251.866 76.738, 251.866 82.338 Q 251.866 88.058, 254.186 90.938 Q 256.546 93.818, 260.866 93.818 \" fill=\"#FF0000\"/>\n",
       "</svg>"
      ],
      "text/plain": [
       "<IPython.core.display.SVG object>"
      ]
     },
     "execution_count": 1,
     "metadata": {},
     "output_type": "execute_result"
    }
   ],
   "source": [
    "# Imports\n",
    "from openff.toolkit.topology import Molecule, Topology\n",
    "from openff.toolkit.typing.engines.smirnoff import ForceField\n",
    "\n",
    "# Hide tracebacks for simpler errors\n",
    "import sys\n",
    "ipython = get_ipython()\n",
    "\n",
    "def hide_traceback(exc_tuple=None, filename=None, tb_offset=None,\n",
    "                   exception_only=False, running_compiled_code=False):\n",
    "    etype, value, tb = sys.exc_info()\n",
    "    value.__cause__ = None  # suppress chained exceptions\n",
    "    return ipython._showtraceback(etype, value, ipython.InteractiveTB.get_exception_only(etype, value))\n",
    "\n",
    "ipython.showtraceback = hide_traceback\n",
    "\n",
    "# Show us alanine\n",
    "zw_l_alanine = Molecule.from_smiles(\"C[C@H]([NH3+])C([O-])=O\")\n",
    "\n",
    "from IPython.display import SVG\n",
    "from rdkit.Chem.Draw import rdMolDraw2D\n",
    "from rdkit.Chem.rdmolops import RemoveHs\n",
    "from rdkit.Chem.Draw import rdDepictor\n",
    "rdDepictor.SetPreferCoordGen(True)\n",
    "\n",
    "def visualize(mol, width=300, height=None):\n",
    "    if height is None:\n",
    "        height = int(width * 5/7)\n",
    "    rdmol = RemoveHs(mol.to_rdkit())\n",
    "    rdDepictor.Compute2DCoords(rdmol)\n",
    "    \n",
    "    drawer = rdMolDraw2D.MolDraw2DSVG(width, height)\n",
    "    drawer.DrawMolecule(rdmol)\n",
    "    drawer.FinishDrawing()\n",
    "    \n",
    "    return SVG(drawer.GetDrawingText())\n",
    "\n",
    "\n",
    "visualize(zw_l_alanine)"
   ]
  },
  {
   "cell_type": "markdown",
   "id": "37d692a1",
   "metadata": {},
   "source": [
    "## From SMILES\n",
    "\n",
    "SMILES is the classic way to create a `Molecule`. SMILES is a widely-used compact textual representation of arbitrary molecules. This lets us specify an exact molecule, including stereochemistry and bond orders, very easily --- though they may not be the most human-readable format.\n",
    "\n",
    "The [`Molecule.from_smiles()`](openff.toolkit.topology.Molecule.from_smiles) method is used to create a `Molecule` from a SMILES code.\n",
    "\n",
    "### Implicit hydrogens SMILES"
   ]
  },
  {
   "cell_type": "code",
   "execution_count": 2,
   "id": "71199513",
   "metadata": {},
   "outputs": [
    {
     "data": {
      "image/svg+xml": [
       "<svg baseProfile=\"full\" height=\"214px\" version=\"1.1\" viewBox=\"0 0 300 214\" width=\"300px\" xml:space=\"preserve\" xmlns=\"http://www.w3.org/2000/svg\" xmlns:rdkit=\"http://www.rdkit.org/xml\" xmlns:xlink=\"http://www.w3.org/1999/xlink\">\n",
       "<!-- END OF HEADER -->\n",
       "<rect height=\"214\" style=\"opacity:1.0;fill:#FFFFFF;stroke:none\" width=\"300\" x=\"0\" y=\"0\"> </rect>\n",
       "<path class=\"bond-0 atom-1 atom-0\" d=\"M 135.418,82.1566 L 141.995,9.73249 L 128.957,9.72206 Z\" style=\"fill:#000000;fill-rule:evenodd;fill-opacity:1;stroke:#000000;stroke-width:2.0px;stroke-linecap:butt;stroke-linejoin:miter;stroke-opacity:1;\"/>\n",
       "<path class=\"bond-1 atom-1 atom-2\" d=\"M 135.418,82.1566 L 117.669,92.3871\" style=\"fill:none;fill-rule:evenodd;stroke:#000000;stroke-width:2.0px;stroke-linecap:butt;stroke-linejoin:miter;stroke-opacity:1\"/>\n",
       "<path class=\"bond-1 atom-1 atom-2\" d=\"M 117.669,92.3871 L 99.9208,102.618\" style=\"fill:none;fill-rule:evenodd;stroke:#0000FF;stroke-width:2.0px;stroke-linecap:butt;stroke-linejoin:miter;stroke-opacity:1\"/>\n",
       "<path class=\"bond-2 atom-1 atom-3\" d=\"M 135.418,82.1566 L 198.113,118.429\" style=\"fill:none;fill-rule:evenodd;stroke:#000000;stroke-width:2.0px;stroke-linecap:butt;stroke-linejoin:miter;stroke-opacity:1\"/>\n",
       "<path class=\"bond-3 atom-3 atom-4\" d=\"M 201.368,124.077 L 225.339,110.26\" style=\"fill:none;fill-rule:evenodd;stroke:#000000;stroke-width:2.0px;stroke-linecap:butt;stroke-linejoin:miter;stroke-opacity:1\"/>\n",
       "<path class=\"bond-3 atom-3 atom-4\" d=\"M 225.339,110.26 L 249.31,96.4427\" style=\"fill:none;fill-rule:evenodd;stroke:#FF0000;stroke-width:2.0px;stroke-linecap:butt;stroke-linejoin:miter;stroke-opacity:1\"/>\n",
       "<path class=\"bond-3 atom-3 atom-4\" d=\"M 194.858,112.782 L 218.829,98.9646\" style=\"fill:none;fill-rule:evenodd;stroke:#000000;stroke-width:2.0px;stroke-linecap:butt;stroke-linejoin:miter;stroke-opacity:1\"/>\n",
       "<path class=\"bond-3 atom-3 atom-4\" d=\"M 218.829,98.9646 L 242.8,85.1475\" style=\"fill:none;fill-rule:evenodd;stroke:#FF0000;stroke-width:2.0px;stroke-linecap:butt;stroke-linejoin:miter;stroke-opacity:1\"/>\n",
       "<path class=\"bond-4 atom-3 atom-5\" d=\"M 198.113,118.429 L 198.09,146.579\" style=\"fill:none;fill-rule:evenodd;stroke:#000000;stroke-width:2.0px;stroke-linecap:butt;stroke-linejoin:miter;stroke-opacity:1\"/>\n",
       "<path class=\"bond-4 atom-3 atom-5\" d=\"M 198.09,146.579 L 198.068,174.728\" style=\"fill:none;fill-rule:evenodd;stroke:#FF0000;stroke-width:2.0px;stroke-linecap:butt;stroke-linejoin:miter;stroke-opacity:1\"/>\n",
       "<path class=\"atom-2\" d=\"M 22.77 104.168 L 26.61 104.168 L 26.61 116.208 L 41.09 116.208 L 41.09 104.168 L 44.93 104.168 L 44.93 132.488 L 41.09 132.488 L 41.09 119.408 L 26.61 119.408 L 26.61 132.488 L 22.77 132.488 L 22.77 104.168 \" fill=\"#0000FF\"/>\n",
       "<path class=\"atom-2\" d=\"M 55.0148 136.801 Q 56.8364 137.329, 57.7076 138.517 Q 58.6052 139.678, 58.6052 141.526 Q 58.6052 143.11, 57.8132 144.351 Q 57.0212 145.565, 55.5692 146.252 Q 54.1172 146.912, 52.2164 146.912 Q 50.21 146.912, 48.7052 146.225 Q 47.2268 145.513, 46.0388 144.087 L 47.5436 142.556 Q 48.7052 143.823, 49.682 144.325 Q 50.6588 144.8, 52.2164 144.8 Q 53.906 144.8, 54.9356 143.902 Q 55.9652 142.978, 55.9652 141.5 Q 55.9652 139.599, 54.8828 138.754 Q 53.8268 137.883, 51.53 137.883 L 50.1836 137.883 L 50.1836 135.982 L 51.3716 135.982 Q 53.4044 135.956, 54.4868 135.085 Q 55.5692 134.187, 55.5692 132.524 Q 55.5692 131.309, 54.6716 130.597 Q 53.774 129.857, 52.2428 129.857 Q 50.6852 129.857, 49.7084 130.412 Q 48.758 130.966, 48.0188 132.365 L 46.1972 131.389 Q 46.8572 129.831, 48.4412 128.801 Q 50.0252 127.745, 52.2428 127.745 Q 54.9884 127.745, 56.5988 129.039 Q 58.2092 130.333, 58.2092 132.524 Q 58.2092 134.029, 57.3908 135.111 Q 56.5724 136.193, 55.0148 136.801 \" fill=\"#0000FF\"/>\n",
       "<path class=\"atom-2\" d=\"M 66.4052 104.168 L 75.6852 119.168 Q 76.6052 120.648, 78.0852 123.328 Q 79.5652 126.008, 79.6452 126.168 L 79.6452 104.168 L 83.4052 104.168 L 83.4052 132.488 L 79.5252 132.488 L 69.5652 116.088 Q 68.4052 114.168, 67.1652 111.968 Q 65.9652 109.768, 65.6052 109.088 L 65.6052 132.488 L 61.9252 132.488 L 61.9252 104.168 L 66.4052 104.168 \" fill=\"#0000FF\"/>\n",
       "<path class=\"atom-2\" d=\"M 85.7812 109.273 L 90.7708 109.273 L 90.7708 104.019 L 92.9884 104.019 L 92.9884 109.273 L 98.11 109.273 L 98.11 111.173 L 92.9884 111.173 L 92.9884 116.453 L 90.7708 116.453 L 90.7708 111.173 L 85.7812 111.173 L 85.7812 109.273 \" fill=\"#0000FF\"/>\n",
       "<path class=\"atom-4\" d=\"M 247.866 82.338 Q 247.866 75.538, 251.226 71.738 Q 254.586 67.938, 260.866 67.938 Q 267.146 67.938, 270.506 71.738 Q 273.866 75.538, 273.866 82.338 Q 273.866 89.218, 270.466 93.138 Q 267.066 97.018, 260.866 97.018 Q 254.626 97.018, 251.226 93.138 Q 247.866 89.258, 247.866 82.338 M 260.866 93.818 Q 265.186 93.818, 267.506 90.938 Q 269.866 88.018, 269.866 82.338 Q 269.866 76.778, 267.506 73.978 Q 265.186 71.138, 260.866 71.138 Q 256.546 71.138, 254.186 73.938 Q 251.866 76.738, 251.866 82.338 Q 251.866 88.058, 254.186 90.938 Q 256.546 93.818, 260.866 93.818 \" fill=\"#FF0000\"/>\n",
       "<path class=\"atom-5\" d=\"M 185.055 190.939 Q 185.055 184.139, 188.415 180.339 Q 191.775 176.539, 198.055 176.539 Q 204.335 176.539, 207.695 180.339 Q 211.055 184.139, 211.055 190.939 Q 211.055 197.819, 207.655 201.739 Q 204.255 205.619, 198.055 205.619 Q 191.815 205.619, 188.415 201.739 Q 185.055 197.859, 185.055 190.939 M 198.055 202.419 Q 202.375 202.419, 204.695 199.539 Q 207.055 196.619, 207.055 190.939 Q 207.055 185.379, 204.695 182.579 Q 202.375 179.739, 198.055 179.739 Q 193.735 179.739, 191.375 182.539 Q 189.055 185.339, 189.055 190.939 Q 189.055 196.659, 191.375 199.539 Q 193.735 202.419, 198.055 202.419 \" fill=\"#FF0000\"/>\n",
       "<path class=\"atom-5\" d=\"M 212.375 181.161 L 222.064 181.161 L 222.064 183.273 L 212.375 183.273 L 212.375 181.161 \" fill=\"#FF0000\"/>\n",
       "</svg>"
      ],
      "text/plain": [
       "<IPython.core.display.SVG object>"
      ]
     },
     "execution_count": 2,
     "metadata": {},
     "output_type": "execute_result"
    }
   ],
   "source": [
    "smiles_implicit_h = Molecule.from_smiles(\"C[C@H]([NH3+])C(=O)[O-]\")\n",
    "\n",
    "assert zw_l_alanine.is_isomorphic_with(smiles_implicit_h)\n",
    "\n",
    "visualize(smiles_implicit_h)"
   ]
  },
  {
   "cell_type": "markdown",
   "id": "59fe1b58",
   "metadata": {},
   "source": [
    "### Explicit hydrogens SMILES"
   ]
  },
  {
   "cell_type": "code",
   "execution_count": 3,
   "id": "07e0584e",
   "metadata": {},
   "outputs": [
    {
     "data": {
      "image/svg+xml": [
       "<svg baseProfile=\"full\" height=\"214px\" version=\"1.1\" viewBox=\"0 0 300 214\" width=\"300px\" xml:space=\"preserve\" xmlns=\"http://www.w3.org/2000/svg\" xmlns:rdkit=\"http://www.rdkit.org/xml\" xmlns:xlink=\"http://www.w3.org/1999/xlink\">\n",
       "<!-- END OF HEADER -->\n",
       "<rect height=\"214\" style=\"opacity:1.0;fill:#FFFFFF;stroke:none\" width=\"300\" x=\"0\" y=\"0\"> </rect>\n",
       "<path class=\"bond-0 atom-1 atom-0\" d=\"M 135.418,82.1566 L 141.995,9.73249 L 128.957,9.72206 Z\" style=\"fill:#000000;fill-rule:evenodd;fill-opacity:1;stroke:#000000;stroke-width:2.0px;stroke-linecap:butt;stroke-linejoin:miter;stroke-opacity:1;\"/>\n",
       "<path class=\"bond-1 atom-1 atom-2\" d=\"M 135.418,82.1566 L 198.113,118.429\" style=\"fill:none;fill-rule:evenodd;stroke:#000000;stroke-width:2.0px;stroke-linecap:butt;stroke-linejoin:miter;stroke-opacity:1\"/>\n",
       "<path class=\"bond-4 atom-1 atom-5\" d=\"M 135.418,82.1566 L 117.669,92.3871\" style=\"fill:none;fill-rule:evenodd;stroke:#000000;stroke-width:2.0px;stroke-linecap:butt;stroke-linejoin:miter;stroke-opacity:1\"/>\n",
       "<path class=\"bond-4 atom-1 atom-5\" d=\"M 117.669,92.3871 L 99.9208,102.618\" style=\"fill:none;fill-rule:evenodd;stroke:#0000FF;stroke-width:2.0px;stroke-linecap:butt;stroke-linejoin:miter;stroke-opacity:1\"/>\n",
       "<path class=\"bond-2 atom-2 atom-3\" d=\"M 201.368,124.077 L 225.339,110.26\" style=\"fill:none;fill-rule:evenodd;stroke:#000000;stroke-width:2.0px;stroke-linecap:butt;stroke-linejoin:miter;stroke-opacity:1\"/>\n",
       "<path class=\"bond-2 atom-2 atom-3\" d=\"M 225.339,110.26 L 249.31,96.4427\" style=\"fill:none;fill-rule:evenodd;stroke:#FF0000;stroke-width:2.0px;stroke-linecap:butt;stroke-linejoin:miter;stroke-opacity:1\"/>\n",
       "<path class=\"bond-2 atom-2 atom-3\" d=\"M 194.858,112.782 L 218.829,98.9646\" style=\"fill:none;fill-rule:evenodd;stroke:#000000;stroke-width:2.0px;stroke-linecap:butt;stroke-linejoin:miter;stroke-opacity:1\"/>\n",
       "<path class=\"bond-2 atom-2 atom-3\" d=\"M 218.829,98.9646 L 242.8,85.1475\" style=\"fill:none;fill-rule:evenodd;stroke:#FF0000;stroke-width:2.0px;stroke-linecap:butt;stroke-linejoin:miter;stroke-opacity:1\"/>\n",
       "<path class=\"bond-3 atom-2 atom-4\" d=\"M 198.113,118.429 L 198.09,146.579\" style=\"fill:none;fill-rule:evenodd;stroke:#000000;stroke-width:2.0px;stroke-linecap:butt;stroke-linejoin:miter;stroke-opacity:1\"/>\n",
       "<path class=\"bond-3 atom-2 atom-4\" d=\"M 198.09,146.579 L 198.068,174.728\" style=\"fill:none;fill-rule:evenodd;stroke:#FF0000;stroke-width:2.0px;stroke-linecap:butt;stroke-linejoin:miter;stroke-opacity:1\"/>\n",
       "<path class=\"atom-3\" d=\"M 247.866 82.338 Q 247.866 75.538, 251.226 71.738 Q 254.586 67.938, 260.866 67.938 Q 267.146 67.938, 270.506 71.738 Q 273.866 75.538, 273.866 82.338 Q 273.866 89.218, 270.466 93.138 Q 267.066 97.018, 260.866 97.018 Q 254.626 97.018, 251.226 93.138 Q 247.866 89.258, 247.866 82.338 M 260.866 93.818 Q 265.186 93.818, 267.506 90.938 Q 269.866 88.018, 269.866 82.338 Q 269.866 76.778, 267.506 73.978 Q 265.186 71.138, 260.866 71.138 Q 256.546 71.138, 254.186 73.938 Q 251.866 76.738, 251.866 82.338 Q 251.866 88.058, 254.186 90.938 Q 256.546 93.818, 260.866 93.818 \" fill=\"#FF0000\"/>\n",
       "<path class=\"atom-4\" d=\"M 185.055 190.939 Q 185.055 184.139, 188.415 180.339 Q 191.775 176.539, 198.055 176.539 Q 204.335 176.539, 207.695 180.339 Q 211.055 184.139, 211.055 190.939 Q 211.055 197.819, 207.655 201.739 Q 204.255 205.619, 198.055 205.619 Q 191.815 205.619, 188.415 201.739 Q 185.055 197.859, 185.055 190.939 M 198.055 202.419 Q 202.375 202.419, 204.695 199.539 Q 207.055 196.619, 207.055 190.939 Q 207.055 185.379, 204.695 182.579 Q 202.375 179.739, 198.055 179.739 Q 193.735 179.739, 191.375 182.539 Q 189.055 185.339, 189.055 190.939 Q 189.055 196.659, 191.375 199.539 Q 193.735 202.419, 198.055 202.419 \" fill=\"#FF0000\"/>\n",
       "<path class=\"atom-4\" d=\"M 212.375 181.161 L 222.064 181.161 L 222.064 183.273 L 212.375 183.273 L 212.375 181.161 \" fill=\"#FF0000\"/>\n",
       "<path class=\"atom-5\" d=\"M 22.77 104.168 L 26.61 104.168 L 26.61 116.208 L 41.09 116.208 L 41.09 104.168 L 44.93 104.168 L 44.93 132.488 L 41.09 132.488 L 41.09 119.408 L 26.61 119.408 L 26.61 132.488 L 22.77 132.488 L 22.77 104.168 \" fill=\"#0000FF\"/>\n",
       "<path class=\"atom-5\" d=\"M 55.0148 136.801 Q 56.8364 137.329, 57.7076 138.517 Q 58.6052 139.678, 58.6052 141.526 Q 58.6052 143.11, 57.8132 144.351 Q 57.0212 145.565, 55.5692 146.252 Q 54.1172 146.912, 52.2164 146.912 Q 50.21 146.912, 48.7052 146.225 Q 47.2268 145.513, 46.0388 144.087 L 47.5436 142.556 Q 48.7052 143.823, 49.682 144.325 Q 50.6588 144.8, 52.2164 144.8 Q 53.906 144.8, 54.9356 143.902 Q 55.9652 142.978, 55.9652 141.5 Q 55.9652 139.599, 54.8828 138.754 Q 53.8268 137.883, 51.53 137.883 L 50.1836 137.883 L 50.1836 135.982 L 51.3716 135.982 Q 53.4044 135.956, 54.4868 135.085 Q 55.5692 134.187, 55.5692 132.524 Q 55.5692 131.309, 54.6716 130.597 Q 53.774 129.857, 52.2428 129.857 Q 50.6852 129.857, 49.7084 130.412 Q 48.758 130.966, 48.0188 132.365 L 46.1972 131.389 Q 46.8572 129.831, 48.4412 128.801 Q 50.0252 127.745, 52.2428 127.745 Q 54.9884 127.745, 56.5988 129.039 Q 58.2092 130.333, 58.2092 132.524 Q 58.2092 134.029, 57.3908 135.111 Q 56.5724 136.193, 55.0148 136.801 \" fill=\"#0000FF\"/>\n",
       "<path class=\"atom-5\" d=\"M 66.4052 104.168 L 75.6852 119.168 Q 76.6052 120.648, 78.0852 123.328 Q 79.5652 126.008, 79.6452 126.168 L 79.6452 104.168 L 83.4052 104.168 L 83.4052 132.488 L 79.5252 132.488 L 69.5652 116.088 Q 68.4052 114.168, 67.1652 111.968 Q 65.9652 109.768, 65.6052 109.088 L 65.6052 132.488 L 61.9252 132.488 L 61.9252 104.168 L 66.4052 104.168 \" fill=\"#0000FF\"/>\n",
       "<path class=\"atom-5\" d=\"M 85.7812 109.273 L 90.7708 109.273 L 90.7708 104.019 L 92.9884 104.019 L 92.9884 109.273 L 98.11 109.273 L 98.11 111.173 L 92.9884 111.173 L 92.9884 116.453 L 90.7708 116.453 L 90.7708 111.173 L 85.7812 111.173 L 85.7812 109.273 \" fill=\"#0000FF\"/>\n",
       "</svg>"
      ],
      "text/plain": [
       "<IPython.core.display.SVG object>"
      ]
     },
     "execution_count": 3,
     "metadata": {},
     "output_type": "execute_result"
    }
   ],
   "source": [
    "smiles_explicit_h = Molecule.from_smiles(\n",
    "    \"[H][C]([H])([H])[C@@]([H])([C](=[O])[O-])[N+]([H])([H])[H]\", \n",
    "    hydrogens_are_explicit=True\n",
    ")\n",
    "\n",
    "assert zw_l_alanine.is_isomorphic_with(smiles_explicit_h)\n",
    "\n",
    "visualize(smiles_explicit_h)"
   ]
  },
  {
   "cell_type": "markdown",
   "id": "6e1adb21",
   "metadata": {},
   "source": [
    "### Mapped SMILES\n",
    "\n",
    "By default, no guarantees are made about the indexing of atoms from a SMILES string. If the indexing is important, a mapped SMILES string may be used. In this case, Hydrogens must be explicit. Note that though mapped SMILES strings must start at index 1, Python lists start at index 0."
   ]
  },
  {
   "cell_type": "code",
   "execution_count": 128,
   "id": "178de2c5",
   "metadata": {},
   "outputs": [
    {
     "data": {
      "image/svg+xml": [
       "<svg baseProfile=\"full\" height=\"214px\" version=\"1.1\" viewBox=\"0 0 300 214\" width=\"300px\" xml:space=\"preserve\" xmlns=\"http://www.w3.org/2000/svg\" xmlns:rdkit=\"http://www.rdkit.org/xml\" xmlns:xlink=\"http://www.w3.org/1999/xlink\">\n",
       "<!-- END OF HEADER -->\n",
       "<rect height=\"214\" style=\"opacity:1.0;fill:#FFFFFF;stroke:none\" width=\"300\" x=\"0\" y=\"0\"> </rect>\n",
       "<path class=\"bond-0 atom-0 atom-3\" d=\"M 95.1922,105.438 L 115.281,93.8207\" style=\"fill:none;fill-rule:evenodd;stroke:#0000FF;stroke-width:2.0px;stroke-linecap:butt;stroke-linejoin:miter;stroke-opacity:1\"/>\n",
       "<path class=\"bond-0 atom-0 atom-3\" d=\"M 115.281,93.8207 L 135.369,82.203\" style=\"fill:none;fill-rule:evenodd;stroke:#000000;stroke-width:2.0px;stroke-linecap:butt;stroke-linejoin:miter;stroke-opacity:1\"/>\n",
       "<path class=\"bond-1 atom-3 atom-1\" d=\"M 135.369,82.203 L 141.834,9.72205 L 128.788,9.73249 Z\" style=\"fill:#000000;fill-rule:evenodd;fill-opacity:1;stroke:#000000;stroke-width:2.0px;stroke-linecap:butt;stroke-linejoin:miter;stroke-opacity:1;\"/>\n",
       "<path class=\"bond-2 atom-2 atom-3\" d=\"M 198.162,118.383 L 135.369,82.203\" style=\"fill:none;fill-rule:evenodd;stroke:#000000;stroke-width:2.0px;stroke-linecap:butt;stroke-linejoin:miter;stroke-opacity:1\"/>\n",
       "<path class=\"bond-3 atom-2 atom-4\" d=\"M 201.427,124.029 L 226.589,109.478\" style=\"fill:none;fill-rule:evenodd;stroke:#000000;stroke-width:2.0px;stroke-linecap:butt;stroke-linejoin:miter;stroke-opacity:1\"/>\n",
       "<path class=\"bond-3 atom-2 atom-4\" d=\"M 226.589,109.478 L 251.751,94.9259\" style=\"fill:none;fill-rule:evenodd;stroke:#FF0000;stroke-width:2.0px;stroke-linecap:butt;stroke-linejoin:miter;stroke-opacity:1\"/>\n",
       "<path class=\"bond-3 atom-2 atom-4\" d=\"M 194.896,112.736 L 220.058,98.1846\" style=\"fill:none;fill-rule:evenodd;stroke:#000000;stroke-width:2.0px;stroke-linecap:butt;stroke-linejoin:miter;stroke-opacity:1\"/>\n",
       "<path class=\"bond-3 atom-2 atom-4\" d=\"M 220.058,98.1846 L 245.22,83.6328\" style=\"fill:none;fill-rule:evenodd;stroke:#FF0000;stroke-width:2.0px;stroke-linecap:butt;stroke-linejoin:miter;stroke-opacity:1\"/>\n",
       "<path class=\"bond-4 atom-2 atom-5\" d=\"M 198.162,118.383 L 198.186,147.877\" style=\"fill:none;fill-rule:evenodd;stroke:#000000;stroke-width:2.0px;stroke-linecap:butt;stroke-linejoin:miter;stroke-opacity:1\"/>\n",
       "<path class=\"bond-4 atom-2 atom-5\" d=\"M 198.186,147.877 L 198.209,177.371\" style=\"fill:none;fill-rule:evenodd;stroke:#FF0000;stroke-width:2.0px;stroke-linecap:butt;stroke-linejoin:miter;stroke-opacity:1\"/>\n",
       "<path class=\"atom-0\" d=\"M 31.9518 106.939 L 35.0827 106.939 L 35.0827 116.756 L 46.889 116.756 L 46.889 106.939 L 50.02 106.939 L 50.02 130.03 L 46.889 130.03 L 46.889 119.365 L 35.0827 119.365 L 35.0827 130.03 L 31.9518 130.03 L 31.9518 106.939 \" fill=\"#0000FF\"/>\n",
       "<path class=\"atom-0\" d=\"M 58.2426 133.546 Q 59.7279 133.977, 60.4382 134.945 Q 61.1701 135.892, 61.1701 137.399 Q 61.1701 138.691, 60.5243 139.702 Q 59.8786 140.693, 58.6947 141.252 Q 57.5108 141.79, 55.961 141.79 Q 54.325 141.79, 53.0981 141.231 Q 51.8927 140.65, 50.924 139.487 L 52.151 138.239 Q 53.0981 139.272, 53.8945 139.681 Q 54.691 140.068, 55.961 140.068 Q 57.3386 140.068, 58.1781 139.337 Q 59.0175 138.583, 59.0175 137.378 Q 59.0175 135.828, 58.135 135.139 Q 57.274 134.429, 55.4013 134.429 L 54.3035 134.429 L 54.3035 132.879 L 55.2721 132.879 Q 56.9296 132.857, 57.8121 132.147 Q 58.6947 131.415, 58.6947 130.059 Q 58.6947 129.069, 57.9628 128.488 Q 57.2309 127.885, 55.9825 127.885 Q 54.7125 127.885, 53.9161 128.337 Q 53.1411 128.789, 52.5384 129.93 L 51.0532 129.134 Q 51.5913 127.864, 52.8828 127.024 Q 54.1744 126.163, 55.9825 126.163 Q 58.2211 126.163, 59.5342 127.218 Q 60.8472 128.273, 60.8472 130.059 Q 60.8472 131.286, 60.1799 132.169 Q 59.5126 133.051, 58.2426 133.546 \" fill=\"#0000FF\"/>\n",
       "<path class=\"atom-0\" d=\"M 67.5298 106.939 L 75.0963 119.169 Q 75.8464 120.376, 77.0531 122.561 Q 78.2599 124.746, 78.3251 124.877 L 78.3251 106.939 L 81.3908 106.939 L 81.3908 130.03 L 78.2272 130.03 L 70.1063 116.658 Q 69.1605 115.093, 68.1495 113.299 Q 67.1711 111.505, 66.8775 110.951 L 66.8775 130.03 L 63.877 130.03 L 63.877 106.939 L 67.5298 106.939 \" fill=\"#0000FF\"/>\n",
       "<path class=\"atom-0\" d=\"M 83.3281 111.101 L 87.3964 111.101 L 87.3964 106.818 L 89.2045 106.818 L 89.2045 111.101 L 93.3804 111.101 L 93.3804 112.651 L 89.2045 112.651 L 89.2045 116.956 L 87.3964 116.956 L 87.3964 112.651 L 83.3281 112.651 L 83.3281 111.101 \" fill=\"#0000FF\"/>\n",
       "<path class=\"atom-4\" d=\"M 250.297 82.1668 Q 250.297 76.6224, 253.037 73.524 Q 255.777 70.4257, 260.897 70.4257 Q 266.017 70.4257, 268.757 73.524 Q 271.496 76.6224, 271.496 82.1668 Q 271.496 87.7764, 268.724 90.9726 Q 265.952 94.1361, 260.897 94.1361 Q 255.809 94.1361, 253.037 90.9726 Q 250.297 87.809, 250.297 82.1668 M 260.897 91.527 Q 264.419 91.527, 266.311 89.1788 Q 268.235 86.798, 268.235 82.1668 Q 268.235 77.6334, 266.311 75.3504 Q 264.419 73.0348, 260.897 73.0348 Q 257.375 73.0348, 255.45 75.3178 Q 253.559 77.6008, 253.559 82.1668 Q 253.559 86.8306, 255.45 89.1788 Q 257.375 91.527, 260.897 91.527 \" fill=\"#FF0000\"/>\n",
       "<path class=\"atom-5\" d=\"M 187.62 190.924 Q 187.62 185.379, 190.36 182.281 Q 193.099 179.183, 198.22 179.183 Q 203.34 179.183, 206.08 182.281 Q 208.819 185.379, 208.819 190.924 Q 208.819 196.533, 206.047 199.73 Q 203.275 202.893, 198.22 202.893 Q 193.132 202.893, 190.36 199.73 Q 187.62 196.566, 187.62 190.924 M 198.22 200.284 Q 201.742 200.284, 203.634 197.936 Q 205.558 195.555, 205.558 190.924 Q 205.558 186.391, 203.634 184.108 Q 201.742 181.792, 198.22 181.792 Q 194.698 181.792, 192.773 184.075 Q 190.882 186.358, 190.882 190.924 Q 190.882 195.588, 192.773 197.936 Q 194.698 200.284, 198.22 200.284 \" fill=\"#FF0000\"/>\n",
       "<path class=\"atom-5\" d=\"M 209.896 182.952 L 217.796 182.952 L 217.796 184.674 L 209.896 184.674 L 209.896 182.952 \" fill=\"#FF0000\"/>\n",
       "</svg>"
      ],
      "text/plain": [
       "<IPython.core.display.SVG object>"
      ]
     },
     "execution_count": 128,
     "metadata": {},
     "output_type": "execute_result"
    }
   ],
   "source": [
    "mapped_smiles = Molecule.from_mapped_smiles(\n",
    "    \"[H:10][C:2]([H:7])([H:8])[C@@:4]([H:9])([C:3](=[O:5])[O-:6])[N+:1]([H:11])([H:12])[H:13]\"\n",
    ")\n",
    "\n",
    "assert zw_l_alanine.is_isomorphic_with(mapped_smiles)\n",
    "\n",
    "assert mapped_smiles.atoms[0].atomic_number == 7 # First index is the Nitrogen\n",
    "assert all([a.atomic_number==1 for a in mapped_smiles.atoms[6:]]) # Final indices are all H\n",
    "\n",
    "visualize(mapped_smiles)"
   ]
  },
  {
   "cell_type": "markdown",
   "id": "6897144e",
   "metadata": {},
   "source": [
    "### SMILES without stereochemistry\n",
    "\n",
    "The Toolkit won't accept an ambiguous SMILES. This SMILES could be L- or D- alanine; rather than guess, the Toolkit throws an error:"
   ]
  },
  {
   "cell_type": "code",
   "execution_count": 5,
   "id": "ec669ad6",
   "metadata": {
    "scrolled": true,
    "tags": [
     "raises-exception"
    ]
   },
   "outputs": [
    {
     "ename": "UndefinedStereochemistryError",
     "evalue": "Unable to make OFFMol from RDMol: Unable to make OFFMol from SMILES: RDMol has unspecified stereochemistry. Undefined chiral centers are:\n - Atom C (index 1)\n",
     "output_type": "error",
     "traceback": [
      "\u001b[0;31mUndefinedStereochemistryError\u001b[0m\u001b[0;31m:\u001b[0m Unable to make OFFMol from RDMol: Unable to make OFFMol from SMILES: RDMol has unspecified stereochemistry. Undefined chiral centers are:\n - Atom C (index 1)\n\n"
     ]
    }
   ],
   "source": [
    "smiles_non_isomeric = Molecule.from_smiles(\n",
    "    \"CC([NH3+])C(=O)[O-]\"\n",
    ")"
   ]
  },
  {
   "cell_type": "markdown",
   "id": "821c4687",
   "metadata": {},
   "source": [
    "We can downgrade this error to a warning with the `allow_undefined_stereo` argument. This will not apply an improper dihedral term to the stereocenter and may lead to simulations with unphysical stereoisomerisation."
   ]
  },
  {
   "cell_type": "code",
   "execution_count": 6,
   "id": "278e3cb1",
   "metadata": {},
   "outputs": [
    {
     "name": "stderr",
     "output_type": "stream",
     "text": [
      "Warning (not error because allow_undefined_stereo=True): Unable to make OFFMol from RDMol: RDMol has unspecified stereochemistry. Undefined chiral centers are:\n",
      " - Atom C (index 1)\n",
      "\n"
     ]
    },
    {
     "data": {
      "image/svg+xml": [
       "<svg baseProfile=\"full\" height=\"214px\" version=\"1.1\" viewBox=\"0 0 300 214\" width=\"300px\" xml:space=\"preserve\" xmlns=\"http://www.w3.org/2000/svg\" xmlns:rdkit=\"http://www.rdkit.org/xml\" xmlns:xlink=\"http://www.w3.org/1999/xlink\">\n",
       "<!-- END OF HEADER -->\n",
       "<rect height=\"214\" style=\"opacity:1.0;fill:#FFFFFF;stroke:none\" width=\"300\" x=\"0\" y=\"0\"> </rect>\n",
       "<path class=\"bond-0 atom-0 atom-1\" d=\"M 135.476,9.72727 L 135.418,82.1566\" style=\"fill:none;fill-rule:evenodd;stroke:#000000;stroke-width:2.0px;stroke-linecap:butt;stroke-linejoin:miter;stroke-opacity:1\"/>\n",
       "<path class=\"bond-1 atom-1 atom-2\" d=\"M 135.418,82.1566 L 117.669,92.3871\" style=\"fill:none;fill-rule:evenodd;stroke:#000000;stroke-width:2.0px;stroke-linecap:butt;stroke-linejoin:miter;stroke-opacity:1\"/>\n",
       "<path class=\"bond-1 atom-1 atom-2\" d=\"M 117.669,92.3871 L 99.9208,102.618\" style=\"fill:none;fill-rule:evenodd;stroke:#0000FF;stroke-width:2.0px;stroke-linecap:butt;stroke-linejoin:miter;stroke-opacity:1\"/>\n",
       "<path class=\"bond-2 atom-1 atom-3\" d=\"M 135.418,82.1566 L 198.113,118.429\" style=\"fill:none;fill-rule:evenodd;stroke:#000000;stroke-width:2.0px;stroke-linecap:butt;stroke-linejoin:miter;stroke-opacity:1\"/>\n",
       "<path class=\"bond-3 atom-3 atom-4\" d=\"M 201.368,124.077 L 225.339,110.26\" style=\"fill:none;fill-rule:evenodd;stroke:#000000;stroke-width:2.0px;stroke-linecap:butt;stroke-linejoin:miter;stroke-opacity:1\"/>\n",
       "<path class=\"bond-3 atom-3 atom-4\" d=\"M 225.339,110.26 L 249.31,96.4427\" style=\"fill:none;fill-rule:evenodd;stroke:#FF0000;stroke-width:2.0px;stroke-linecap:butt;stroke-linejoin:miter;stroke-opacity:1\"/>\n",
       "<path class=\"bond-3 atom-3 atom-4\" d=\"M 194.858,112.782 L 218.829,98.9646\" style=\"fill:none;fill-rule:evenodd;stroke:#000000;stroke-width:2.0px;stroke-linecap:butt;stroke-linejoin:miter;stroke-opacity:1\"/>\n",
       "<path class=\"bond-3 atom-3 atom-4\" d=\"M 218.829,98.9646 L 242.8,85.1475\" style=\"fill:none;fill-rule:evenodd;stroke:#FF0000;stroke-width:2.0px;stroke-linecap:butt;stroke-linejoin:miter;stroke-opacity:1\"/>\n",
       "<path class=\"bond-4 atom-3 atom-5\" d=\"M 198.113,118.429 L 198.09,146.579\" style=\"fill:none;fill-rule:evenodd;stroke:#000000;stroke-width:2.0px;stroke-linecap:butt;stroke-linejoin:miter;stroke-opacity:1\"/>\n",
       "<path class=\"bond-4 atom-3 atom-5\" d=\"M 198.09,146.579 L 198.068,174.728\" style=\"fill:none;fill-rule:evenodd;stroke:#FF0000;stroke-width:2.0px;stroke-linecap:butt;stroke-linejoin:miter;stroke-opacity:1\"/>\n",
       "<path class=\"atom-2\" d=\"M 22.77 104.168 L 26.61 104.168 L 26.61 116.208 L 41.09 116.208 L 41.09 104.168 L 44.93 104.168 L 44.93 132.488 L 41.09 132.488 L 41.09 119.408 L 26.61 119.408 L 26.61 132.488 L 22.77 132.488 L 22.77 104.168 \" fill=\"#0000FF\"/>\n",
       "<path class=\"atom-2\" d=\"M 55.0148 136.801 Q 56.8364 137.329, 57.7076 138.517 Q 58.6052 139.678, 58.6052 141.526 Q 58.6052 143.11, 57.8132 144.351 Q 57.0212 145.565, 55.5692 146.252 Q 54.1172 146.912, 52.2164 146.912 Q 50.21 146.912, 48.7052 146.225 Q 47.2268 145.513, 46.0388 144.087 L 47.5436 142.556 Q 48.7052 143.823, 49.682 144.325 Q 50.6588 144.8, 52.2164 144.8 Q 53.906 144.8, 54.9356 143.902 Q 55.9652 142.978, 55.9652 141.5 Q 55.9652 139.599, 54.8828 138.754 Q 53.8268 137.883, 51.53 137.883 L 50.1836 137.883 L 50.1836 135.982 L 51.3716 135.982 Q 53.4044 135.956, 54.4868 135.085 Q 55.5692 134.187, 55.5692 132.524 Q 55.5692 131.309, 54.6716 130.597 Q 53.774 129.857, 52.2428 129.857 Q 50.6852 129.857, 49.7084 130.412 Q 48.758 130.966, 48.0188 132.365 L 46.1972 131.389 Q 46.8572 129.831, 48.4412 128.801 Q 50.0252 127.745, 52.2428 127.745 Q 54.9884 127.745, 56.5988 129.039 Q 58.2092 130.333, 58.2092 132.524 Q 58.2092 134.029, 57.3908 135.111 Q 56.5724 136.193, 55.0148 136.801 \" fill=\"#0000FF\"/>\n",
       "<path class=\"atom-2\" d=\"M 66.4052 104.168 L 75.6852 119.168 Q 76.6052 120.648, 78.0852 123.328 Q 79.5652 126.008, 79.6452 126.168 L 79.6452 104.168 L 83.4052 104.168 L 83.4052 132.488 L 79.5252 132.488 L 69.5652 116.088 Q 68.4052 114.168, 67.1652 111.968 Q 65.9652 109.768, 65.6052 109.088 L 65.6052 132.488 L 61.9252 132.488 L 61.9252 104.168 L 66.4052 104.168 \" fill=\"#0000FF\"/>\n",
       "<path class=\"atom-2\" d=\"M 85.7812 109.273 L 90.7708 109.273 L 90.7708 104.019 L 92.9884 104.019 L 92.9884 109.273 L 98.11 109.273 L 98.11 111.173 L 92.9884 111.173 L 92.9884 116.453 L 90.7708 116.453 L 90.7708 111.173 L 85.7812 111.173 L 85.7812 109.273 \" fill=\"#0000FF\"/>\n",
       "<path class=\"atom-4\" d=\"M 247.866 82.338 Q 247.866 75.538, 251.226 71.738 Q 254.586 67.938, 260.866 67.938 Q 267.146 67.938, 270.506 71.738 Q 273.866 75.538, 273.866 82.338 Q 273.866 89.218, 270.466 93.138 Q 267.066 97.018, 260.866 97.018 Q 254.626 97.018, 251.226 93.138 Q 247.866 89.258, 247.866 82.338 M 260.866 93.818 Q 265.186 93.818, 267.506 90.938 Q 269.866 88.018, 269.866 82.338 Q 269.866 76.778, 267.506 73.978 Q 265.186 71.138, 260.866 71.138 Q 256.546 71.138, 254.186 73.938 Q 251.866 76.738, 251.866 82.338 Q 251.866 88.058, 254.186 90.938 Q 256.546 93.818, 260.866 93.818 \" fill=\"#FF0000\"/>\n",
       "<path class=\"atom-5\" d=\"M 185.055 190.939 Q 185.055 184.139, 188.415 180.339 Q 191.775 176.539, 198.055 176.539 Q 204.335 176.539, 207.695 180.339 Q 211.055 184.139, 211.055 190.939 Q 211.055 197.819, 207.655 201.739 Q 204.255 205.619, 198.055 205.619 Q 191.815 205.619, 188.415 201.739 Q 185.055 197.859, 185.055 190.939 M 198.055 202.419 Q 202.375 202.419, 204.695 199.539 Q 207.055 196.619, 207.055 190.939 Q 207.055 185.379, 204.695 182.579 Q 202.375 179.739, 198.055 179.739 Q 193.735 179.739, 191.375 182.539 Q 189.055 185.339, 189.055 190.939 Q 189.055 196.659, 191.375 199.539 Q 193.735 202.419, 198.055 202.419 \" fill=\"#FF0000\"/>\n",
       "<path class=\"atom-5\" d=\"M 212.375 181.161 L 222.064 181.161 L 222.064 183.273 L 212.375 183.273 L 212.375 181.161 \" fill=\"#FF0000\"/>\n",
       "</svg>"
      ],
      "text/plain": [
       "<IPython.core.display.SVG object>"
      ]
     },
     "execution_count": 6,
     "metadata": {},
     "output_type": "execute_result"
    }
   ],
   "source": [
    "smiles_non_isomeric = Molecule.from_smiles(\n",
    "    \"CC([NH3+])C(=O)[O-]\",\n",
    "    allow_undefined_stereo=True\n",
    ")\n",
    "\n",
    "assert not zw_l_alanine.is_isomorphic_with(smiles_non_isomeric)\n",
    "\n",
    "visualize(smiles_non_isomeric)"
   ]
  },
  {
   "cell_type": "markdown",
   "id": "da716060",
   "metadata": {},
   "source": [
    "## By hand\n",
    "\n",
    "You can always construct a `Molecule` by building it up from individual atoms and bonds. Other methods are generally easier, but it's a useful fallback for when you need to write your own constructor for an unsupported source format.\n",
    "\n",
    "The [`Molecule()`](openff.toolkit.topology.Molecule.__init__) constructor and the [`add_atom()`](openff.toolkit.topology.Molecule.add_atom) and [`add_bond()`](openff.toolkit.topology.Molecule.add_bond) methods are used to construct a `Molecule` by hand."
   ]
  },
  {
   "cell_type": "code",
   "execution_count": 7,
   "id": "aa8746eb",
   "metadata": {},
   "outputs": [
    {
     "data": {
      "image/svg+xml": [
       "<svg baseProfile=\"full\" height=\"214px\" version=\"1.1\" viewBox=\"0 0 300 214\" width=\"300px\" xml:space=\"preserve\" xmlns=\"http://www.w3.org/2000/svg\" xmlns:rdkit=\"http://www.rdkit.org/xml\" xmlns:xlink=\"http://www.w3.org/1999/xlink\">\n",
       "<!-- END OF HEADER -->\n",
       "<rect height=\"214\" style=\"opacity:1.0;fill:#FFFFFF;stroke:none\" width=\"300\" x=\"0\" y=\"0\"> </rect>\n",
       "<path class=\"bond-0 atom-0 atom-1\" d=\"M 197.826,174.73 L 197.933,146.614\" style=\"fill:none;fill-rule:evenodd;stroke:#FF0000;stroke-width:2.0px;stroke-linecap:butt;stroke-linejoin:miter;stroke-opacity:1\"/>\n",
       "<path class=\"bond-0 atom-0 atom-1\" d=\"M 197.933,146.614 L 198.039,118.499\" style=\"fill:none;fill-rule:evenodd;stroke:#000000;stroke-width:2.0px;stroke-linecap:butt;stroke-linejoin:miter;stroke-opacity:1\"/>\n",
       "<path class=\"bond-1 atom-1 atom-2\" d=\"M 201.276,124.15 L 225.268,110.409\" style=\"fill:none;fill-rule:evenodd;stroke:#000000;stroke-width:2.0px;stroke-linecap:butt;stroke-linejoin:miter;stroke-opacity:1\"/>\n",
       "<path class=\"bond-1 atom-1 atom-2\" d=\"M 225.268,110.409 L 249.261,96.6684\" style=\"fill:none;fill-rule:evenodd;stroke:#FF0000;stroke-width:2.0px;stroke-linecap:butt;stroke-linejoin:miter;stroke-opacity:1\"/>\n",
       "<path class=\"bond-1 atom-1 atom-2\" d=\"M 194.803,112.848 L 218.795,99.1067\" style=\"fill:none;fill-rule:evenodd;stroke:#000000;stroke-width:2.0px;stroke-linecap:butt;stroke-linejoin:miter;stroke-opacity:1\"/>\n",
       "<path class=\"bond-1 atom-1 atom-2\" d=\"M 218.795,99.1067 L 242.788,85.366\" style=\"fill:none;fill-rule:evenodd;stroke:#FF0000;stroke-width:2.0px;stroke-linecap:butt;stroke-linejoin:miter;stroke-opacity:1\"/>\n",
       "<path class=\"bond-2 atom-1 atom-3\" d=\"M 198.039,118.499 L 135.491,82.0872\" style=\"fill:none;fill-rule:evenodd;stroke:#000000;stroke-width:2.0px;stroke-linecap:butt;stroke-linejoin:miter;stroke-opacity:1\"/>\n",
       "<path class=\"bond-3 atom-3 atom-4\" d=\"M 135.491,82.0872 L 142.279,9.75202 L 129.254,9.70253 Z\" style=\"fill:#000000;fill-rule:evenodd;fill-opacity:1;stroke:#000000;stroke-width:2.0px;stroke-linecap:butt;stroke-linejoin:miter;stroke-opacity:1;\"/>\n",
       "<path class=\"bond-4 atom-3 atom-5\" d=\"M 135.491,82.0872 L 117.721,92.2643\" style=\"fill:none;fill-rule:evenodd;stroke:#000000;stroke-width:2.0px;stroke-linecap:butt;stroke-linejoin:miter;stroke-opacity:1\"/>\n",
       "<path class=\"bond-4 atom-3 atom-5\" d=\"M 117.721,92.2643 L 99.9514,102.441\" style=\"fill:none;fill-rule:evenodd;stroke:#0000FF;stroke-width:2.0px;stroke-linecap:butt;stroke-linejoin:miter;stroke-opacity:1\"/>\n",
       "<path class=\"atom-0\" d=\"M 184.764 190.939 Q 184.764 184.139, 188.124 180.339 Q 191.484 176.539, 197.764 176.539 Q 204.044 176.539, 207.404 180.339 Q 210.764 184.139, 210.764 190.939 Q 210.764 197.819, 207.364 201.739 Q 203.964 205.619, 197.764 205.619 Q 191.524 205.619, 188.124 201.739 Q 184.764 197.859, 184.764 190.939 M 197.764 202.419 Q 202.084 202.419, 204.404 199.539 Q 206.764 196.619, 206.764 190.939 Q 206.764 185.379, 204.404 182.579 Q 202.084 179.739, 197.764 179.739 Q 193.444 179.739, 191.084 182.539 Q 188.764 185.339, 188.764 190.939 Q 188.764 196.659, 191.084 199.539 Q 193.444 202.419, 197.764 202.419 \" fill=\"#FF0000\"/>\n",
       "<path class=\"atom-0\" d=\"M 212.084 181.161 L 221.773 181.161 L 221.773 183.273 L 212.084 183.273 L 212.084 181.161 \" fill=\"#FF0000\"/>\n",
       "<path class=\"atom-2\" d=\"M 247.833 82.6158 Q 247.833 75.8158, 251.193 72.0158 Q 254.553 68.2158, 260.833 68.2158 Q 267.113 68.2158, 270.473 72.0158 Q 273.833 75.8158, 273.833 82.6158 Q 273.833 89.4958, 270.433 93.4158 Q 267.033 97.2958, 260.833 97.2958 Q 254.593 97.2958, 251.193 93.4158 Q 247.833 89.5358, 247.833 82.6158 M 260.833 94.0958 Q 265.153 94.0958, 267.473 91.2158 Q 269.833 88.2958, 269.833 82.6158 Q 269.833 77.0558, 267.473 74.2558 Q 265.153 71.4158, 260.833 71.4158 Q 256.513 71.4158, 254.153 74.2158 Q 251.833 77.0158, 251.833 82.6158 Q 251.833 88.3358, 254.153 91.2158 Q 256.513 94.0958, 260.833 94.0958 \" fill=\"#FF0000\"/>\n",
       "<path class=\"atom-5\" d=\"M 22.8023 103.89 L 26.6423 103.89 L 26.6423 115.93 L 41.1223 115.93 L 41.1223 103.89 L 44.9623 103.89 L 44.9623 132.21 L 41.1223 132.21 L 41.1223 119.13 L 26.6423 119.13 L 26.6423 132.21 L 22.8023 132.21 L 22.8023 103.89 \" fill=\"#0000FF\"/>\n",
       "<path class=\"atom-5\" d=\"M 55.0471 136.523 Q 56.8687 137.051, 57.7399 138.239 Q 58.6375 139.4, 58.6375 141.248 Q 58.6375 142.832, 57.8455 144.073 Q 57.0535 145.288, 55.6015 145.974 Q 54.1495 146.634, 52.2487 146.634 Q 50.2423 146.634, 48.7375 145.948 Q 47.2591 145.235, 46.0711 143.809 L 47.5759 142.278 Q 48.7375 143.545, 49.7143 144.047 Q 50.6911 144.522, 52.2487 144.522 Q 53.9383 144.522, 54.9679 143.624 Q 55.9975 142.7, 55.9975 141.222 Q 55.9975 139.321, 54.9151 138.476 Q 53.8591 137.605, 51.5623 137.605 L 50.2159 137.605 L 50.2159 135.704 L 51.4039 135.704 Q 53.4367 135.678, 54.5191 134.807 Q 55.6015 133.909, 55.6015 132.246 Q 55.6015 131.032, 54.7039 130.319 Q 53.8063 129.58, 52.2751 129.58 Q 50.7175 129.58, 49.7407 130.134 Q 48.7903 130.688, 48.0511 132.088 L 46.2295 131.111 Q 46.8895 129.553, 48.4735 128.524 Q 50.0575 127.468, 52.2751 127.468 Q 55.0207 127.468, 56.6311 128.761 Q 58.2415 130.055, 58.2415 132.246 Q 58.2415 133.751, 57.4231 134.833 Q 56.6047 135.916, 55.0471 136.523 \" fill=\"#0000FF\"/>\n",
       "<path class=\"atom-5\" d=\"M 66.4375 103.89 L 75.7175 118.89 Q 76.6375 120.37, 78.1175 123.05 Q 79.5975 125.73, 79.6775 125.89 L 79.6775 103.89 L 83.4375 103.89 L 83.4375 132.21 L 79.5575 132.21 L 69.5975 115.81 Q 68.4375 113.89, 67.1975 111.69 Q 65.9975 109.49, 65.6375 108.81 L 65.6375 132.21 L 61.9575 132.21 L 61.9575 103.89 L 66.4375 103.89 \" fill=\"#0000FF\"/>\n",
       "<path class=\"atom-5\" d=\"M 85.8135 108.995 L 90.8031 108.995 L 90.8031 103.741 L 93.0207 103.741 L 93.0207 108.995 L 98.1423 108.995 L 98.1423 110.896 L 93.0207 110.896 L 93.0207 116.176 L 90.8031 116.176 L 90.8031 110.896 L 85.8135 110.896 L 85.8135 108.995 \" fill=\"#0000FF\"/>\n",
       "</svg>"
      ],
      "text/plain": [
       "<IPython.core.display.SVG object>"
      ]
     },
     "execution_count": 7,
     "metadata": {},
     "output_type": "execute_result"
    }
   ],
   "source": [
    "by_hand = Molecule()\n",
    "by_hand.name = \"Zwitterionic l-Alanine\"\n",
    "\n",
    "by_hand.add_atom(\n",
    "    atomic_number = 8, # Atomic number 8 is Oxygen\n",
    "    formal_charge = -1, # Formal negative charge\n",
    "    is_aromatic = False, # Atom is not part of an aromatic system\n",
    "    stereochemistry = None, # Optional argument; \"R\" or \"S\" stereochemistry\n",
    "    name = \"O-\" # Optional argument; descriptive name for the atom\n",
    ")\n",
    "by_hand.add_atom(6,  0, False, name=\"C\")\n",
    "by_hand.add_atom(8,  0, False, name=\"O\")\n",
    "by_hand.add_atom(6,  0, False, stereochemistry=\"S\", name=\"CA\")\n",
    "by_hand.add_atom(1,  0, False, name=\"CAH\")\n",
    "by_hand.add_atom(6,  0, False, name=\"CB\")\n",
    "by_hand.add_atom(1,  0, False, name=\"HB1\")\n",
    "by_hand.add_atom(1,  0, False, name=\"HB2\")\n",
    "by_hand.add_atom(1,  0, False, name=\"HB3\")\n",
    "by_hand.add_atom(7, +1, False, name=\"N+\")\n",
    "by_hand.add_atom(1,  0, False, name=\"HN1\")\n",
    "by_hand.add_atom(1,  0, False, name=\"HN2\")\n",
    "by_hand.add_atom(1,  0, False, name=\"HN3\")\n",
    "\n",
    "\n",
    "by_hand.add_bond( \n",
    "    atom1 = 0, # First (zero-indexed) atom specified above (\"O-\")  \n",
    "    atom2 = 1, # Second atom specified above (\"C\")\n",
    "    bond_order = 1, # Single bond\n",
    "    is_aromatic = False, # Bond is not aromatic\n",
    "    stereochemistry = None, # Optional argument; \"E\" or \"Z\" stereochemistry\n",
    "    fractional_bond_order = None # Optional argument; Wiberg (or similar) bond order\n",
    ")\n",
    "by_hand.add_bond( 1,  2, 2, False) # C = O\n",
    "by_hand.add_bond( 1,  3, 1, False) # C - CA\n",
    "by_hand.add_bond( 3,  4, 1, False) # CA - CAH\n",
    "by_hand.add_bond( 3,  5, 1, False) # CA - CB\n",
    "by_hand.add_bond( 5,  6, 1, False) # CB - HB1\n",
    "by_hand.add_bond( 5,  7, 1, False) # CB - HB2\n",
    "by_hand.add_bond( 5,  8, 1, False) # CB - HB3\n",
    "by_hand.add_bond( 3,  9, 1, False) # CB - N+\n",
    "by_hand.add_bond( 9, 10, 1, False) # N+ - HN1\n",
    "by_hand.add_bond( 9, 11, 1, False) # N+ - HN2\n",
    "by_hand.add_bond( 9, 12, 1, False) # N+ - HN3\n",
    "\n",
    "assert zw_l_alanine.is_isomorphic_with(by_hand)\n",
    "\n",
    "visualize(by_hand)"
   ]
  },
  {
   "cell_type": "markdown",
   "id": "1b50a800",
   "metadata": {},
   "source": [
    "## From a file\n",
    "\n",
    "We can construct a `Molecule` from a file or file-like object with the [`from_file()`](openff.toolkit.topology.Molecule.from_file) method. We're a bit constrained in what file formats we can accept, because they need to provide all the information needed to construct the molecular graph; not just coordinates, but also elements, formal charges, bond orders, and stereochemistry."
   ]
  },
  {
   "cell_type": "markdown",
   "id": "79aec960",
   "metadata": {},
   "source": [
    "### From SDF file\n",
    "\n",
    "We generally recommend the SDF format."
   ]
  },
  {
   "cell_type": "code",
   "execution_count": 8,
   "id": "a78e4e0f",
   "metadata": {},
   "outputs": [
    {
     "data": {
      "image/svg+xml": [
       "<svg baseProfile=\"full\" height=\"214px\" version=\"1.1\" viewBox=\"0 0 300 214\" width=\"300px\" xml:space=\"preserve\" xmlns=\"http://www.w3.org/2000/svg\" xmlns:rdkit=\"http://www.rdkit.org/xml\" xmlns:xlink=\"http://www.w3.org/1999/xlink\">\n",
       "<!-- END OF HEADER -->\n",
       "<rect height=\"214\" style=\"opacity:1.0;fill:#FFFFFF;stroke:none\" width=\"300\" x=\"0\" y=\"0\"> </rect>\n",
       "<path class=\"bond-0 atom-1 atom-0\" d=\"M 135.418,82.1566 L 141.995,9.73249 L 128.957,9.72206 Z\" style=\"fill:#000000;fill-rule:evenodd;fill-opacity:1;stroke:#000000;stroke-width:2.0px;stroke-linecap:butt;stroke-linejoin:miter;stroke-opacity:1;\"/>\n",
       "<path class=\"bond-1 atom-1 atom-2\" d=\"M 135.418,82.1566 L 117.669,92.3871\" style=\"fill:none;fill-rule:evenodd;stroke:#000000;stroke-width:2.0px;stroke-linecap:butt;stroke-linejoin:miter;stroke-opacity:1\"/>\n",
       "<path class=\"bond-1 atom-1 atom-2\" d=\"M 117.669,92.3871 L 99.9208,102.618\" style=\"fill:none;fill-rule:evenodd;stroke:#0000FF;stroke-width:2.0px;stroke-linecap:butt;stroke-linejoin:miter;stroke-opacity:1\"/>\n",
       "<path class=\"bond-2 atom-1 atom-3\" d=\"M 135.418,82.1566 L 198.113,118.429\" style=\"fill:none;fill-rule:evenodd;stroke:#000000;stroke-width:2.0px;stroke-linecap:butt;stroke-linejoin:miter;stroke-opacity:1\"/>\n",
       "<path class=\"bond-3 atom-3 atom-4\" d=\"M 198.113,118.429 L 198.09,146.579\" style=\"fill:none;fill-rule:evenodd;stroke:#000000;stroke-width:2.0px;stroke-linecap:butt;stroke-linejoin:miter;stroke-opacity:1\"/>\n",
       "<path class=\"bond-3 atom-3 atom-4\" d=\"M 198.09,146.579 L 198.068,174.728\" style=\"fill:none;fill-rule:evenodd;stroke:#FF0000;stroke-width:2.0px;stroke-linecap:butt;stroke-linejoin:miter;stroke-opacity:1\"/>\n",
       "<path class=\"bond-4 atom-3 atom-5\" d=\"M 201.368,124.077 L 225.339,110.26\" style=\"fill:none;fill-rule:evenodd;stroke:#000000;stroke-width:2.0px;stroke-linecap:butt;stroke-linejoin:miter;stroke-opacity:1\"/>\n",
       "<path class=\"bond-4 atom-3 atom-5\" d=\"M 225.339,110.26 L 249.31,96.4427\" style=\"fill:none;fill-rule:evenodd;stroke:#FF0000;stroke-width:2.0px;stroke-linecap:butt;stroke-linejoin:miter;stroke-opacity:1\"/>\n",
       "<path class=\"bond-4 atom-3 atom-5\" d=\"M 194.858,112.782 L 218.829,98.9646\" style=\"fill:none;fill-rule:evenodd;stroke:#000000;stroke-width:2.0px;stroke-linecap:butt;stroke-linejoin:miter;stroke-opacity:1\"/>\n",
       "<path class=\"bond-4 atom-3 atom-5\" d=\"M 218.829,98.9646 L 242.8,85.1475\" style=\"fill:none;fill-rule:evenodd;stroke:#FF0000;stroke-width:2.0px;stroke-linecap:butt;stroke-linejoin:miter;stroke-opacity:1\"/>\n",
       "<path class=\"atom-2\" d=\"M 22.77 104.168 L 26.61 104.168 L 26.61 116.208 L 41.09 116.208 L 41.09 104.168 L 44.93 104.168 L 44.93 132.488 L 41.09 132.488 L 41.09 119.408 L 26.61 119.408 L 26.61 132.488 L 22.77 132.488 L 22.77 104.168 \" fill=\"#0000FF\"/>\n",
       "<path class=\"atom-2\" d=\"M 55.0148 136.801 Q 56.8364 137.329, 57.7076 138.517 Q 58.6052 139.678, 58.6052 141.526 Q 58.6052 143.11, 57.8132 144.351 Q 57.0212 145.565, 55.5692 146.252 Q 54.1172 146.912, 52.2164 146.912 Q 50.21 146.912, 48.7052 146.225 Q 47.2268 145.513, 46.0388 144.087 L 47.5436 142.556 Q 48.7052 143.823, 49.682 144.325 Q 50.6588 144.8, 52.2164 144.8 Q 53.906 144.8, 54.9356 143.902 Q 55.9652 142.978, 55.9652 141.5 Q 55.9652 139.599, 54.8828 138.754 Q 53.8268 137.883, 51.53 137.883 L 50.1836 137.883 L 50.1836 135.982 L 51.3716 135.982 Q 53.4044 135.956, 54.4868 135.085 Q 55.5692 134.187, 55.5692 132.524 Q 55.5692 131.309, 54.6716 130.597 Q 53.774 129.857, 52.2428 129.857 Q 50.6852 129.857, 49.7084 130.412 Q 48.758 130.966, 48.0188 132.365 L 46.1972 131.389 Q 46.8572 129.831, 48.4412 128.801 Q 50.0252 127.745, 52.2428 127.745 Q 54.9884 127.745, 56.5988 129.039 Q 58.2092 130.333, 58.2092 132.524 Q 58.2092 134.029, 57.3908 135.111 Q 56.5724 136.193, 55.0148 136.801 \" fill=\"#0000FF\"/>\n",
       "<path class=\"atom-2\" d=\"M 66.4052 104.168 L 75.6852 119.168 Q 76.6052 120.648, 78.0852 123.328 Q 79.5652 126.008, 79.6452 126.168 L 79.6452 104.168 L 83.4052 104.168 L 83.4052 132.488 L 79.5252 132.488 L 69.5652 116.088 Q 68.4052 114.168, 67.1652 111.968 Q 65.9652 109.768, 65.6052 109.088 L 65.6052 132.488 L 61.9252 132.488 L 61.9252 104.168 L 66.4052 104.168 \" fill=\"#0000FF\"/>\n",
       "<path class=\"atom-2\" d=\"M 85.7812 109.273 L 90.7708 109.273 L 90.7708 104.019 L 92.9884 104.019 L 92.9884 109.273 L 98.11 109.273 L 98.11 111.173 L 92.9884 111.173 L 92.9884 116.453 L 90.7708 116.453 L 90.7708 111.173 L 85.7812 111.173 L 85.7812 109.273 \" fill=\"#0000FF\"/>\n",
       "<path class=\"atom-4\" d=\"M 185.055 190.939 Q 185.055 184.139, 188.415 180.339 Q 191.775 176.539, 198.055 176.539 Q 204.335 176.539, 207.695 180.339 Q 211.055 184.139, 211.055 190.939 Q 211.055 197.819, 207.655 201.739 Q 204.255 205.619, 198.055 205.619 Q 191.815 205.619, 188.415 201.739 Q 185.055 197.859, 185.055 190.939 M 198.055 202.419 Q 202.375 202.419, 204.695 199.539 Q 207.055 196.619, 207.055 190.939 Q 207.055 185.379, 204.695 182.579 Q 202.375 179.739, 198.055 179.739 Q 193.735 179.739, 191.375 182.539 Q 189.055 185.339, 189.055 190.939 Q 189.055 196.659, 191.375 199.539 Q 193.735 202.419, 198.055 202.419 \" fill=\"#FF0000\"/>\n",
       "<path class=\"atom-4\" d=\"M 212.375 181.161 L 222.064 181.161 L 222.064 183.273 L 212.375 183.273 L 212.375 181.161 \" fill=\"#FF0000\"/>\n",
       "<path class=\"atom-5\" d=\"M 247.866 82.338 Q 247.866 75.538, 251.226 71.738 Q 254.586 67.938, 260.866 67.938 Q 267.146 67.938, 270.506 71.738 Q 273.866 75.538, 273.866 82.338 Q 273.866 89.218, 270.466 93.138 Q 267.066 97.018, 260.866 97.018 Q 254.626 97.018, 251.226 93.138 Q 247.866 89.258, 247.866 82.338 M 260.866 93.818 Q 265.186 93.818, 267.506 90.938 Q 269.866 88.018, 269.866 82.338 Q 269.866 76.778, 267.506 73.978 Q 265.186 71.138, 260.866 71.138 Q 256.546 71.138, 254.186 73.938 Q 251.866 76.738, 251.866 82.338 Q 251.866 88.058, 254.186 90.938 Q 256.546 93.818, 260.866 93.818 \" fill=\"#FF0000\"/>\n",
       "</svg>"
      ],
      "text/plain": [
       "<IPython.core.display.SVG object>"
      ]
     },
     "execution_count": 8,
     "metadata": {},
     "output_type": "execute_result"
    }
   ],
   "source": [
    "sdf_path = Molecule.from_file(\"zw_l_alanine.sdf\")\n",
    "assert zw_l_alanine.is_isomorphic_with(sdf_path)\n",
    "visualize(sdf_path)"
   ]
  },
  {
   "cell_type": "markdown",
   "id": "3508a6ed",
   "metadata": {},
   "source": [
    "### From SDF file object\n",
    "\n",
    "`from_file()` can also take a file object, rather than a path. Note that the object must be in binary mode!"
   ]
  },
  {
   "cell_type": "code",
   "execution_count": 9,
   "id": "1cecd71c",
   "metadata": {},
   "outputs": [
    {
     "data": {
      "image/svg+xml": [
       "<svg baseProfile=\"full\" height=\"214px\" version=\"1.1\" viewBox=\"0 0 300 214\" width=\"300px\" xml:space=\"preserve\" xmlns=\"http://www.w3.org/2000/svg\" xmlns:rdkit=\"http://www.rdkit.org/xml\" xmlns:xlink=\"http://www.w3.org/1999/xlink\">\n",
       "<!-- END OF HEADER -->\n",
       "<rect height=\"214\" style=\"opacity:1.0;fill:#FFFFFF;stroke:none\" width=\"300\" x=\"0\" y=\"0\"> </rect>\n",
       "<path class=\"bond-0 atom-1 atom-0\" d=\"M 135.418,82.1566 L 141.995,9.73249 L 128.957,9.72206 Z\" style=\"fill:#000000;fill-rule:evenodd;fill-opacity:1;stroke:#000000;stroke-width:2.0px;stroke-linecap:butt;stroke-linejoin:miter;stroke-opacity:1;\"/>\n",
       "<path class=\"bond-1 atom-1 atom-2\" d=\"M 135.418,82.1566 L 117.669,92.3871\" style=\"fill:none;fill-rule:evenodd;stroke:#000000;stroke-width:2.0px;stroke-linecap:butt;stroke-linejoin:miter;stroke-opacity:1\"/>\n",
       "<path class=\"bond-1 atom-1 atom-2\" d=\"M 117.669,92.3871 L 99.9208,102.618\" style=\"fill:none;fill-rule:evenodd;stroke:#0000FF;stroke-width:2.0px;stroke-linecap:butt;stroke-linejoin:miter;stroke-opacity:1\"/>\n",
       "<path class=\"bond-2 atom-1 atom-3\" d=\"M 135.418,82.1566 L 198.113,118.429\" style=\"fill:none;fill-rule:evenodd;stroke:#000000;stroke-width:2.0px;stroke-linecap:butt;stroke-linejoin:miter;stroke-opacity:1\"/>\n",
       "<path class=\"bond-3 atom-3 atom-4\" d=\"M 198.113,118.429 L 198.09,146.579\" style=\"fill:none;fill-rule:evenodd;stroke:#000000;stroke-width:2.0px;stroke-linecap:butt;stroke-linejoin:miter;stroke-opacity:1\"/>\n",
       "<path class=\"bond-3 atom-3 atom-4\" d=\"M 198.09,146.579 L 198.068,174.728\" style=\"fill:none;fill-rule:evenodd;stroke:#FF0000;stroke-width:2.0px;stroke-linecap:butt;stroke-linejoin:miter;stroke-opacity:1\"/>\n",
       "<path class=\"bond-4 atom-3 atom-5\" d=\"M 201.368,124.077 L 225.339,110.26\" style=\"fill:none;fill-rule:evenodd;stroke:#000000;stroke-width:2.0px;stroke-linecap:butt;stroke-linejoin:miter;stroke-opacity:1\"/>\n",
       "<path class=\"bond-4 atom-3 atom-5\" d=\"M 225.339,110.26 L 249.31,96.4427\" style=\"fill:none;fill-rule:evenodd;stroke:#FF0000;stroke-width:2.0px;stroke-linecap:butt;stroke-linejoin:miter;stroke-opacity:1\"/>\n",
       "<path class=\"bond-4 atom-3 atom-5\" d=\"M 194.858,112.782 L 218.829,98.9646\" style=\"fill:none;fill-rule:evenodd;stroke:#000000;stroke-width:2.0px;stroke-linecap:butt;stroke-linejoin:miter;stroke-opacity:1\"/>\n",
       "<path class=\"bond-4 atom-3 atom-5\" d=\"M 218.829,98.9646 L 242.8,85.1475\" style=\"fill:none;fill-rule:evenodd;stroke:#FF0000;stroke-width:2.0px;stroke-linecap:butt;stroke-linejoin:miter;stroke-opacity:1\"/>\n",
       "<path class=\"atom-2\" d=\"M 22.77 104.168 L 26.61 104.168 L 26.61 116.208 L 41.09 116.208 L 41.09 104.168 L 44.93 104.168 L 44.93 132.488 L 41.09 132.488 L 41.09 119.408 L 26.61 119.408 L 26.61 132.488 L 22.77 132.488 L 22.77 104.168 \" fill=\"#0000FF\"/>\n",
       "<path class=\"atom-2\" d=\"M 55.0148 136.801 Q 56.8364 137.329, 57.7076 138.517 Q 58.6052 139.678, 58.6052 141.526 Q 58.6052 143.11, 57.8132 144.351 Q 57.0212 145.565, 55.5692 146.252 Q 54.1172 146.912, 52.2164 146.912 Q 50.21 146.912, 48.7052 146.225 Q 47.2268 145.513, 46.0388 144.087 L 47.5436 142.556 Q 48.7052 143.823, 49.682 144.325 Q 50.6588 144.8, 52.2164 144.8 Q 53.906 144.8, 54.9356 143.902 Q 55.9652 142.978, 55.9652 141.5 Q 55.9652 139.599, 54.8828 138.754 Q 53.8268 137.883, 51.53 137.883 L 50.1836 137.883 L 50.1836 135.982 L 51.3716 135.982 Q 53.4044 135.956, 54.4868 135.085 Q 55.5692 134.187, 55.5692 132.524 Q 55.5692 131.309, 54.6716 130.597 Q 53.774 129.857, 52.2428 129.857 Q 50.6852 129.857, 49.7084 130.412 Q 48.758 130.966, 48.0188 132.365 L 46.1972 131.389 Q 46.8572 129.831, 48.4412 128.801 Q 50.0252 127.745, 52.2428 127.745 Q 54.9884 127.745, 56.5988 129.039 Q 58.2092 130.333, 58.2092 132.524 Q 58.2092 134.029, 57.3908 135.111 Q 56.5724 136.193, 55.0148 136.801 \" fill=\"#0000FF\"/>\n",
       "<path class=\"atom-2\" d=\"M 66.4052 104.168 L 75.6852 119.168 Q 76.6052 120.648, 78.0852 123.328 Q 79.5652 126.008, 79.6452 126.168 L 79.6452 104.168 L 83.4052 104.168 L 83.4052 132.488 L 79.5252 132.488 L 69.5652 116.088 Q 68.4052 114.168, 67.1652 111.968 Q 65.9652 109.768, 65.6052 109.088 L 65.6052 132.488 L 61.9252 132.488 L 61.9252 104.168 L 66.4052 104.168 \" fill=\"#0000FF\"/>\n",
       "<path class=\"atom-2\" d=\"M 85.7812 109.273 L 90.7708 109.273 L 90.7708 104.019 L 92.9884 104.019 L 92.9884 109.273 L 98.11 109.273 L 98.11 111.173 L 92.9884 111.173 L 92.9884 116.453 L 90.7708 116.453 L 90.7708 111.173 L 85.7812 111.173 L 85.7812 109.273 \" fill=\"#0000FF\"/>\n",
       "<path class=\"atom-4\" d=\"M 185.055 190.939 Q 185.055 184.139, 188.415 180.339 Q 191.775 176.539, 198.055 176.539 Q 204.335 176.539, 207.695 180.339 Q 211.055 184.139, 211.055 190.939 Q 211.055 197.819, 207.655 201.739 Q 204.255 205.619, 198.055 205.619 Q 191.815 205.619, 188.415 201.739 Q 185.055 197.859, 185.055 190.939 M 198.055 202.419 Q 202.375 202.419, 204.695 199.539 Q 207.055 196.619, 207.055 190.939 Q 207.055 185.379, 204.695 182.579 Q 202.375 179.739, 198.055 179.739 Q 193.735 179.739, 191.375 182.539 Q 189.055 185.339, 189.055 190.939 Q 189.055 196.659, 191.375 199.539 Q 193.735 202.419, 198.055 202.419 \" fill=\"#FF0000\"/>\n",
       "<path class=\"atom-4\" d=\"M 212.375 181.161 L 222.064 181.161 L 222.064 183.273 L 212.375 183.273 L 212.375 181.161 \" fill=\"#FF0000\"/>\n",
       "<path class=\"atom-5\" d=\"M 247.866 82.338 Q 247.866 75.538, 251.226 71.738 Q 254.586 67.938, 260.866 67.938 Q 267.146 67.938, 270.506 71.738 Q 273.866 75.538, 273.866 82.338 Q 273.866 89.218, 270.466 93.138 Q 267.066 97.018, 260.866 97.018 Q 254.626 97.018, 251.226 93.138 Q 247.866 89.258, 247.866 82.338 M 260.866 93.818 Q 265.186 93.818, 267.506 90.938 Q 269.866 88.018, 269.866 82.338 Q 269.866 76.778, 267.506 73.978 Q 265.186 71.138, 260.866 71.138 Q 256.546 71.138, 254.186 73.938 Q 251.866 76.738, 251.866 82.338 Q 251.866 88.058, 254.186 90.938 Q 256.546 93.818, 260.866 93.818 \" fill=\"#FF0000\"/>\n",
       "</svg>"
      ],
      "text/plain": [
       "<IPython.core.display.SVG object>"
      ]
     },
     "execution_count": 9,
     "metadata": {},
     "output_type": "execute_result"
    }
   ],
   "source": [
    "with open(\"zw_l_alanine.sdf\", mode=\"rb\") as file:\n",
    "    sdf_object = Molecule.from_file(file, file_format=\"SDF\")\n",
    "    \n",
    "assert zw_l_alanine.is_isomorphic_with(sdf_object)\n",
    "visualize(sdf_object)"
   ]
  },
  {
   "cell_type": "markdown",
   "id": "02653974",
   "metadata": {},
   "source": [
    "### From PDB file\n",
    "\n",
    "PDB files cannot be supported, even if they have CONECT records, as they do not provide stereoisomeric information or bond orders.\n",
    "\n",
    "<!-- RDKIT assumes PDB bond orders are 1, so we don't use it, OpenEye can guess bond orders but can make mistakes -->"
   ]
  },
  {
   "cell_type": "code",
   "execution_count": 10,
   "id": "f199d45f",
   "metadata": {
    "tags": [
     "raises-exception"
    ]
   },
   "outputs": [
    {
     "ename": "NotImplementedError",
     "evalue": "No toolkits in registry can read file zw_l_alanine.pdb (format PDB). Supported formats in the provided ToolkitRegistry are {'The RDKit': ['SDF', 'MOL', 'SMI'], 'AmberTools': [], 'Built-in Toolkit': []}. RDKit can not safely read PDBs on their own. Information about bond order and aromaticity is likely to be lost. PDBs can be used along with a valid smiles string with RDKit using the constructor Molecule.from_pdb_and_smiles(file_path, smiles)",
     "output_type": "error",
     "traceback": [
      "\u001b[0;31mNotImplementedError\u001b[0m\u001b[0;31m:\u001b[0m No toolkits in registry can read file zw_l_alanine.pdb (format PDB). Supported formats in the provided ToolkitRegistry are {'The RDKit': ['SDF', 'MOL', 'SMI'], 'AmberTools': [], 'Built-in Toolkit': []}. RDKit can not safely read PDBs on their own. Information about bond order and aromaticity is likely to be lost. PDBs can be used along with a valid smiles string with RDKit using the constructor Molecule.from_pdb_and_smiles(file_path, smiles)\n"
     ]
    }
   ],
   "source": [
    "pdb = Molecule.from_file(\"zw_l_alanine.pdb\", \"pdb\")"
   ]
  },
  {
   "cell_type": "markdown",
   "id": "3713f85f",
   "metadata": {},
   "source": [
    "If we provide a SMILES code, a PDB file can be used to populate the `Molecule` object's `conformers` attribute and provide atom ordering, as well as check that the SMILES code matches the PDB file. The warning provided is [spurious](https://github.com/openforcefield/openff-toolkit/issues/1000)."
   ]
  },
  {
   "cell_type": "code",
   "execution_count": 11,
   "id": "1d003955",
   "metadata": {},
   "outputs": [
    {
     "data": {
      "image/svg+xml": [
       "<svg baseProfile=\"full\" height=\"214px\" version=\"1.1\" viewBox=\"0 0 300 214\" width=\"300px\" xml:space=\"preserve\" xmlns=\"http://www.w3.org/2000/svg\" xmlns:rdkit=\"http://www.rdkit.org/xml\" xmlns:xlink=\"http://www.w3.org/1999/xlink\">\n",
       "<!-- END OF HEADER -->\n",
       "<rect height=\"214\" style=\"opacity:1.0;fill:#FFFFFF;stroke:none\" width=\"300\" x=\"0\" y=\"0\"> </rect>\n",
       "<path class=\"bond-0 atom-1 atom-0\" d=\"M 135.418,82.1566 L 141.995,9.73249 L 128.957,9.72206 Z\" style=\"fill:#000000;fill-rule:evenodd;fill-opacity:1;stroke:#000000;stroke-width:2.0px;stroke-linecap:butt;stroke-linejoin:miter;stroke-opacity:1;\"/>\n",
       "<path class=\"bond-1 atom-1 atom-2\" d=\"M 135.418,82.1566 L 117.669,92.3871\" style=\"fill:none;fill-rule:evenodd;stroke:#000000;stroke-width:2.0px;stroke-linecap:butt;stroke-linejoin:miter;stroke-opacity:1\"/>\n",
       "<path class=\"bond-1 atom-1 atom-2\" d=\"M 117.669,92.3871 L 99.9208,102.618\" style=\"fill:none;fill-rule:evenodd;stroke:#0000FF;stroke-width:2.0px;stroke-linecap:butt;stroke-linejoin:miter;stroke-opacity:1\"/>\n",
       "<path class=\"bond-2 atom-1 atom-3\" d=\"M 135.418,82.1566 L 198.113,118.429\" style=\"fill:none;fill-rule:evenodd;stroke:#000000;stroke-width:2.0px;stroke-linecap:butt;stroke-linejoin:miter;stroke-opacity:1\"/>\n",
       "<path class=\"bond-3 atom-3 atom-4\" d=\"M 201.368,124.077 L 225.339,110.26\" style=\"fill:none;fill-rule:evenodd;stroke:#000000;stroke-width:2.0px;stroke-linecap:butt;stroke-linejoin:miter;stroke-opacity:1\"/>\n",
       "<path class=\"bond-3 atom-3 atom-4\" d=\"M 225.339,110.26 L 249.31,96.4427\" style=\"fill:none;fill-rule:evenodd;stroke:#FF0000;stroke-width:2.0px;stroke-linecap:butt;stroke-linejoin:miter;stroke-opacity:1\"/>\n",
       "<path class=\"bond-3 atom-3 atom-4\" d=\"M 194.858,112.782 L 218.829,98.9646\" style=\"fill:none;fill-rule:evenodd;stroke:#000000;stroke-width:2.0px;stroke-linecap:butt;stroke-linejoin:miter;stroke-opacity:1\"/>\n",
       "<path class=\"bond-3 atom-3 atom-4\" d=\"M 218.829,98.9646 L 242.8,85.1475\" style=\"fill:none;fill-rule:evenodd;stroke:#FF0000;stroke-width:2.0px;stroke-linecap:butt;stroke-linejoin:miter;stroke-opacity:1\"/>\n",
       "<path class=\"bond-4 atom-3 atom-5\" d=\"M 198.113,118.429 L 198.09,146.579\" style=\"fill:none;fill-rule:evenodd;stroke:#000000;stroke-width:2.0px;stroke-linecap:butt;stroke-linejoin:miter;stroke-opacity:1\"/>\n",
       "<path class=\"bond-4 atom-3 atom-5\" d=\"M 198.09,146.579 L 198.068,174.728\" style=\"fill:none;fill-rule:evenodd;stroke:#FF0000;stroke-width:2.0px;stroke-linecap:butt;stroke-linejoin:miter;stroke-opacity:1\"/>\n",
       "<path class=\"atom-2\" d=\"M 22.77 104.168 L 26.61 104.168 L 26.61 116.208 L 41.09 116.208 L 41.09 104.168 L 44.93 104.168 L 44.93 132.488 L 41.09 132.488 L 41.09 119.408 L 26.61 119.408 L 26.61 132.488 L 22.77 132.488 L 22.77 104.168 \" fill=\"#0000FF\"/>\n",
       "<path class=\"atom-2\" d=\"M 55.0148 136.801 Q 56.8364 137.329, 57.7076 138.517 Q 58.6052 139.678, 58.6052 141.526 Q 58.6052 143.11, 57.8132 144.351 Q 57.0212 145.565, 55.5692 146.252 Q 54.1172 146.912, 52.2164 146.912 Q 50.21 146.912, 48.7052 146.225 Q 47.2268 145.513, 46.0388 144.087 L 47.5436 142.556 Q 48.7052 143.823, 49.682 144.325 Q 50.6588 144.8, 52.2164 144.8 Q 53.906 144.8, 54.9356 143.902 Q 55.9652 142.978, 55.9652 141.5 Q 55.9652 139.599, 54.8828 138.754 Q 53.8268 137.883, 51.53 137.883 L 50.1836 137.883 L 50.1836 135.982 L 51.3716 135.982 Q 53.4044 135.956, 54.4868 135.085 Q 55.5692 134.187, 55.5692 132.524 Q 55.5692 131.309, 54.6716 130.597 Q 53.774 129.857, 52.2428 129.857 Q 50.6852 129.857, 49.7084 130.412 Q 48.758 130.966, 48.0188 132.365 L 46.1972 131.389 Q 46.8572 129.831, 48.4412 128.801 Q 50.0252 127.745, 52.2428 127.745 Q 54.9884 127.745, 56.5988 129.039 Q 58.2092 130.333, 58.2092 132.524 Q 58.2092 134.029, 57.3908 135.111 Q 56.5724 136.193, 55.0148 136.801 \" fill=\"#0000FF\"/>\n",
       "<path class=\"atom-2\" d=\"M 66.4052 104.168 L 75.6852 119.168 Q 76.6052 120.648, 78.0852 123.328 Q 79.5652 126.008, 79.6452 126.168 L 79.6452 104.168 L 83.4052 104.168 L 83.4052 132.488 L 79.5252 132.488 L 69.5652 116.088 Q 68.4052 114.168, 67.1652 111.968 Q 65.9652 109.768, 65.6052 109.088 L 65.6052 132.488 L 61.9252 132.488 L 61.9252 104.168 L 66.4052 104.168 \" fill=\"#0000FF\"/>\n",
       "<path class=\"atom-2\" d=\"M 85.7812 109.273 L 90.7708 109.273 L 90.7708 104.019 L 92.9884 104.019 L 92.9884 109.273 L 98.11 109.273 L 98.11 111.173 L 92.9884 111.173 L 92.9884 116.453 L 90.7708 116.453 L 90.7708 111.173 L 85.7812 111.173 L 85.7812 109.273 \" fill=\"#0000FF\"/>\n",
       "<path class=\"atom-4\" d=\"M 247.866 82.338 Q 247.866 75.538, 251.226 71.738 Q 254.586 67.938, 260.866 67.938 Q 267.146 67.938, 270.506 71.738 Q 273.866 75.538, 273.866 82.338 Q 273.866 89.218, 270.466 93.138 Q 267.066 97.018, 260.866 97.018 Q 254.626 97.018, 251.226 93.138 Q 247.866 89.258, 247.866 82.338 M 260.866 93.818 Q 265.186 93.818, 267.506 90.938 Q 269.866 88.018, 269.866 82.338 Q 269.866 76.778, 267.506 73.978 Q 265.186 71.138, 260.866 71.138 Q 256.546 71.138, 254.186 73.938 Q 251.866 76.738, 251.866 82.338 Q 251.866 88.058, 254.186 90.938 Q 256.546 93.818, 260.866 93.818 \" fill=\"#FF0000\"/>\n",
       "<path class=\"atom-5\" d=\"M 185.055 190.939 Q 185.055 184.139, 188.415 180.339 Q 191.775 176.539, 198.055 176.539 Q 204.335 176.539, 207.695 180.339 Q 211.055 184.139, 211.055 190.939 Q 211.055 197.819, 207.655 201.739 Q 204.255 205.619, 198.055 205.619 Q 191.815 205.619, 188.415 201.739 Q 185.055 197.859, 185.055 190.939 M 198.055 202.419 Q 202.375 202.419, 204.695 199.539 Q 207.055 196.619, 207.055 190.939 Q 207.055 185.379, 204.695 182.579 Q 202.375 179.739, 198.055 179.739 Q 193.735 179.739, 191.375 182.539 Q 189.055 185.339, 189.055 190.939 Q 189.055 196.659, 191.375 199.539 Q 193.735 202.419, 198.055 202.419 \" fill=\"#FF0000\"/>\n",
       "<path class=\"atom-5\" d=\"M 212.375 181.161 L 222.064 181.161 L 222.064 183.273 L 212.375 183.273 L 212.375 181.161 \" fill=\"#FF0000\"/>\n",
       "</svg>"
      ],
      "text/plain": [
       "<IPython.core.display.SVG object>"
      ]
     },
     "execution_count": 11,
     "metadata": {},
     "output_type": "execute_result"
    }
   ],
   "source": [
    "pdb_with_smiles = Molecule.from_pdb_and_smiles(\n",
    "    \"zw_l_alanine.pdb\", \n",
    "    \"C[C@H]([NH3+])C(=O)[O-]\"\n",
    ")  \n",
    "\n",
    "assert zw_l_alanine.is_isomorphic_with(pdb_with_smiles)\n",
    "\n",
    "visualize(pdb_with_smiles)"
   ]
  },
  {
   "cell_type": "markdown",
   "id": "cbdde2f3",
   "metadata": {},
   "source": [
    "## Other string identification formats\n",
    "\n",
    "The OpenFF Toolkit supports a few text based molecular identity formats other than SMILES ([see above](#from-smiles))"
   ]
  },
  {
   "cell_type": "markdown",
   "id": "bcd5fce1",
   "metadata": {},
   "source": [
    "### From InChI\n",
    "\n",
    "The [`Molecule.from_inchi()`](openff.toolkit.topology.Molecule.from_inchi) method constructs a `Molecule` from an IUPAC [InChI](https://iupac.org/who-we-are/divisions/division-details/inchi/) string. Note that InChI cannot distinguish the zwitterionic form of alanine from the neutral form (see section 13.2 of the [InChI Technical FAQ](https://www.inchi-trust.org/technical-faq-2/)), so the toolkit defaults to the neutral form.\n",
    "\n",
    ":::{warning}\n",
    "The OpenFF Toolkit makes no guarantees about the atomic ordering produced by the `from_inchi` method. InChI is not intended to be an interchange format.\n",
    ":::"
   ]
  },
  {
   "cell_type": "code",
   "execution_count": 146,
   "id": "1ea7bb81",
   "metadata": {},
   "outputs": [
    {
     "data": {
      "image/svg+xml": [
       "<svg baseProfile=\"full\" height=\"214px\" version=\"1.1\" viewBox=\"0 0 300 214\" width=\"300px\" xml:space=\"preserve\" xmlns=\"http://www.w3.org/2000/svg\" xmlns:rdkit=\"http://www.rdkit.org/xml\" xmlns:xlink=\"http://www.w3.org/1999/xlink\">\n",
       "<!-- END OF HEADER -->\n",
       "<rect height=\"214\" style=\"opacity:1.0;fill:#FFFFFF;stroke:none\" width=\"300\" x=\"0\" y=\"0\"> </rect>\n",
       "<path class=\"bond-0 atom-1 atom-0\" d=\"M 135.526,82.1566 L 142.103,9.73249 L 129.065,9.72206 Z\" style=\"fill:#000000;fill-rule:evenodd;fill-opacity:1;stroke:#000000;stroke-width:2.0px;stroke-linecap:butt;stroke-linejoin:miter;stroke-opacity:1;\"/>\n",
       "<path class=\"bond-1 atom-1 atom-2\" d=\"M 135.526,82.1566 L 198.221,118.429\" style=\"fill:none;fill-rule:evenodd;stroke:#000000;stroke-width:2.0px;stroke-linecap:butt;stroke-linejoin:miter;stroke-opacity:1\"/>\n",
       "<path class=\"bond-2 atom-1 atom-3\" d=\"M 135.526,82.1566 L 110.425,96.6251\" style=\"fill:none;fill-rule:evenodd;stroke:#000000;stroke-width:2.0px;stroke-linecap:butt;stroke-linejoin:miter;stroke-opacity:1\"/>\n",
       "<path class=\"bond-2 atom-1 atom-3\" d=\"M 110.425,96.6251 L 85.3239,111.094\" style=\"fill:none;fill-rule:evenodd;stroke:#0000FF;stroke-width:2.0px;stroke-linecap:butt;stroke-linejoin:miter;stroke-opacity:1\"/>\n",
       "<path class=\"bond-3 atom-2 atom-4\" d=\"M 201.476,124.077 L 225.447,110.26\" style=\"fill:none;fill-rule:evenodd;stroke:#000000;stroke-width:2.0px;stroke-linecap:butt;stroke-linejoin:miter;stroke-opacity:1\"/>\n",
       "<path class=\"bond-3 atom-2 atom-4\" d=\"M 225.447,110.26 L 249.418,96.4427\" style=\"fill:none;fill-rule:evenodd;stroke:#FF0000;stroke-width:2.0px;stroke-linecap:butt;stroke-linejoin:miter;stroke-opacity:1\"/>\n",
       "<path class=\"bond-3 atom-2 atom-4\" d=\"M 194.965,112.782 L 218.937,98.9646\" style=\"fill:none;fill-rule:evenodd;stroke:#000000;stroke-width:2.0px;stroke-linecap:butt;stroke-linejoin:miter;stroke-opacity:1\"/>\n",
       "<path class=\"bond-3 atom-2 atom-4\" d=\"M 218.937,98.9646 L 242.908,85.1475\" style=\"fill:none;fill-rule:evenodd;stroke:#FF0000;stroke-width:2.0px;stroke-linecap:butt;stroke-linejoin:miter;stroke-opacity:1\"/>\n",
       "<path class=\"bond-4 atom-2 atom-5\" d=\"M 198.221,118.429 L 198.198,146.579\" style=\"fill:none;fill-rule:evenodd;stroke:#000000;stroke-width:2.0px;stroke-linecap:butt;stroke-linejoin:miter;stroke-opacity:1\"/>\n",
       "<path class=\"bond-4 atom-2 atom-5\" d=\"M 198.198,146.579 L 198.176,174.728\" style=\"fill:none;fill-rule:evenodd;stroke:#FF0000;stroke-width:2.0px;stroke-linecap:butt;stroke-linejoin:miter;stroke-opacity:1\"/>\n",
       "<path class=\"atom-3\" d=\"M 22.6403 104.168 L 26.4803 104.168 L 26.4803 116.208 L 40.9603 116.208 L 40.9603 104.168 L 44.8003 104.168 L 44.8003 132.488 L 40.9603 132.488 L 40.9603 119.408 L 26.4803 119.408 L 26.4803 132.488 L 22.6403 132.488 L 22.6403 104.168 \" fill=\"#0000FF\"/>\n",
       "<path class=\"atom-3\" d=\"M 46.1731 131.494 Q 46.8595 129.725, 48.4963 128.749 Q 50.1331 127.745, 52.4035 127.745 Q 55.2283 127.745, 56.8123 129.277 Q 58.3963 130.808, 58.3963 133.527 Q 58.3963 136.299, 56.3371 138.886 Q 54.3043 141.473, 50.0803 144.536 L 58.7131 144.536 L 58.7131 146.648 L 46.1203 146.648 L 46.1203 144.879 Q 49.6051 142.397, 51.6643 140.549 Q 53.7499 138.701, 54.7531 137.038 Q 55.7563 135.375, 55.7563 133.659 Q 55.7563 131.864, 54.8587 130.861 Q 53.9611 129.857, 52.4035 129.857 Q 50.8987 129.857, 49.8955 130.465 Q 48.8923 131.072, 48.1795 132.418 L 46.1731 131.494 \" fill=\"#0000FF\"/>\n",
       "<path class=\"atom-3\" d=\"M 66.5131 104.168 L 75.7931 119.168 Q 76.7131 120.648, 78.1931 123.328 Q 79.6731 126.008, 79.7531 126.168 L 79.7531 104.168 L 83.5131 104.168 L 83.5131 132.488 L 79.6331 132.488 L 69.6731 116.088 Q 68.5131 114.168, 67.2731 111.968 Q 66.0731 109.768, 65.7131 109.088 L 65.7131 132.488 L 62.0331 132.488 L 62.0331 104.168 L 66.5131 104.168 \" fill=\"#0000FF\"/>\n",
       "<path class=\"atom-4\" d=\"M 247.974 82.338 Q 247.974 75.538, 251.334 71.738 Q 254.694 67.938, 260.974 67.938 Q 267.254 67.938, 270.614 71.738 Q 273.974 75.538, 273.974 82.338 Q 273.974 89.218, 270.574 93.138 Q 267.174 97.018, 260.974 97.018 Q 254.734 97.018, 251.334 93.138 Q 247.974 89.258, 247.974 82.338 M 260.974 93.818 Q 265.294 93.818, 267.614 90.938 Q 269.974 88.018, 269.974 82.338 Q 269.974 76.778, 267.614 73.978 Q 265.294 71.138, 260.974 71.138 Q 256.654 71.138, 254.294 73.938 Q 251.974 76.738, 251.974 82.338 Q 251.974 88.058, 254.294 90.938 Q 256.654 93.818, 260.974 93.818 \" fill=\"#FF0000\"/>\n",
       "<path class=\"atom-5\" d=\"M 185.163 190.939 Q 185.163 184.139, 188.523 180.339 Q 191.883 176.539, 198.163 176.539 Q 204.443 176.539, 207.803 180.339 Q 211.163 184.139, 211.163 190.939 Q 211.163 197.819, 207.763 201.739 Q 204.363 205.619, 198.163 205.619 Q 191.923 205.619, 188.523 201.739 Q 185.163 197.859, 185.163 190.939 M 198.163 202.419 Q 202.483 202.419, 204.803 199.539 Q 207.163 196.619, 207.163 190.939 Q 207.163 185.379, 204.803 182.579 Q 202.483 179.739, 198.163 179.739 Q 193.843 179.739, 191.483 182.539 Q 189.163 185.339, 189.163 190.939 Q 189.163 196.659, 191.483 199.539 Q 193.843 202.419, 198.163 202.419 \" fill=\"#FF0000\"/>\n",
       "<path class=\"atom-5\" d=\"M 214.563 176.859 L 218.403 176.859 L 218.403 188.899 L 232.883 188.899 L 232.883 176.859 L 236.723 176.859 L 236.723 205.179 L 232.883 205.179 L 232.883 192.099 L 218.403 192.099 L 218.403 205.179 L 214.563 205.179 L 214.563 176.859 \" fill=\"#FF0000\"/>\n",
       "</svg>"
      ],
      "text/plain": [
       "<IPython.core.display.SVG object>"
      ]
     },
     "execution_count": 146,
     "metadata": {},
     "output_type": "execute_result"
    }
   ],
   "source": [
    "inchi = Molecule.from_inchi(\"InChI=1S/C3H7NO2/c1-2(4)3(5)6/h2H,4H2,1H3,(H,5,6)/t2-/m0/s1\")  \n",
    "\n",
    "visualize(inchi)"
   ]
  },
  {
   "cell_type": "markdown",
   "id": "93592822",
   "metadata": {},
   "source": [
    "### From IUPAC name\n",
    "\n",
    "The [`Molecule.from_iupac()`](openff.toolkit.topology.Molecule.from_iupac) method constructs a `Molecule` from an IUPAC name."
   ]
  },
  {
   "cell_type": "code",
   "execution_count": 147,
   "id": "839994a0",
   "metadata": {},
   "outputs": [
    {
     "data": {
      "image/svg+xml": [
       "<svg baseProfile=\"full\" height=\"214px\" version=\"1.1\" viewBox=\"0 0 300 214\" width=\"300px\" xml:space=\"preserve\" xmlns=\"http://www.w3.org/2000/svg\" xmlns:rdkit=\"http://www.rdkit.org/xml\" xmlns:xlink=\"http://www.w3.org/1999/xlink\">\n",
       "<!-- END OF HEADER -->\n",
       "<rect height=\"214\" style=\"opacity:1.0;fill:#FFFFFF;stroke:none\" width=\"300\" x=\"0\" y=\"0\"> </rect>\n",
       "<path class=\"bond-4 atom-2 atom-0\" d=\"M 135.418,82.1566 L 117.669,92.3871\" style=\"fill:none;fill-rule:evenodd;stroke:#000000;stroke-width:2.0px;stroke-linecap:butt;stroke-linejoin:miter;stroke-opacity:1\"/>\n",
       "<path class=\"bond-4 atom-2 atom-0\" d=\"M 117.669,92.3871 L 99.9208,102.618\" style=\"fill:none;fill-rule:evenodd;stroke:#0000FF;stroke-width:2.0px;stroke-linecap:butt;stroke-linejoin:miter;stroke-opacity:1\"/>\n",
       "<path class=\"bond-0 atom-2 atom-1\" d=\"M 135.418,82.1566 L 198.113,118.429\" style=\"fill:none;fill-rule:evenodd;stroke:#000000;stroke-width:2.0px;stroke-linecap:butt;stroke-linejoin:miter;stroke-opacity:1\"/>\n",
       "<path class=\"bond-2 atom-4 atom-1\" d=\"M 242.8,85.1475 L 218.829,98.9646\" style=\"fill:none;fill-rule:evenodd;stroke:#FF0000;stroke-width:2.0px;stroke-linecap:butt;stroke-linejoin:miter;stroke-opacity:1\"/>\n",
       "<path class=\"bond-2 atom-4 atom-1\" d=\"M 218.829,98.9646 L 194.858,112.782\" style=\"fill:none;fill-rule:evenodd;stroke:#000000;stroke-width:2.0px;stroke-linecap:butt;stroke-linejoin:miter;stroke-opacity:1\"/>\n",
       "<path class=\"bond-2 atom-4 atom-1\" d=\"M 249.31,96.4427 L 225.339,110.26\" style=\"fill:none;fill-rule:evenodd;stroke:#FF0000;stroke-width:2.0px;stroke-linecap:butt;stroke-linejoin:miter;stroke-opacity:1\"/>\n",
       "<path class=\"bond-2 atom-4 atom-1\" d=\"M 225.339,110.26 L 201.368,124.077\" style=\"fill:none;fill-rule:evenodd;stroke:#000000;stroke-width:2.0px;stroke-linecap:butt;stroke-linejoin:miter;stroke-opacity:1\"/>\n",
       "<path class=\"bond-3 atom-5 atom-1\" d=\"M 198.068,174.728 L 198.09,146.579\" style=\"fill:none;fill-rule:evenodd;stroke:#FF0000;stroke-width:2.0px;stroke-linecap:butt;stroke-linejoin:miter;stroke-opacity:1\"/>\n",
       "<path class=\"bond-3 atom-5 atom-1\" d=\"M 198.09,146.579 L 198.113,118.429\" style=\"fill:none;fill-rule:evenodd;stroke:#000000;stroke-width:2.0px;stroke-linecap:butt;stroke-linejoin:miter;stroke-opacity:1\"/>\n",
       "<path class=\"bond-1 atom-2 atom-3\" d=\"M 135.418,82.1566 L 141.995,9.73249 L 128.957,9.72206 Z\" style=\"fill:#000000;fill-rule:evenodd;fill-opacity:1;stroke:#000000;stroke-width:2.0px;stroke-linecap:butt;stroke-linejoin:miter;stroke-opacity:1;\"/>\n",
       "<path class=\"atom-0\" d=\"M 22.77 104.168 L 26.61 104.168 L 26.61 116.208 L 41.09 116.208 L 41.09 104.168 L 44.93 104.168 L 44.93 132.488 L 41.09 132.488 L 41.09 119.408 L 26.61 119.408 L 26.61 132.488 L 22.77 132.488 L 22.77 104.168 \" fill=\"#0000FF\"/>\n",
       "<path class=\"atom-0\" d=\"M 55.0148 136.801 Q 56.8364 137.329, 57.7076 138.517 Q 58.6052 139.678, 58.6052 141.526 Q 58.6052 143.11, 57.8132 144.351 Q 57.0212 145.565, 55.5692 146.252 Q 54.1172 146.912, 52.2164 146.912 Q 50.21 146.912, 48.7052 146.225 Q 47.2268 145.513, 46.0388 144.087 L 47.5436 142.556 Q 48.7052 143.823, 49.682 144.325 Q 50.6588 144.8, 52.2164 144.8 Q 53.906 144.8, 54.9356 143.902 Q 55.9652 142.978, 55.9652 141.5 Q 55.9652 139.599, 54.8828 138.754 Q 53.8268 137.883, 51.53 137.883 L 50.1836 137.883 L 50.1836 135.982 L 51.3716 135.982 Q 53.4044 135.956, 54.4868 135.085 Q 55.5692 134.187, 55.5692 132.524 Q 55.5692 131.309, 54.6716 130.597 Q 53.774 129.857, 52.2428 129.857 Q 50.6852 129.857, 49.7084 130.412 Q 48.758 130.966, 48.0188 132.365 L 46.1972 131.389 Q 46.8572 129.831, 48.4412 128.801 Q 50.0252 127.745, 52.2428 127.745 Q 54.9884 127.745, 56.5988 129.039 Q 58.2092 130.333, 58.2092 132.524 Q 58.2092 134.029, 57.3908 135.111 Q 56.5724 136.193, 55.0148 136.801 \" fill=\"#0000FF\"/>\n",
       "<path class=\"atom-0\" d=\"M 66.4052 104.168 L 75.6852 119.168 Q 76.6052 120.648, 78.0852 123.328 Q 79.5652 126.008, 79.6452 126.168 L 79.6452 104.168 L 83.4052 104.168 L 83.4052 132.488 L 79.5252 132.488 L 69.5652 116.088 Q 68.4052 114.168, 67.1652 111.968 Q 65.9652 109.768, 65.6052 109.088 L 65.6052 132.488 L 61.9252 132.488 L 61.9252 104.168 L 66.4052 104.168 \" fill=\"#0000FF\"/>\n",
       "<path class=\"atom-0\" d=\"M 85.7812 109.273 L 90.7708 109.273 L 90.7708 104.019 L 92.9884 104.019 L 92.9884 109.273 L 98.11 109.273 L 98.11 111.173 L 92.9884 111.173 L 92.9884 116.453 L 90.7708 116.453 L 90.7708 111.173 L 85.7812 111.173 L 85.7812 109.273 \" fill=\"#0000FF\"/>\n",
       "<path class=\"atom-4\" d=\"M 247.866 82.338 Q 247.866 75.538, 251.226 71.738 Q 254.586 67.938, 260.866 67.938 Q 267.146 67.938, 270.506 71.738 Q 273.866 75.538, 273.866 82.338 Q 273.866 89.218, 270.466 93.138 Q 267.066 97.018, 260.866 97.018 Q 254.626 97.018, 251.226 93.138 Q 247.866 89.258, 247.866 82.338 M 260.866 93.818 Q 265.186 93.818, 267.506 90.938 Q 269.866 88.018, 269.866 82.338 Q 269.866 76.778, 267.506 73.978 Q 265.186 71.138, 260.866 71.138 Q 256.546 71.138, 254.186 73.938 Q 251.866 76.738, 251.866 82.338 Q 251.866 88.058, 254.186 90.938 Q 256.546 93.818, 260.866 93.818 \" fill=\"#FF0000\"/>\n",
       "<path class=\"atom-5\" d=\"M 185.055 190.939 Q 185.055 184.139, 188.415 180.339 Q 191.775 176.539, 198.055 176.539 Q 204.335 176.539, 207.695 180.339 Q 211.055 184.139, 211.055 190.939 Q 211.055 197.819, 207.655 201.739 Q 204.255 205.619, 198.055 205.619 Q 191.815 205.619, 188.415 201.739 Q 185.055 197.859, 185.055 190.939 M 198.055 202.419 Q 202.375 202.419, 204.695 199.539 Q 207.055 196.619, 207.055 190.939 Q 207.055 185.379, 204.695 182.579 Q 202.375 179.739, 198.055 179.739 Q 193.735 179.739, 191.375 182.539 Q 189.055 185.339, 189.055 190.939 Q 189.055 196.659, 191.375 199.539 Q 193.735 202.419, 198.055 202.419 \" fill=\"#FF0000\"/>\n",
       "<path class=\"atom-5\" d=\"M 212.375 181.161 L 222.064 181.161 L 222.064 183.273 L 212.375 183.273 L 212.375 181.161 \" fill=\"#FF0000\"/>\n",
       "</svg>"
      ],
      "text/plain": [
       "<IPython.core.display.SVG object>"
      ]
     },
     "execution_count": 147,
     "metadata": {},
     "output_type": "execute_result"
    }
   ],
   "source": [
    "iupac = Molecule.from_iupac(\"(2S)-2-azaniumylpropanoate\")\n",
    "\n",
    "assert zw_l_alanine.is_isomorphic_with(iupac)\n",
    "\n",
    "visualize(iupac)"
   ]
  },
  {
   "cell_type": "markdown",
   "id": "14d8a068",
   "metadata": {},
   "source": [
    "## Remapping an existing `Molecule`\n",
    "\n",
    "Most `Molecule` creation methods don't specify the ordering of atoms in the new `Molecule`. The [`Molecule.remap()`](openff.toolkit.topology.Molecule.remap) method allows a new ordering to be applied to an existing `Molecule`.\n",
    "\n",
    "See also [Mapped SMILES](#mapped-smiles).\n",
    "\n",
    ":::{warning}\n",
    "The `Molecule.remap()` method is experimental and subject to change. \n",
    ":::"
   ]
  },
  {
   "cell_type": "code",
   "execution_count": 138,
   "id": "c9a343c2",
   "metadata": {},
   "outputs": [
    {
     "name": "stdout",
     "output_type": "stream",
     "text": [
      "Before remapping: [H:3][C@@:2]([C:5](=[O:7])[O-:6])([C:1]([H:8])([H:9])[H:10])[N+:4]([H:11])([H:12])[H:13]\n",
      "After remapping:  [H:3][C@@:2]([C:5](=[O:6])[O-:7])([C:1]([H:8])([H:9])[H:10])[N+:4]([H:11])([H:12])[H:13]\n"
     ]
    },
    {
     "data": {
      "image/svg+xml": [
       "<svg baseProfile=\"full\" height=\"214px\" version=\"1.1\" viewBox=\"0 0 300 214\" width=\"300px\" xml:space=\"preserve\" xmlns=\"http://www.w3.org/2000/svg\" xmlns:rdkit=\"http://www.rdkit.org/xml\" xmlns:xlink=\"http://www.w3.org/1999/xlink\">\n",
       "<!-- END OF HEADER -->\n",
       "<rect height=\"214\" style=\"opacity:1.0;fill:#FFFFFF;stroke:none\" width=\"300\" x=\"0\" y=\"0\"> </rect>\n",
       "<path class=\"bond-0 atom-1 atom-0\" d=\"M 135.418,82.1566 L 141.995,9.73249 L 128.957,9.72206 Z\" style=\"fill:#000000;fill-rule:evenodd;fill-opacity:1;stroke:#000000;stroke-width:2.0px;stroke-linecap:butt;stroke-linejoin:miter;stroke-opacity:1;\"/>\n",
       "<path class=\"bond-1 atom-1 atom-2\" d=\"M 135.418,82.1566 L 117.669,92.3871\" style=\"fill:none;fill-rule:evenodd;stroke:#000000;stroke-width:2.0px;stroke-linecap:butt;stroke-linejoin:miter;stroke-opacity:1\"/>\n",
       "<path class=\"bond-1 atom-1 atom-2\" d=\"M 117.669,92.3871 L 99.9208,102.618\" style=\"fill:none;fill-rule:evenodd;stroke:#0000FF;stroke-width:2.0px;stroke-linecap:butt;stroke-linejoin:miter;stroke-opacity:1\"/>\n",
       "<path class=\"bond-2 atom-1 atom-3\" d=\"M 135.418,82.1566 L 198.113,118.429\" style=\"fill:none;fill-rule:evenodd;stroke:#000000;stroke-width:2.0px;stroke-linecap:butt;stroke-linejoin:miter;stroke-opacity:1\"/>\n",
       "<path class=\"bond-3 atom-3 atom-4\" d=\"M 201.368,124.077 L 225.339,110.26\" style=\"fill:none;fill-rule:evenodd;stroke:#000000;stroke-width:2.0px;stroke-linecap:butt;stroke-linejoin:miter;stroke-opacity:1\"/>\n",
       "<path class=\"bond-3 atom-3 atom-4\" d=\"M 225.339,110.26 L 249.31,96.4427\" style=\"fill:none;fill-rule:evenodd;stroke:#FF0000;stroke-width:2.0px;stroke-linecap:butt;stroke-linejoin:miter;stroke-opacity:1\"/>\n",
       "<path class=\"bond-3 atom-3 atom-4\" d=\"M 194.858,112.782 L 218.829,98.9646\" style=\"fill:none;fill-rule:evenodd;stroke:#000000;stroke-width:2.0px;stroke-linecap:butt;stroke-linejoin:miter;stroke-opacity:1\"/>\n",
       "<path class=\"bond-3 atom-3 atom-4\" d=\"M 218.829,98.9646 L 242.8,85.1475\" style=\"fill:none;fill-rule:evenodd;stroke:#FF0000;stroke-width:2.0px;stroke-linecap:butt;stroke-linejoin:miter;stroke-opacity:1\"/>\n",
       "<path class=\"bond-4 atom-3 atom-5\" d=\"M 198.113,118.429 L 198.09,146.579\" style=\"fill:none;fill-rule:evenodd;stroke:#000000;stroke-width:2.0px;stroke-linecap:butt;stroke-linejoin:miter;stroke-opacity:1\"/>\n",
       "<path class=\"bond-4 atom-3 atom-5\" d=\"M 198.09,146.579 L 198.068,174.728\" style=\"fill:none;fill-rule:evenodd;stroke:#FF0000;stroke-width:2.0px;stroke-linecap:butt;stroke-linejoin:miter;stroke-opacity:1\"/>\n",
       "<path class=\"atom-2\" d=\"M 22.77 104.168 L 26.61 104.168 L 26.61 116.208 L 41.09 116.208 L 41.09 104.168 L 44.93 104.168 L 44.93 132.488 L 41.09 132.488 L 41.09 119.408 L 26.61 119.408 L 26.61 132.488 L 22.77 132.488 L 22.77 104.168 \" fill=\"#0000FF\"/>\n",
       "<path class=\"atom-2\" d=\"M 55.0148 136.801 Q 56.8364 137.329, 57.7076 138.517 Q 58.6052 139.678, 58.6052 141.526 Q 58.6052 143.11, 57.8132 144.351 Q 57.0212 145.565, 55.5692 146.252 Q 54.1172 146.912, 52.2164 146.912 Q 50.21 146.912, 48.7052 146.225 Q 47.2268 145.513, 46.0388 144.087 L 47.5436 142.556 Q 48.7052 143.823, 49.682 144.325 Q 50.6588 144.8, 52.2164 144.8 Q 53.906 144.8, 54.9356 143.902 Q 55.9652 142.978, 55.9652 141.5 Q 55.9652 139.599, 54.8828 138.754 Q 53.8268 137.883, 51.53 137.883 L 50.1836 137.883 L 50.1836 135.982 L 51.3716 135.982 Q 53.4044 135.956, 54.4868 135.085 Q 55.5692 134.187, 55.5692 132.524 Q 55.5692 131.309, 54.6716 130.597 Q 53.774 129.857, 52.2428 129.857 Q 50.6852 129.857, 49.7084 130.412 Q 48.758 130.966, 48.0188 132.365 L 46.1972 131.389 Q 46.8572 129.831, 48.4412 128.801 Q 50.0252 127.745, 52.2428 127.745 Q 54.9884 127.745, 56.5988 129.039 Q 58.2092 130.333, 58.2092 132.524 Q 58.2092 134.029, 57.3908 135.111 Q 56.5724 136.193, 55.0148 136.801 \" fill=\"#0000FF\"/>\n",
       "<path class=\"atom-2\" d=\"M 66.4052 104.168 L 75.6852 119.168 Q 76.6052 120.648, 78.0852 123.328 Q 79.5652 126.008, 79.6452 126.168 L 79.6452 104.168 L 83.4052 104.168 L 83.4052 132.488 L 79.5252 132.488 L 69.5652 116.088 Q 68.4052 114.168, 67.1652 111.968 Q 65.9652 109.768, 65.6052 109.088 L 65.6052 132.488 L 61.9252 132.488 L 61.9252 104.168 L 66.4052 104.168 \" fill=\"#0000FF\"/>\n",
       "<path class=\"atom-2\" d=\"M 85.7812 109.273 L 90.7708 109.273 L 90.7708 104.019 L 92.9884 104.019 L 92.9884 109.273 L 98.11 109.273 L 98.11 111.173 L 92.9884 111.173 L 92.9884 116.453 L 90.7708 116.453 L 90.7708 111.173 L 85.7812 111.173 L 85.7812 109.273 \" fill=\"#0000FF\"/>\n",
       "<path class=\"atom-4\" d=\"M 247.866 82.338 Q 247.866 75.538, 251.226 71.738 Q 254.586 67.938, 260.866 67.938 Q 267.146 67.938, 270.506 71.738 Q 273.866 75.538, 273.866 82.338 Q 273.866 89.218, 270.466 93.138 Q 267.066 97.018, 260.866 97.018 Q 254.626 97.018, 251.226 93.138 Q 247.866 89.258, 247.866 82.338 M 260.866 93.818 Q 265.186 93.818, 267.506 90.938 Q 269.866 88.018, 269.866 82.338 Q 269.866 76.778, 267.506 73.978 Q 265.186 71.138, 260.866 71.138 Q 256.546 71.138, 254.186 73.938 Q 251.866 76.738, 251.866 82.338 Q 251.866 88.058, 254.186 90.938 Q 256.546 93.818, 260.866 93.818 \" fill=\"#FF0000\"/>\n",
       "<path class=\"atom-5\" d=\"M 185.055 190.939 Q 185.055 184.139, 188.415 180.339 Q 191.775 176.539, 198.055 176.539 Q 204.335 176.539, 207.695 180.339 Q 211.055 184.139, 211.055 190.939 Q 211.055 197.819, 207.655 201.739 Q 204.255 205.619, 198.055 205.619 Q 191.815 205.619, 188.415 201.739 Q 185.055 197.859, 185.055 190.939 M 198.055 202.419 Q 202.375 202.419, 204.695 199.539 Q 207.055 196.619, 207.055 190.939 Q 207.055 185.379, 204.695 182.579 Q 202.375 179.739, 198.055 179.739 Q 193.735 179.739, 191.375 182.539 Q 189.055 185.339, 189.055 190.939 Q 189.055 196.659, 191.375 199.539 Q 193.735 202.419, 198.055 202.419 \" fill=\"#FF0000\"/>\n",
       "<path class=\"atom-5\" d=\"M 212.375 181.161 L 222.064 181.161 L 222.064 183.273 L 212.375 183.273 L 212.375 181.161 \" fill=\"#FF0000\"/>\n",
       "</svg>"
      ],
      "text/plain": [
       "<IPython.core.display.SVG object>"
      ]
     },
     "execution_count": 138,
     "metadata": {},
     "output_type": "execute_result"
    }
   ],
   "source": [
    "# Note that this mapping is off-by-one from the mapping taken \n",
    "# by the remap method, as Python indexing is 0-based but SMILES\n",
    "# is 1-based\n",
    "print(\"Before remapping:\", zw_l_alanine.to_smiles(mapped=True))\n",
    "\n",
    "# Flip the positions of the oxygen atoms\n",
    "remapped = zw_l_alanine.remap({0: 0, 1: 1, 2: 2, 3: 3, 4: 4, 5: 6, 6: 5, 7: 7, 8: 8, 9: 9, 10: 10, 11: 11, 12: 12})\n",
    "\n",
    "print(\"After remapping: \", remapped.to_smiles(mapped=True))\n",
    "\n",
    "# Doesn't affect the identity of the molecule\n",
    "assert zw_l_alanine.is_isomorphic_with(remapped)\n",
    "visualize(remapped)"
   ]
  },
  {
   "cell_type": "markdown",
   "id": "d5e4330a",
   "metadata": {},
   "source": [
    "## Via `Topology` objects\n",
    "\n",
    "The [`Topology`](openff.toolkit.topology.Topology) class represents a biomolecular system; it is analogous to the similarly named objects in GROMACS, MDTraj or OpenMM. Notably, it does not include co-ordinates and may represent multiple copies of a particular molecular species or even more complex mixtures of molecules. `Topology` objects are usually built up one species at a time from `Molecule` objects.\n",
    "\n",
    "The [`Molecule.from_topology()`](openff.toolkit.topology.Molecule.from_topology) method constructs a `Molecule` from a `Topology`. This is usually going backwards, but the method does allow construction of `Molecule` objects from a few sources that represent molecular mixtures, like the aforementioned `Topology` or `System`.\n",
    "\n",
    "- Things that go through Topology, and you actually need to know the GRAPH of the molecule ahead of time (they require a unique_molecules keyword argument with the full identity of the molecules to run). This really just reorders the atoms to be in the other object’s order:\n",
    "\n",
    "    - [ ] Topology.from_openmm (add’l step mol=topology.reference_molecules[0])\n",
    "\n",
    "    - [ ] Topology.from_mdtraj (add’l step mol=topology.reference_molecules[0])"
   ]
  },
  {
   "cell_type": "markdown",
   "id": "95eab062",
   "metadata": {},
   "source": [
    "### From an OpenMM `Topology`\n",
    "\n",
    "The [`Topology.from_openmm()`](openff.toolkit.topology.Topology.from_openmm) method constructs an OpenFF `Topology` from an OpenMM [`Topology`](simtk.openmm.app.topology.Topology). The method requires that all the unique molecules in the `Topology` are provided as OpenFF `Molecule` objects, as the structure of an OpenMM `Topology` doesn't include the concept of a molecule. When using this method to create a `Molecule`, this limitation means that the method really only offers a pathway to reorder the atoms of a `Molecule` to match that of the OpenMM `Topology`."
   ]
  },
  {
   "cell_type": "code",
   "execution_count": null,
   "id": "40645664",
   "metadata": {},
   "outputs": [],
   "source": []
  },
  {
   "cell_type": "markdown",
   "id": "29c39bd1",
   "metadata": {},
   "source": [
    "## From Toolkit objects\n",
    "\n",
    "The OpenFF Toolkit calls out to other software to perform low-level tasks like reading SMILES or files. These external software packages are called toolkits, and presently include [RDKit](https://www.rdkit.org/) and the [OpenEye Toolkit](https://www.eyesopen.com/toolkit-development). OpenFF `Molecule` objects can be created from the equivalent objects in these toolkits."
   ]
  },
  {
   "cell_type": "markdown",
   "id": "c6f2af84",
   "metadata": {},
   "source": [
    "### From RDKit `Mol`\n",
    "\n",
    "The [`Molecule.from_rdkit()`](openff.toolkit.topology.Molecule.from_rdkit) method converts an [`rdkit.Chem.rdchem.Mol`](rdkit.Chem.rdchem.Mol) object to an OpenFF `Molecule`."
   ]
  },
  {
   "cell_type": "code",
   "execution_count": 17,
   "id": "fae232e6",
   "metadata": {},
   "outputs": [
    {
     "name": "stdout",
     "output_type": "stream",
     "text": [
      "rdmol is of type <class 'rdkit.Chem.rdchem.Mol'>\n"
     ]
    },
    {
     "data": {
      "image/svg+xml": [
       "<svg baseProfile=\"full\" height=\"214px\" version=\"1.1\" viewBox=\"0 0 300 214\" width=\"300px\" xml:space=\"preserve\" xmlns=\"http://www.w3.org/2000/svg\" xmlns:rdkit=\"http://www.rdkit.org/xml\" xmlns:xlink=\"http://www.w3.org/1999/xlink\">\n",
       "<!-- END OF HEADER -->\n",
       "<rect height=\"214\" style=\"opacity:1.0;fill:#FFFFFF;stroke:none\" width=\"300\" x=\"0\" y=\"0\"> </rect>\n",
       "<path class=\"bond-0 atom-1 atom-0\" d=\"M 135.418,82.1566 L 141.995,9.73249 L 128.957,9.72206 Z\" style=\"fill:#000000;fill-rule:evenodd;fill-opacity:1;stroke:#000000;stroke-width:2.0px;stroke-linecap:butt;stroke-linejoin:miter;stroke-opacity:1;\"/>\n",
       "<path class=\"bond-1 atom-1 atom-2\" d=\"M 135.418,82.1566 L 117.669,92.3871\" style=\"fill:none;fill-rule:evenodd;stroke:#000000;stroke-width:2.0px;stroke-linecap:butt;stroke-linejoin:miter;stroke-opacity:1\"/>\n",
       "<path class=\"bond-1 atom-1 atom-2\" d=\"M 117.669,92.3871 L 99.9208,102.618\" style=\"fill:none;fill-rule:evenodd;stroke:#0000FF;stroke-width:2.0px;stroke-linecap:butt;stroke-linejoin:miter;stroke-opacity:1\"/>\n",
       "<path class=\"bond-2 atom-1 atom-3\" d=\"M 135.418,82.1566 L 198.113,118.429\" style=\"fill:none;fill-rule:evenodd;stroke:#000000;stroke-width:2.0px;stroke-linecap:butt;stroke-linejoin:miter;stroke-opacity:1\"/>\n",
       "<path class=\"bond-3 atom-3 atom-4\" d=\"M 198.113,118.429 L 198.09,146.579\" style=\"fill:none;fill-rule:evenodd;stroke:#000000;stroke-width:2.0px;stroke-linecap:butt;stroke-linejoin:miter;stroke-opacity:1\"/>\n",
       "<path class=\"bond-3 atom-3 atom-4\" d=\"M 198.09,146.579 L 198.068,174.728\" style=\"fill:none;fill-rule:evenodd;stroke:#FF0000;stroke-width:2.0px;stroke-linecap:butt;stroke-linejoin:miter;stroke-opacity:1\"/>\n",
       "<path class=\"bond-4 atom-3 atom-5\" d=\"M 201.368,124.077 L 225.339,110.26\" style=\"fill:none;fill-rule:evenodd;stroke:#000000;stroke-width:2.0px;stroke-linecap:butt;stroke-linejoin:miter;stroke-opacity:1\"/>\n",
       "<path class=\"bond-4 atom-3 atom-5\" d=\"M 225.339,110.26 L 249.31,96.4427\" style=\"fill:none;fill-rule:evenodd;stroke:#FF0000;stroke-width:2.0px;stroke-linecap:butt;stroke-linejoin:miter;stroke-opacity:1\"/>\n",
       "<path class=\"bond-4 atom-3 atom-5\" d=\"M 194.858,112.782 L 218.829,98.9646\" style=\"fill:none;fill-rule:evenodd;stroke:#000000;stroke-width:2.0px;stroke-linecap:butt;stroke-linejoin:miter;stroke-opacity:1\"/>\n",
       "<path class=\"bond-4 atom-3 atom-5\" d=\"M 218.829,98.9646 L 242.8,85.1475\" style=\"fill:none;fill-rule:evenodd;stroke:#FF0000;stroke-width:2.0px;stroke-linecap:butt;stroke-linejoin:miter;stroke-opacity:1\"/>\n",
       "<path class=\"atom-2\" d=\"M 22.77 104.168 L 26.61 104.168 L 26.61 116.208 L 41.09 116.208 L 41.09 104.168 L 44.93 104.168 L 44.93 132.488 L 41.09 132.488 L 41.09 119.408 L 26.61 119.408 L 26.61 132.488 L 22.77 132.488 L 22.77 104.168 \" fill=\"#0000FF\"/>\n",
       "<path class=\"atom-2\" d=\"M 55.0148 136.801 Q 56.8364 137.329, 57.7076 138.517 Q 58.6052 139.678, 58.6052 141.526 Q 58.6052 143.11, 57.8132 144.351 Q 57.0212 145.565, 55.5692 146.252 Q 54.1172 146.912, 52.2164 146.912 Q 50.21 146.912, 48.7052 146.225 Q 47.2268 145.513, 46.0388 144.087 L 47.5436 142.556 Q 48.7052 143.823, 49.682 144.325 Q 50.6588 144.8, 52.2164 144.8 Q 53.906 144.8, 54.9356 143.902 Q 55.9652 142.978, 55.9652 141.5 Q 55.9652 139.599, 54.8828 138.754 Q 53.8268 137.883, 51.53 137.883 L 50.1836 137.883 L 50.1836 135.982 L 51.3716 135.982 Q 53.4044 135.956, 54.4868 135.085 Q 55.5692 134.187, 55.5692 132.524 Q 55.5692 131.309, 54.6716 130.597 Q 53.774 129.857, 52.2428 129.857 Q 50.6852 129.857, 49.7084 130.412 Q 48.758 130.966, 48.0188 132.365 L 46.1972 131.389 Q 46.8572 129.831, 48.4412 128.801 Q 50.0252 127.745, 52.2428 127.745 Q 54.9884 127.745, 56.5988 129.039 Q 58.2092 130.333, 58.2092 132.524 Q 58.2092 134.029, 57.3908 135.111 Q 56.5724 136.193, 55.0148 136.801 \" fill=\"#0000FF\"/>\n",
       "<path class=\"atom-2\" d=\"M 66.4052 104.168 L 75.6852 119.168 Q 76.6052 120.648, 78.0852 123.328 Q 79.5652 126.008, 79.6452 126.168 L 79.6452 104.168 L 83.4052 104.168 L 83.4052 132.488 L 79.5252 132.488 L 69.5652 116.088 Q 68.4052 114.168, 67.1652 111.968 Q 65.9652 109.768, 65.6052 109.088 L 65.6052 132.488 L 61.9252 132.488 L 61.9252 104.168 L 66.4052 104.168 \" fill=\"#0000FF\"/>\n",
       "<path class=\"atom-2\" d=\"M 85.7812 109.273 L 90.7708 109.273 L 90.7708 104.019 L 92.9884 104.019 L 92.9884 109.273 L 98.11 109.273 L 98.11 111.173 L 92.9884 111.173 L 92.9884 116.453 L 90.7708 116.453 L 90.7708 111.173 L 85.7812 111.173 L 85.7812 109.273 \" fill=\"#0000FF\"/>\n",
       "<path class=\"atom-4\" d=\"M 185.055 190.939 Q 185.055 184.139, 188.415 180.339 Q 191.775 176.539, 198.055 176.539 Q 204.335 176.539, 207.695 180.339 Q 211.055 184.139, 211.055 190.939 Q 211.055 197.819, 207.655 201.739 Q 204.255 205.619, 198.055 205.619 Q 191.815 205.619, 188.415 201.739 Q 185.055 197.859, 185.055 190.939 M 198.055 202.419 Q 202.375 202.419, 204.695 199.539 Q 207.055 196.619, 207.055 190.939 Q 207.055 185.379, 204.695 182.579 Q 202.375 179.739, 198.055 179.739 Q 193.735 179.739, 191.375 182.539 Q 189.055 185.339, 189.055 190.939 Q 189.055 196.659, 191.375 199.539 Q 193.735 202.419, 198.055 202.419 \" fill=\"#FF0000\"/>\n",
       "<path class=\"atom-4\" d=\"M 212.375 181.161 L 222.064 181.161 L 222.064 183.273 L 212.375 183.273 L 212.375 181.161 \" fill=\"#FF0000\"/>\n",
       "<path class=\"atom-5\" d=\"M 247.866 82.338 Q 247.866 75.538, 251.226 71.738 Q 254.586 67.938, 260.866 67.938 Q 267.146 67.938, 270.506 71.738 Q 273.866 75.538, 273.866 82.338 Q 273.866 89.218, 270.466 93.138 Q 267.066 97.018, 260.866 97.018 Q 254.626 97.018, 251.226 93.138 Q 247.866 89.258, 247.866 82.338 M 260.866 93.818 Q 265.186 93.818, 267.506 90.938 Q 269.866 88.018, 269.866 82.338 Q 269.866 76.778, 267.506 73.978 Q 265.186 71.138, 260.866 71.138 Q 256.546 71.138, 254.186 73.938 Q 251.866 76.738, 251.866 82.338 Q 251.866 88.058, 254.186 90.938 Q 256.546 93.818, 260.866 93.818 \" fill=\"#FF0000\"/>\n",
       "</svg>"
      ],
      "text/plain": [
       "<IPython.core.display.SVG object>"
      ]
     },
     "execution_count": 17,
     "metadata": {},
     "output_type": "execute_result"
    }
   ],
   "source": [
    "from rdkit import Chem\n",
    "rdmol = Chem.MolFromSmiles(\"C[C@H]([NH3+])C([O-])=O\")\n",
    "\n",
    "print(\"rdmol is of type\", type(rdmol))\n",
    "\n",
    "from_rdmol = Molecule.from_rdkit(rdmol)\n",
    "\n",
    "assert zw_l_alanine.is_isomorphic_with(from_rdmol)\n",
    "visualize(from_rdmol)"
   ]
  },
  {
   "cell_type": "markdown",
   "id": "6fe44fac",
   "metadata": {},
   "source": [
    "### From OpenEye `OEMol`\n",
    "\n",
    "The [`Molecule.from_openeye()`](openff.toolkit.topology.Molecule.from_rdkit) method converts an object that inherits from [`openeye.oechem.OEMolBase`](https://docs.eyesopen.com/toolkits/python/oechemtk/OEChemClasses/OEMolBase.html) to an OpenFF `Molecule`."
   ]
  },
  {
   "cell_type": "code",
   "execution_count": 15,
   "id": "c186257f",
   "metadata": {},
   "outputs": [
    {
     "data": {
      "image/svg+xml": [
       "<svg baseProfile=\"full\" height=\"214px\" version=\"1.1\" viewBox=\"0 0 300 214\" width=\"300px\" xml:space=\"preserve\" xmlns=\"http://www.w3.org/2000/svg\" xmlns:rdkit=\"http://www.rdkit.org/xml\" xmlns:xlink=\"http://www.w3.org/1999/xlink\">\n",
       "<!-- END OF HEADER -->\n",
       "<rect height=\"214\" style=\"opacity:1.0;fill:#FFFFFF;stroke:none\" width=\"300\" x=\"0\" y=\"0\"> </rect>\n",
       "<path class=\"bond-0 atom-1 atom-0\" d=\"M 135.418,82.1566 L 141.995,9.73249 L 128.957,9.72206 Z\" style=\"fill:#000000;fill-rule:evenodd;fill-opacity:1;stroke:#000000;stroke-width:2.0px;stroke-linecap:butt;stroke-linejoin:miter;stroke-opacity:1;\"/>\n",
       "<path class=\"bond-1 atom-1 atom-2\" d=\"M 135.418,82.1566 L 117.669,92.3871\" style=\"fill:none;fill-rule:evenodd;stroke:#000000;stroke-width:2.0px;stroke-linecap:butt;stroke-linejoin:miter;stroke-opacity:1\"/>\n",
       "<path class=\"bond-1 atom-1 atom-2\" d=\"M 117.669,92.3871 L 99.9208,102.618\" style=\"fill:none;fill-rule:evenodd;stroke:#0000FF;stroke-width:2.0px;stroke-linecap:butt;stroke-linejoin:miter;stroke-opacity:1\"/>\n",
       "<path class=\"bond-2 atom-1 atom-3\" d=\"M 135.418,82.1566 L 198.113,118.429\" style=\"fill:none;fill-rule:evenodd;stroke:#000000;stroke-width:2.0px;stroke-linecap:butt;stroke-linejoin:miter;stroke-opacity:1\"/>\n",
       "<path class=\"bond-3 atom-3 atom-4\" d=\"M 198.113,118.429 L 198.09,146.579\" style=\"fill:none;fill-rule:evenodd;stroke:#000000;stroke-width:2.0px;stroke-linecap:butt;stroke-linejoin:miter;stroke-opacity:1\"/>\n",
       "<path class=\"bond-3 atom-3 atom-4\" d=\"M 198.09,146.579 L 198.068,174.728\" style=\"fill:none;fill-rule:evenodd;stroke:#FF0000;stroke-width:2.0px;stroke-linecap:butt;stroke-linejoin:miter;stroke-opacity:1\"/>\n",
       "<path class=\"bond-4 atom-3 atom-5\" d=\"M 201.368,124.077 L 225.339,110.26\" style=\"fill:none;fill-rule:evenodd;stroke:#000000;stroke-width:2.0px;stroke-linecap:butt;stroke-linejoin:miter;stroke-opacity:1\"/>\n",
       "<path class=\"bond-4 atom-3 atom-5\" d=\"M 225.339,110.26 L 249.31,96.4427\" style=\"fill:none;fill-rule:evenodd;stroke:#FF0000;stroke-width:2.0px;stroke-linecap:butt;stroke-linejoin:miter;stroke-opacity:1\"/>\n",
       "<path class=\"bond-4 atom-3 atom-5\" d=\"M 194.858,112.782 L 218.829,98.9646\" style=\"fill:none;fill-rule:evenodd;stroke:#000000;stroke-width:2.0px;stroke-linecap:butt;stroke-linejoin:miter;stroke-opacity:1\"/>\n",
       "<path class=\"bond-4 atom-3 atom-5\" d=\"M 218.829,98.9646 L 242.8,85.1475\" style=\"fill:none;fill-rule:evenodd;stroke:#FF0000;stroke-width:2.0px;stroke-linecap:butt;stroke-linejoin:miter;stroke-opacity:1\"/>\n",
       "<path class=\"atom-2\" d=\"M 22.77 104.168 L 26.61 104.168 L 26.61 116.208 L 41.09 116.208 L 41.09 104.168 L 44.93 104.168 L 44.93 132.488 L 41.09 132.488 L 41.09 119.408 L 26.61 119.408 L 26.61 132.488 L 22.77 132.488 L 22.77 104.168 \" fill=\"#0000FF\"/>\n",
       "<path class=\"atom-2\" d=\"M 55.0148 136.801 Q 56.8364 137.329, 57.7076 138.517 Q 58.6052 139.678, 58.6052 141.526 Q 58.6052 143.11, 57.8132 144.351 Q 57.0212 145.565, 55.5692 146.252 Q 54.1172 146.912, 52.2164 146.912 Q 50.21 146.912, 48.7052 146.225 Q 47.2268 145.513, 46.0388 144.087 L 47.5436 142.556 Q 48.7052 143.823, 49.682 144.325 Q 50.6588 144.8, 52.2164 144.8 Q 53.906 144.8, 54.9356 143.902 Q 55.9652 142.978, 55.9652 141.5 Q 55.9652 139.599, 54.8828 138.754 Q 53.8268 137.883, 51.53 137.883 L 50.1836 137.883 L 50.1836 135.982 L 51.3716 135.982 Q 53.4044 135.956, 54.4868 135.085 Q 55.5692 134.187, 55.5692 132.524 Q 55.5692 131.309, 54.6716 130.597 Q 53.774 129.857, 52.2428 129.857 Q 50.6852 129.857, 49.7084 130.412 Q 48.758 130.966, 48.0188 132.365 L 46.1972 131.389 Q 46.8572 129.831, 48.4412 128.801 Q 50.0252 127.745, 52.2428 127.745 Q 54.9884 127.745, 56.5988 129.039 Q 58.2092 130.333, 58.2092 132.524 Q 58.2092 134.029, 57.3908 135.111 Q 56.5724 136.193, 55.0148 136.801 \" fill=\"#0000FF\"/>\n",
       "<path class=\"atom-2\" d=\"M 66.4052 104.168 L 75.6852 119.168 Q 76.6052 120.648, 78.0852 123.328 Q 79.5652 126.008, 79.6452 126.168 L 79.6452 104.168 L 83.4052 104.168 L 83.4052 132.488 L 79.5252 132.488 L 69.5652 116.088 Q 68.4052 114.168, 67.1652 111.968 Q 65.9652 109.768, 65.6052 109.088 L 65.6052 132.488 L 61.9252 132.488 L 61.9252 104.168 L 66.4052 104.168 \" fill=\"#0000FF\"/>\n",
       "<path class=\"atom-2\" d=\"M 85.7812 109.273 L 90.7708 109.273 L 90.7708 104.019 L 92.9884 104.019 L 92.9884 109.273 L 98.11 109.273 L 98.11 111.173 L 92.9884 111.173 L 92.9884 116.453 L 90.7708 116.453 L 90.7708 111.173 L 85.7812 111.173 L 85.7812 109.273 \" fill=\"#0000FF\"/>\n",
       "<path class=\"atom-4\" d=\"M 185.055 190.939 Q 185.055 184.139, 188.415 180.339 Q 191.775 176.539, 198.055 176.539 Q 204.335 176.539, 207.695 180.339 Q 211.055 184.139, 211.055 190.939 Q 211.055 197.819, 207.655 201.739 Q 204.255 205.619, 198.055 205.619 Q 191.815 205.619, 188.415 201.739 Q 185.055 197.859, 185.055 190.939 M 198.055 202.419 Q 202.375 202.419, 204.695 199.539 Q 207.055 196.619, 207.055 190.939 Q 207.055 185.379, 204.695 182.579 Q 202.375 179.739, 198.055 179.739 Q 193.735 179.739, 191.375 182.539 Q 189.055 185.339, 189.055 190.939 Q 189.055 196.659, 191.375 199.539 Q 193.735 202.419, 198.055 202.419 \" fill=\"#FF0000\"/>\n",
       "<path class=\"atom-4\" d=\"M 212.375 181.161 L 222.064 181.161 L 222.064 183.273 L 212.375 183.273 L 212.375 181.161 \" fill=\"#FF0000\"/>\n",
       "<path class=\"atom-5\" d=\"M 247.866 82.338 Q 247.866 75.538, 251.226 71.738 Q 254.586 67.938, 260.866 67.938 Q 267.146 67.938, 270.506 71.738 Q 273.866 75.538, 273.866 82.338 Q 273.866 89.218, 270.466 93.138 Q 267.066 97.018, 260.866 97.018 Q 254.626 97.018, 251.226 93.138 Q 247.866 89.258, 247.866 82.338 M 260.866 93.818 Q 265.186 93.818, 267.506 90.938 Q 269.866 88.018, 269.866 82.338 Q 269.866 76.778, 267.506 73.978 Q 265.186 71.138, 260.866 71.138 Q 256.546 71.138, 254.186 73.938 Q 251.866 76.738, 251.866 82.338 Q 251.866 88.058, 254.186 90.938 Q 256.546 93.818, 260.866 93.818 \" fill=\"#FF0000\"/>\n",
       "</svg>"
      ],
      "text/plain": [
       "<IPython.core.display.SVG object>"
      ]
     },
     "execution_count": 15,
     "metadata": {},
     "output_type": "execute_result"
    }
   ],
   "source": [
    "from openeye import oechem\n",
    "\n",
    "oemol = oechem.OEGraphMol()\n",
    "oechem.OESmilesToMol(oemol, \"C[C@H]([NH3+])C([O-])=O\")\n",
    "\n",
    "assert isinstance(oemol, oechem.OEMolBase)\n",
    "\n",
    "from_oemol = Molecule.from_openeye(oemol)\n",
    "\n",
    "assert zw_l_alanine.is_isomorphic_with(from_oemol)\n",
    "visualize(from_oemol)"
   ]
  },
  {
   "cell_type": "markdown",
   "id": "15765778",
   "metadata": {},
   "source": [
    "## From QCArchive\n",
    "\n",
    "[QCArchive](https://qcarchive.molssi.org/) is a repository of quantum chemical calculations on small molecules. The [`Molecule.from_qcschema()`](openff.toolkit.topology.Molecule.from_qcschema) method creates a `Molecule` from a record from the archive. Because the identity of a molecule can change of the course of a QC calculation, the Toolkit accepts records only if they contain a hydrogen-mapped SMILES code."
   ]
  },
  {
   "cell_type": "markdown",
   "id": "0f143a62",
   "metadata": {},
   "source": [
    "### From a QCArchive molecule record"
   ]
  },
  {
   "cell_type": "code",
   "execution_count": 237,
   "id": "8e026b0f",
   "metadata": {},
   "outputs": [
    {
     "ename": "KeyError",
     "evalue": "\"The record must contain the hydrogen mapped smiles to be safely made from the archive. It is not present in either 'attributes' or 'extras' on the provided `qca_record`\"",
     "output_type": "error",
     "traceback": [
      "\u001b[0;31mKeyError\u001b[0m\u001b[0;31m:\u001b[0m \"The record must contain the hydrogen mapped smiles to be safely made from the archive. It is not present in either 'attributes' or 'extras' on the provided `qca_record`\"\n"
     ]
    }
   ],
   "source": [
    "from qcportal import FractalClient\n",
    "\n",
    "client = FractalClient()\n",
    "qc_mols = client.query_molecules(molecular_formula=\"C3H7NO2\", limit=1)\n",
    "\n",
    "from_qc_mol = Molecule.from_qcschema(qc_mols[0])\n",
    "\n",
    "visualize(from_qc_mol)"
   ]
  },
  {
   "cell_type": "markdown",
   "id": "709424e6",
   "metadata": {},
   "source": [
    "# TODO\n",
    "\n",
    "Several of these methods do not exist in the Molecule class. I have styled them with ~~strikethroughs~~\n",
    "\n",
    "- [x] “Molecules should have explicit hydrogens, bond orders, formal charges, stereochemistry (defined on GRAPH, not just 3D)”\n",
    "\n",
    "- [x] Molecule.add_atom and Molecule.add_bond\n",
    "\n",
    "- [x] from_file\n",
    "\n",
    "- [x] ~~from_file_obj~~ <!-- This method exists on ToolkitWrapper, but not Molecule -->\n",
    "\n",
    "- [x] ~~from_object~~, which really delegates to:\n",
    "\n",
    "    from_rdkit\n",
    "\n",
    "    from_openeye\n",
    "\n",
    "- [x] from_smiles\n",
    "\n",
    "- [x] from_mapped_smiles\n",
    "\n",
    "- [ ] from_qcschema\n",
    "\n",
    "- [x] offmol.remap (instance method)\n",
    "\n",
    "- [ ] from_topology\n",
    "\n",
    "- [x] from_inchi – “InChI is not intended to be an interchange format” NOTE THAT THIS DOESN’T PRESERVE ATOM ORDER!!\n",
    "\n",
    "- [x] from_iupac (requires OpenEye)\n",
    "\n",
    "- Things that go through Topology, and you actually need to know the GRAPH of the molecule ahead of time (they require a unique_molecules keyword argument with the full identity of the molecules to run). This really just reorders the atoms to be in the other object’s order:\n",
    "\n",
    "    - [ ] Topology.from_openmm (add’l step mol=topology.reference_molecules[0])\n",
    "\n",
    "    - [ ] Topology.from_mdtraj (add’l step mol=topology.reference_molecules[0])\n",
    "\n",
    "- [x] Molecule.from_pdb_and_smiles \n",
    "\n",
    "- [ ] Molecule.from_dict() (which underlies from_ bson, json, toml, messagepack, yaml, pickle, etc)"
   ]
  },
  {
   "cell_type": "code",
   "execution_count": null,
   "id": "f49f9669",
   "metadata": {},
   "outputs": [],
   "source": []
  }
 ],
 "metadata": {
  "celltoolbar": "Tags",
  "kernelspec": {
   "display_name": "Python 3",
   "language": "python",
   "name": "python3"
  },
  "language_info": {
   "codemirror_mode": {
    "name": "ipython",
    "version": 3
   },
   "file_extension": ".py",
   "mimetype": "text/x-python",
   "name": "python",
   "nbconvert_exporter": "python",
   "pygments_lexer": "ipython3",
   "version": "3.7.10"
  },
  "widgets": {
   "application/vnd.jupyter.widget-state+json": {
    "state": {
     "08e16c2c73ef4ac4a787b30b441e2e7b": {
      "model_module": "@jupyter-widgets/base",
      "model_module_version": "1.2.0",
      "model_name": "LayoutModel",
      "state": {}
     },
     "14c22e59a2ae49ec84dde8720e98d0b8": {
      "model_module": "@jupyter-widgets/base",
      "model_module_version": "1.2.0",
      "model_name": "LayoutModel",
      "state": {
       "width": "34px"
      }
     },
     "277cdcd24a494da5ba7e760a21598122": {
      "model_module": "@jupyter-widgets/controls",
      "model_module_version": "1.5.0",
      "model_name": "LinkModel",
      "state": {
       "source": [
        "IPY_MODEL_e5615f7c0b6f4533b48a02529062c0e6",
        "value"
       ],
       "target": [
        "IPY_MODEL_6a029f2e84fd477bae314907cf2e005c",
        "value"
       ]
      }
     },
     "2ec14012be23440883e52d43582eb8c9": {
      "model_module": "@jupyter-widgets/controls",
      "model_module_version": "1.5.0",
      "model_name": "SliderStyleModel",
      "state": {
       "description_width": ""
      }
     },
     "4935c92b167d4b729fbc084d8e557e0b": {
      "model_module": "@jupyter-widgets/controls",
      "model_module_version": "1.5.0",
      "model_name": "LinkModel",
      "state": {
       "source": [
        "IPY_MODEL_6a029f2e84fd477bae314907cf2e005c",
        "max"
       ],
       "target": [
        "IPY_MODEL_99dcce34cf374921a6f43e46c4a4196e",
        "max_frame"
       ]
      }
     },
     "49ddfb47a55c4a3b90ff121ac69c25c9": {
      "model_module": "@jupyter-widgets/controls",
      "model_module_version": "1.5.0",
      "model_name": "LinkModel",
      "state": {
       "source": [
        "IPY_MODEL_e5615f7c0b6f4533b48a02529062c0e6",
        "max"
       ],
       "target": [
        "IPY_MODEL_99dcce34cf374921a6f43e46c4a4196e",
        "max_frame"
       ]
      }
     },
     "4dbc876c32d84f438d1602ec2de88647": {
      "model_module": "nglview-js-widgets",
      "model_module_version": "3.0.1",
      "model_name": "ColormakerRegistryModel",
      "state": {
       "_msg_ar": [],
       "_msg_q": [],
       "_ready": true,
       "layout": "IPY_MODEL_08e16c2c73ef4ac4a787b30b441e2e7b"
      }
     },
     "54f53a2162ed4274ab9b12e5d3e56f18": {
      "model_module": "@jupyter-widgets/base",
      "model_module_version": "1.2.0",
      "model_name": "LayoutModel",
      "state": {}
     },
     "58f6b1d22ecc4a01a8c3909de1bfda2e": {
      "model_module": "@jupyter-widgets/controls",
      "model_module_version": "1.5.0",
      "model_name": "ButtonModel",
      "state": {
       "icon": "compress",
       "layout": "IPY_MODEL_14c22e59a2ae49ec84dde8720e98d0b8",
       "style": "IPY_MODEL_c06029f8e10b4a1299efea13fa2eb483"
      }
     },
     "6a029f2e84fd477bae314907cf2e005c": {
      "model_module": "@jupyter-widgets/controls",
      "model_module_version": "1.5.0",
      "model_name": "IntSliderModel",
      "state": {
       "layout": "IPY_MODEL_54f53a2162ed4274ab9b12e5d3e56f18",
       "max": 1,
       "style": "IPY_MODEL_2ec14012be23440883e52d43582eb8c9"
      }
     },
     "6f050442d6c842318ee15566846ef686": {
      "model_module": "@jupyter-widgets/base",
      "model_module_version": "1.2.0",
      "model_name": "LayoutModel",
      "state": {}
     },
     "771443f6186140aa804aa38e3031f952": {
      "model_module": "@jupyter-widgets/base",
      "model_module_version": "1.2.0",
      "model_name": "LayoutModel",
      "state": {}
     },
     "819e31b0e73646bc8315f258c8712eb7": {
      "model_module": "@jupyter-widgets/controls",
      "model_module_version": "1.5.0",
      "model_name": "LinkModel",
      "state": {
       "source": [
        "IPY_MODEL_e5615f7c0b6f4533b48a02529062c0e6",
        "value"
       ],
       "target": [
        "IPY_MODEL_99dcce34cf374921a6f43e46c4a4196e",
        "frame"
       ]
      }
     },
     "99dcce34cf374921a6f43e46c4a4196e": {
      "model_module": "nglview-js-widgets",
      "model_module_version": "3.0.1",
      "model_name": "NGLModel",
      "state": {
       "_camera_orientation": [
        22.810875528904155,
        11.021739938823039,
        4.410248991160865,
        0,
        -10.534564284612403,
        23.19768433819542,
        -3.4864719297669513,
        0,
        -5.4728422941330335,
        1.285993742067655,
        25.093013114354285,
        0,
        -0.07200002670288086,
        -0.10500001907348633,
        -0.11549997329711914,
        1
       ],
       "_camera_str": "orthographic",
       "_gui_theme": null,
       "_ibtn_fullscreen": "IPY_MODEL_58f6b1d22ecc4a01a8c3909de1bfda2e",
       "_igui": null,
       "_iplayer": "IPY_MODEL_cbddac53f5da4b3386e5bf926524f036",
       "_ngl_color_dict": {},
       "_ngl_coordinate_resource": {},
       "_ngl_full_stage_parameters": {
        "ambientColor": 14540253,
        "ambientIntensity": 0.2,
        "backgroundColor": "white",
        "cameraEyeSep": 0.3,
        "cameraFov": 40,
        "cameraType": "perspective",
        "clipDist": 10,
        "clipFar": 100,
        "clipNear": 0,
        "fogFar": 100,
        "fogNear": 50,
        "hoverTimeout": 0,
        "impostor": true,
        "lightColor": 14540253,
        "lightIntensity": 1,
        "mousePreset": "default",
        "panSpeed": 1,
        "quality": "medium",
        "rotateSpeed": 2,
        "sampleLevel": 0,
        "tooltip": true,
        "workerDefault": true,
        "zoomSpeed": 1.2
       },
       "_ngl_msg_archive": [
        {
         "args": [
          {
           "binary": false,
           "data": "MODEL        1\nHETATM    1  C1  UNL     1      -3.367   0.454   0.079  1.00  0.00           C  \nHETATM    2  C2  UNL     1      -2.602   1.535  -0.295  1.00  0.00           C  \nHETATM    3  C3  UNL     1      -1.231   1.477  -0.084  1.00  0.00           C  \nHETATM    4  C4  UNL     1      -0.636   0.365   0.486  1.00  0.00           C  \nHETATM    5  C5  UNL     1      -1.450  -0.687   0.840  1.00  0.00           C  \nHETATM    6  C6  UNL     1      -2.830  -0.664   0.644  1.00  0.00           C  \nHETATM    7  C7  UNL     1       0.825   0.297   0.714  1.00  0.00           C  \nHETATM    8  C8  UNL     1       1.557  -0.296  -0.486  1.00  0.00           C  \nHETATM    9  C9  UNL     1       3.000  -0.325  -0.168  1.00  0.00           C  \nHETATM   10  O1  UNL     1       3.604  -1.407  -0.072  1.00  0.00           O  \nHETATM   11  O2  UNL     1       3.693   0.851   0.024  1.00  0.00           O  \nHETATM   12  N1  UNL     1       1.050  -1.653  -0.643  1.00  0.00           N  \nHETATM   13  H1  UNL     1      -4.434   0.494  -0.083  1.00  0.00           H  \nHETATM   14  H2  UNL     1      -3.047   2.399  -0.735  1.00  0.00           H  \nHETATM   15  H3  UNL     1      -0.645   2.330  -0.380  1.00  0.00           H  \nHETATM   16  H4  UNL     1      -1.035  -1.571   1.286  1.00  0.00           H  \nHETATM   17  H5  UNL     1      -3.463  -1.505   0.929  1.00  0.00           H  \nHETATM   18  H6  UNL     1       1.097  -0.281   1.622  1.00  0.00           H  \nHETATM   19  H7  UNL     1       1.214   1.336   0.887  1.00  0.00           H  \nHETATM   20  H8  UNL     1       1.362   0.286  -1.391  1.00  0.00           H  \nHETATM   21  H9  UNL     1       4.578   0.909   0.537  1.00  0.00           H  \nHETATM   22  H10 UNL     1       1.636  -2.189  -1.322  1.00  0.00           H  \nHETATM   23  H11 UNL     1       1.123  -2.155   0.272  1.00  0.00           H  \nCONECT    1    2    2    6   13\nCONECT    2    3   14\nCONECT    3    4    4   15\nCONECT    4    5    7\nCONECT    5    6    6   16\nCONECT    6   17\nCONECT    7    8   18   19\nCONECT    8    9   12   20\nCONECT    9   10   10   11\nCONECT   11   21\nCONECT   12   22   23\nENDMDL\nMODEL        2\nHETATM    1  C1  UNL     1       3.122   0.840   0.504  1.00  0.00           C  \nHETATM    2  C2  UNL     1       2.197   1.676  -0.062  1.00  0.00           C  \nHETATM    3  C3  UNL     1       1.012   1.186  -0.555  1.00  0.00           C  \nHETATM    4  C4  UNL     1       0.687  -0.161  -0.508  1.00  0.00           C  \nHETATM    5  C5  UNL     1       1.656  -0.982   0.078  1.00  0.00           C  \nHETATM    6  C6  UNL     1       2.845  -0.492   0.572  1.00  0.00           C  \nHETATM    7  C7  UNL     1      -0.560  -0.734  -1.010  1.00  0.00           C  \nHETATM    8  C8  UNL     1      -1.597  -0.830   0.066  1.00  0.00           C  \nHETATM    9  C9  UNL     1      -1.935   0.478   0.645  1.00  0.00           C  \nHETATM   10  O1  UNL     1      -1.053   1.137   1.236  1.00  0.00           O  \nHETATM   11  O2  UNL     1      -3.206   1.008   0.556  1.00  0.00           O  \nHETATM   12  N1  UNL     1      -2.834  -1.413  -0.433  1.00  0.00           N  \nHETATM   13  H1  UNL     1       4.035   1.233   0.881  1.00  0.00           H  \nHETATM   14  H2  UNL     1       2.407   2.729  -0.120  1.00  0.00           H  \nHETATM   15  H3  UNL     1       0.295   1.887  -1.008  1.00  0.00           H  \nHETATM   16  H4  UNL     1       1.455  -2.054   0.143  1.00  0.00           H  \nHETATM   17  H5  UNL     1       3.594  -1.142   1.026  1.00  0.00           H  \nHETATM   18  H6  UNL     1      -0.419  -1.693  -1.556  1.00  0.00           H  \nHETATM   19  H7  UNL     1      -0.941  -0.024  -1.802  1.00  0.00           H  \nHETATM   20  H8  UNL     1      -1.273  -1.494   0.907  1.00  0.00           H  \nHETATM   21  H9  UNL     1      -3.387   2.024   0.543  1.00  0.00           H  \nHETATM   22  H10 UNL     1      -2.736  -2.388  -0.733  1.00  0.00           H  \nHETATM   23  H11 UNL     1      -3.363  -0.791  -1.053  1.00  0.00           H  \nCONECT    1    2    2    6   13\nCONECT    2    3   14\nCONECT    3    4    4   15\nCONECT    4    5    7\nCONECT    5    6    6   16\nCONECT    6   17\nCONECT    7    8   18   19\nCONECT    8    9   12   20\nCONECT    9   10   10   11\nCONECT   11   21\nCONECT   12   22   23\nENDMDL\n",
           "type": "blob"
          }
         ],
         "kwargs": {
          "defaultRepresentation": true,
          "ext": "pdb"
         },
         "methodName": "loadFile",
         "reconstruc_color_scheme": false,
         "target": "Stage",
         "type": "call_method"
        }
       ],
       "_ngl_original_stage_parameters": {
        "ambientColor": 14540253,
        "ambientIntensity": 0.2,
        "backgroundColor": "white",
        "cameraEyeSep": 0.3,
        "cameraFov": 40,
        "cameraType": "perspective",
        "clipDist": 10,
        "clipFar": 100,
        "clipNear": 0,
        "fogFar": 100,
        "fogNear": 50,
        "hoverTimeout": 0,
        "impostor": true,
        "lightColor": 14540253,
        "lightIntensity": 1,
        "mousePreset": "default",
        "panSpeed": 1,
        "quality": "medium",
        "rotateSpeed": 2,
        "sampleLevel": 0,
        "tooltip": true,
        "workerDefault": true,
        "zoomSpeed": 1.2
       },
       "_ngl_repr_dict": {
        "0": {
         "0": {
          "params": {
           "aspectRatio": 1.5,
           "assembly": "default",
           "bondScale": 0.3,
           "bondSpacing": 0.75,
           "clipCenter": {
            "x": 0,
            "y": 0,
            "z": 0
           },
           "clipNear": 0,
           "clipRadius": 0,
           "colorMode": "hcl",
           "colorReverse": false,
           "colorScale": "",
           "colorScheme": "element",
           "colorValue": 9474192,
           "cylinderOnly": false,
           "defaultAssembly": "",
           "depthWrite": true,
           "diffuse": 16777215,
           "diffuseInterior": false,
           "disableImpostor": false,
           "disablePicking": false,
           "flatShaded": false,
           "interiorColor": 2236962,
           "interiorDarkening": 0,
           "lazy": false,
           "lineOnly": false,
           "linewidth": 2,
           "matrix": {
            "elements": [
             1,
             0,
             0,
             0,
             0,
             1,
             0,
             0,
             0,
             0,
             1,
             0,
             0,
             0,
             0,
             1
            ]
           },
           "metalness": 0,
           "multipleBond": "off",
           "opacity": 1,
           "openEnded": true,
           "quality": "high",
           "radialSegments": 20,
           "radiusData": {},
           "radiusScale": 2,
           "radiusSize": 0.15,
           "radiusType": "size",
           "roughness": 0.4,
           "sele": "",
           "side": "double",
           "sphereDetail": 2,
           "useInteriorColor": true,
           "visible": true,
           "wireframe": false
          },
          "type": "ball+stick"
         }
        }
       },
       "_ngl_serialize": false,
       "_ngl_version": "2.0.0-dev.36",
       "_ngl_view_id": [
        "7CB702E7-220F-44BE-A927-D6D5DCFF620E"
       ],
       "_player_dict": {},
       "_scene_position": {},
       "_scene_rotation": {},
       "_synced_model_ids": [],
       "_synced_repr_model_ids": [],
       "_view_height": "",
       "_view_width": "",
       "background": "white",
       "frame": 0,
       "gui_style": null,
       "layout": "IPY_MODEL_cc26efdb80e848fabb511db5c50159a0",
       "max_frame": 1,
       "n_components": 1,
       "picked": {}
      }
     },
     "9ca77a345a3842969d13976ed63eddb9": {
      "model_module": "@jupyter-widgets/controls",
      "model_module_version": "1.5.0",
      "model_name": "ImageModel",
      "state": {
       "layout": "IPY_MODEL_771443f6186140aa804aa38e3031f952",
       "width": "900.0"
      }
     },
     "a43ee2b371934d8e9c17ce73887c1002": {
      "model_module": "@jupyter-widgets/controls",
      "model_module_version": "1.5.0",
      "model_name": "DescriptionStyleModel",
      "state": {
       "description_width": ""
      }
     },
     "c06029f8e10b4a1299efea13fa2eb483": {
      "model_module": "@jupyter-widgets/controls",
      "model_module_version": "1.5.0",
      "model_name": "ButtonStyleModel",
      "state": {}
     },
     "cbddac53f5da4b3386e5bf926524f036": {
      "model_module": "@jupyter-widgets/controls",
      "model_module_version": "1.5.0",
      "model_name": "HBoxModel",
      "state": {
       "children": [
        "IPY_MODEL_e5615f7c0b6f4533b48a02529062c0e6",
        "IPY_MODEL_6a029f2e84fd477bae314907cf2e005c"
       ],
       "layout": "IPY_MODEL_6f050442d6c842318ee15566846ef686"
      }
     },
     "cc26efdb80e848fabb511db5c50159a0": {
      "model_module": "@jupyter-widgets/base",
      "model_module_version": "1.2.0",
      "model_name": "LayoutModel",
      "state": {}
     },
     "d0f930a83f094fe1bba0d36e96bb8348": {
      "model_module": "@jupyter-widgets/base",
      "model_module_version": "1.2.0",
      "model_name": "LayoutModel",
      "state": {}
     },
     "e5615f7c0b6f4533b48a02529062c0e6": {
      "model_module": "@jupyter-widgets/controls",
      "model_module_version": "1.5.0",
      "model_name": "PlayModel",
      "state": {
       "layout": "IPY_MODEL_d0f930a83f094fe1bba0d36e96bb8348",
       "max": 1,
       "style": "IPY_MODEL_a43ee2b371934d8e9c17ce73887c1002"
      }
     }
    },
    "version_major": 2,
    "version_minor": 0
   }
  }
 },
 "nbformat": 4,
 "nbformat_minor": 5
}
