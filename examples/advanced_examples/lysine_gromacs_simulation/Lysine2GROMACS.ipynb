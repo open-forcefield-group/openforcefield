{
 "cells": [
  {
   "cell_type": "markdown",
   "metadata": {},
   "source": [
    "> # OpenForceField Tutorial 1\n",
    ">> ## How to parametrize a small substrate with OpenFF for Simulation in CHARMM/GROMACS\n",
    ">>> ### Dr. Dennis Della Corte\n",
    ">>> *Department of Physics and Astrophysics,*\n",
    ">>> *Brigham Young University*\n",
    "\n",
    "<img src=\"figs/title.png\">"
   ]
  },
  {
   "cell_type": "markdown",
   "metadata": {},
   "source": [
    "**After completing this tutorial, you will know how to:**\n",
    "-\tParametrize substrates in OpenFF\n",
    "-\tExport structure and topology files for simulation with CHARMM or GROMACS"
   ]
  },
  {
   "cell_type": "markdown",
   "metadata": {},
   "source": [
    "**Preliminaries:**\n",
    "-\tInstall ANACONDA or MINICONDA as described [here](https://docs.anaconda.com/anaconda/install/).\n",
    "-\tInstall the most recent OpenForceField in Linux or Mac Terminal:\n",
    "\n",
    "\t```conda create -n openff python=3.7 anaconda\n",
    "      conda config --add channels omnia --add channels conda-forge\n",
    "      conda update --all\n",
    "\t  conda install -n openff -c omnia smirnoff99frosst\n",
    "      conda activate openff```\n",
    "      \n",
    "-\tInstall the Open Forcefield toolkit:\n",
    "\n",
    "    ```conda install -n openff  -c omnia openforcefield```\n",
    "-\tInstall OpenMM:\n",
    "\n",
    "    ```conda install -n openff -c omnia openmm```\n",
    "-\tOpt.: For MD with GROMACS or CHARMM you will need a running installation of this software; such installations are out of scope for this tutorial.\n"
   ]
  },
  {
   "cell_type": "markdown",
   "metadata": {},
   "source": [
    "# Step by Step Guide:\n",
    "\n",
    "**Case Study: Simulate Lysine in water in GROMACS.**"
   ]
  },
  {
   "cell_type": "markdown",
   "metadata": {},
   "source": [
    "1.\tCheck if someone has done the work for you and your substrate has already been parametrized and uploaded here. If the work has not been done follow the next steps.\n",
    "\n",
    "2.\tMake sure that your installation of OpenFF is up to date by opening a terminal and entering:\n",
    "conda activate openff\n",
    "conda update openforcefield\n",
    "\n",
    "3.\tIn order to parametrize your substrate, you will need the full chemical identity, including Elements, Connectivity, Bond Orders and Formal Charges. The recommended representation of your substrate is Stereo SMILES (you can learn more about this representation [here](http://opensmiles.org/opensmiles.html). A PDB file is typically not sufficient.  You can read the OpenFF FAQ for more details [here](https://open-forcefield-toolkit.readthedocs.io/en/latest/faq.html). If you do not know the SMILES string and cannot obtain it from a collaborator, you can use the following procedure to obtain it for substrates inside of the Protein Data Bank.\n",
    "\n",
    "    1.\tGo to the [Ligand Expo](http://ligand-expo.rcsb.org/ld-search.html)\n",
    "\n",
    "    2.\tEnter as search term a component identifier (3-letter code) <img src=\"figs/fig1.png\">         \n",
    "    3.\tInspect the query results [here](http://ligand-expo.rcsb.org/pyapps/ldHandler.py?formid=cc-index-search&target=LYS&operation=ccid).  Under the tab Chemical Details you can find the stereo SMILES representation of LYSINE as obtained from the OpenEye toolkit: <img src=\"figs/fig2.png\">\n",
    "              \n",
    "    4.\tUnder Downloads you should also download the ideal coordinates of your substrate, the PDB format will suffice for the next steps."
   ]
  },
  {
   "cell_type": "markdown",
   "metadata": {},
   "source": [
    "4.\tWith the SMILES string and PDB in place, we can now go ahead and produce the topology and structure files for simulations with GROMACS or CHARMM. The workflow for this involves an initial conversion to an OpenMM system, followed by a conversion with ParmED to GROMACS or CHARMM topology and structure files.  For this you can copy the following python script into an ipython shell (change directory to where you downloaded the LYS_ideal.pdb, type “ipython” into the terminal and don’t forget to activate the environment with “conda activate openff”) or notebook (expect a warning that the OpenEyeToolkit cannot be imported, which can safely be ignored as you do not need a license for the rest of this tutorial):"
   ]
  },
  {
   "cell_type": "code",
   "execution_count": null,
   "metadata": {},
   "outputs": [],
   "source": [
    "from simtk.openmm.app import PDBFile\n",
    "from openforcefield.typing.engines.smirnoff import ForceField\n",
    "from openforcefield.topology import Molecule, Topology\n",
    "\n",
    "lysine = Molecule.from_smiles(\"C(CC[NH3+])C[C@@H](C(=O)O)N\")\n",
    "pdbfile = PDBFile('LYS_ideal.pdb')\n",
    "\n",
    "omm_topology = pdbfile.topology\n",
    "\n",
    "# Create the Open Forcefield Topology.\n",
    "off_topology = Topology.from_openmm(omm_topology, unique_molecules=[lysine])\n",
    "\n",
    "# Load the smirnoff99Frosst force field.\n",
    "forcefield = ForceField('test_forcefields/smirnoff99Frosst.offxml')\n",
    "omm_system = forcefield.create_openmm_system(off_topology)\n",
    "\n",
    "import parmed\n",
    "\n",
    "# Convert OpenMM System to a ParmEd structure.\n",
    "parmed_structure = parmed.openmm.load_topology(omm_topology, omm_system, pdbfile.positions)\n",
    "\n",
    "# Export AMBER files.\n",
    "parmed_structure.save('system.prmtop', overwrite=True)\n",
    "parmed_structure.save('system.inpcrd', overwrite=True)\n",
    "\n",
    "# Export GROMACS files.\n",
    "parmed_structure.save('system.top', overwrite=True)\n",
    "parmed_structure.save('system.gro', overwrite=True)"
   ]
  },
  {
   "cell_type": "markdown",
   "metadata": {},
   "source": [
    "5.\tThe files system.top and system.gro can now be used to start a simulation of Lysine in Water with GROMACS.  Our topology does not yet include any parametrization for water or ions.  In order to add this, we will have to modify system.top manually.  Open up the file in a text editor and add the forcefield you want to use by including"
   ]
  },
  {
   "cell_type": "raw",
   "metadata": {},
   "source": [
    "; Include forcefield parameters\n",
    "#include \"amber99sb-ildn.ff/forcefield.itp\""
   ]
  },
  {
   "cell_type": "markdown",
   "metadata": {},
   "source": [
    "\n",
    "\n",
    "\n",
    "at the very top over the [defaults] directive of your system.top.  The included forcefield comes with its own [defaults] directive. In order to avoid future errors, delete the lines under the [defaults] directive from system.top:"
   ]
  },
  {
   "cell_type": "raw",
   "metadata": {},
   "source": [
    "[ defaults ]\n",
    "; nbfunc        comb-rule       gen-pairs       fudgeLJ fudgeQQ\n",
    "1               2               no              1            0.83333   "
   ]
  },
  {
   "cell_type": "markdown",
   "metadata": {},
   "source": [
    " Finally, add the water and ions model at the very end of your system.top by including:"
   ]
  },
  {
   "cell_type": "raw",
   "metadata": {},
   "source": [
    "; Include water topology\n",
    "#include \"amber99sb-ildn.ff/tip3p.itp\"\n",
    "\n",
    "#ifdef POSRES_WATER\n",
    "; Position restraint for each water oxygen\n",
    "[ position_restraints ]\n",
    ";  i funct       fcx        fcy        fcz\n",
    "   1    1       1000       1000       1000\n",
    "#endif\n",
    "\n",
    "; Include topology for ions\n",
    "#include \"amber99sb-ildn.ff/ions.itp\""
   ]
  },
  {
   "cell_type": "markdown",
   "metadata": {},
   "source": [
    "    right above the [ molecules ] directive.  "
   ]
  },
  {
   "cell_type": "markdown",
   "metadata": {},
   "source": [
    "6.\tAn example bash script to run the Lysine in water simulation is posted below.  Please make sure that the param variable contains the correct path to the run input files ([here](https://www.dropbox.com/sh/xuc8nn6gi7b6j11/AAC30hL1mX6pGI1ffcLTW8Rxa?dl=0) is an example set provided).  For setup of a basic simulation within GROMACS and explanation of various run input parameters, I recommend tutorials posted [here](http://www.mdtutorials.com/gmx/). Open a terminal and enter the following commands:"
   ]
  },
  {
   "cell_type": "raw",
   "metadata": {},
   "source": [
    "gmx genrestr -f system.gro<<EOF\n",
    "2\n",
    "EOF\n",
    "\n",
    "cp system.gro prep.gro\n",
    "cp system.top topol.top\n",
    "\n",
    "param=\"./parameters_files\"\n",
    "\n",
    "gmx editconf -f prep.gro -o newbox.gro -c -bt cubic -d 1\n",
    "\n",
    "gmx solvate -cp newbox.gro -o solv.gro -p topol.top -cs spc216.gro\n",
    "gmx grompp -f $param/ions.mdp -c solv.gro -p topol.top -o ions.tpr -maxwarn 7\n",
    "\n",
    "gmx genion -s ions.tpr -o solv_ions.gro -p topol.top -pname NA -nname CL -neutral<<EOF\n",
    "SOL\n",
    "EOF\n",
    "gmx grompp -f $param/minim.mdp -c solv_ions.gro -p topol.top -o em.tpr -maxwarn 7\n",
    "gmx mdrun -deffnm em\n",
    "\n",
    "gmx grompp -f $param/nvt.mdp -c em.gro -r em.gro -p topol.top -o nvt.tpr -maxwarn 7\n",
    "gmx mdrun -deffnm nvt\n",
    "\n",
    "gmx grompp -f $param/npt.mdp -c nvt.gro -r nvt.gro -t nvt.cpt -p topol.top -o npt.tpr -maxwarn 7\n",
    "gmx mdrun -deffnm npt\n",
    "\n",
    "gmx grompp -f $param/md.mdp -c npt.gro -t npt.cpt -p topol.top -o md_0_1.tpr -maxwarn 7\n",
    "gmx mdrun -deffnm md_0_1"
   ]
  },
  {
   "cell_type": "markdown",
   "metadata": {},
   "source": [
    "   You might notice a few odd things about this script. Because we are overwriting atom parameters within the AMBER forcefield in our system.top every call of grompp produces 6 warnings. In addition, it is not possible to balance the charges perfectly for such a small simulation box, so we allow for one additional warning due to electrostatics. This yields the additional  -maxwarn 7 flag in all grompp calls.  "
   ]
  },
  {
   "cell_type": "markdown",
   "metadata": {},
   "source": [
    "7.\tAfter execution of above script, you should have 1ns MD of Lysine in water produced, using the SMIRNOFF99FROST forcefield. **Congratulations!**"
   ]
  }
 ],
 "metadata": {
  "kernelspec": {
   "display_name": "Python 3",
   "language": "python",
   "name": "python3"
  },
  "language_info": {
   "codemirror_mode": {
    "name": "ipython",
    "version": 3
   },
   "file_extension": ".py",
   "mimetype": "text/x-python",
   "name": "python",
   "nbconvert_exporter": "python",
   "pygments_lexer": "ipython3",
   "version": "3.7.3"
  }
 },
 "nbformat": 4,
 "nbformat_minor": 2
}
