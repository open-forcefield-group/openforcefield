{
 "cells": [
  {
   "cell_type": "markdown",
   "metadata": {},
   "source": [
    "# Workflow 1: Prepare and run a protein-ligand simulation\n",
    "\n",
    "<br />\n",
    "<details>\n",
    "    <summary><small>▼ Click here for dependency installation instructions</small></summary>\n",
    "\n",
    "    The simplest way to install dependencies is to install the examples package:\n",
    "    \n",
    "    conda install -c conda-forge openff-toolkit-examples\n",
    "    \n",
    "    This example will need access to a GROMACS install in addition to the above dependencies. Your existing GROMACS installed can be used, or you can install it from Bioconda:\n",
    "    \n",
    "    conda install -c bioconda gromacs\n",
    "    \n",
    "    You can also install all the depencies using the provided environment.yaml:\n",
    "    \n",
    "    conda env update --file ../environment.yaml \n",
    "    \n",
    "    You may also need to restart this notebook's kernel after you make these changes (Kernel -> Restart)\n",
    "</details>\n"
   ]
  },
  {
   "cell_type": "code",
   "execution_count": 1,
   "metadata": {
    "slideshow": {
     "slide_type": "-"
    }
   },
   "outputs": [
    {
     "data": {
      "application/vnd.jupyter.widget-view+json": {
       "model_id": "711859241ce343a9a304e6f31fd0a61f",
       "version_major": 2,
       "version_minor": 0
      },
      "text/plain": []
     },
     "metadata": {},
     "output_type": "display_data"
    },
    {
     "name": "stderr",
     "output_type": "stream",
     "text": [
      "Warning: Unable to load toolkit 'OpenEye Toolkit'. The Open Force Field Toolkit does not require the OpenEye Toolkits, and can use RDKit/AmberTools instead. However, if you have a valid license for the OpenEye Toolkits, consider installing them for faster performance and additional file format support: https://docs.eyesopen.com/toolkits/python/quickstart-python/linuxosx.html OpenEye offers free Toolkit licenses for academics: https://www.eyesopen.com/academic-licensing\n"
     ]
    }
   ],
   "source": [
    "# Imports from the Python standard library\n",
    "import sys\n",
    "from pathlib import Path\n",
    "from tempfile import NamedTemporaryFile\n",
    "\n",
    "# Imports from dependencies\n",
    "from simtk import openmm, unit\n",
    "import parmed as pmd\n",
    "import numpy as np\n",
    "import mdtraj as mdt\n",
    "import nglview\n",
    "\n",
    "# Imports from the toolkit\n",
    "import openff.toolkit\n",
    "from openff.toolkit.typing.engines.smirnoff import ForceField\n",
    "from openff.toolkit.topology import Molecule, Topology\n",
    "\n",
    "# Imports from local files\n",
    "from utils import find_clashing_water, minimize_and_visualize"
   ]
  },
  {
   "cell_type": "markdown",
   "metadata": {},
   "source": [
    "_(The OpenEye loading warning is expected -- The toolkit is informing us that OETK is unavailable, but it will safely fall back to using RDKit and AmberTools for the same functionality)_"
   ]
  },
  {
   "cell_type": "markdown",
   "metadata": {},
   "source": [
    "## Introducing the main cast\n",
    "\n",
    "Merck [provides data](https://github.com/MCompChem/fep-benchmark) to benchmark Free Energy Perturbation (FEP) procedures. We'll use structures from this dataset for this showcase:\n",
    "\n",
    "https://github.com/MCompChem/fep-benchmark\n",
    "\n",
    "This example is pre-packaged with one protein-ligand complex from the above repository, however you should be able to download other complexes and run them as well using this workflow. CHEMBL1078774, our ligand of choice, is an inhibitor of the mitotic functions of kinesin-5, a motor protein involved in cell division. \n",
    "\n",
    "The ligand and protein structures are already prepared for simulation:\n",
    "\n",
    "- Their co-ordinates are super-imposable\n",
    "- Hydrogens added to protein and crystallographic waters\n",
    "- N-methyl and acetyl terminal caps on the protein to prevent unphysical charges\n",
    "- Missing atoms are replaced\n",
    "\n",
    "<br />\n",
    "<details>\n",
    "    <summary><small>▼ Click here for the shell commands we used to download the protein-ligand complex</small></summary>\n",
    "\n",
    "    # Clone the repository\n",
    "    git clone https://github.com/MCompChem/fep-benchmark.git\n",
    "    # Take the first ligand from the eg5 benchmark\n",
    "    head -n119 fep-benchmark/eg5/ligands.sdf > chembl_1078774.sdf\n",
    "    # Take the prepared protein structure\n",
    "    cp fep-benchmark/eg5/3l9h_prepared.pdb .\n",
    "    \n",
    "</details>"
   ]
  },
  {
   "cell_type": "code",
   "execution_count": 2,
   "metadata": {
    "slideshow": {
     "slide_type": "-"
    }
   },
   "outputs": [],
   "source": [
    "receptor_path: str = \"3l9h_prepared.pdb\"\n",
    "ligand_path: str = \"chembl_1078774.sdf\""
   ]
  },
  {
   "cell_type": "code",
   "execution_count": 3,
   "metadata": {},
   "outputs": [
    {
     "data": {
      "application/vnd.jupyter.widget-view+json": {
       "model_id": "8c4d0938f3d3459a986dd1c24068fa66",
       "version_major": 2,
       "version_minor": 0
      },
      "text/plain": [
       "NGLWidget()"
      ]
     },
     "metadata": {},
     "output_type": "display_data"
    }
   ],
   "source": [
    "view: nglview.NGLWidget = nglview.show_file(ligand_path)\n",
    "view"
   ]
  },
  {
   "cell_type": "code",
   "execution_count": 4,
   "metadata": {},
   "outputs": [
    {
     "data": {
      "application/vnd.jupyter.widget-view+json": {
       "model_id": "76e9986ae9b343839a03dd6c66274877",
       "version_major": 2,
       "version_minor": 0
      },
      "text/plain": [
       "NGLWidget()"
      ]
     },
     "metadata": {},
     "output_type": "display_data"
    }
   ],
   "source": [
    "view: nglview.NGLWidget = nglview.show_file(receptor_path)\n",
    "view"
   ]
  },
  {
   "cell_type": "markdown",
   "metadata": {},
   "source": [
    "# The plan:\n",
    "\n",
    "| Action | Software|\n",
    "|--|--|\n",
    "| Parameterize the ligand | OpenFF Toolkit\n",
    "| Solvate the protein | OpenMM\n",
    "| Parameterize the protein | OpenMM\n",
    "| Combine the ligand and protein into a complex | ParmEd\n",
    "| Remove waters that clash with the ligand | ParmEd/MDTraj\n",
    "| Simulate the complex | OpenMM\n",
    "| Visualize the simulation | NGLView\n",
    "\n",
    "<div class=\"alert alert-info\" style=\"max-width: 700px; margin-left: auto; margin-right: auto;\">\n",
    "<!-- TODO: Explain in more detail what OpenMMForceFields, and decide whether to use this in the showcase -->\n",
    "    ℹ️ Note that there's a new package `OpenMMForceFields` to replace much of this!\n",
    "    <ul>\n",
    "        <li> Home: <a href=https://github.com/openmm/openmmforcefields>https://github.com/openmm/openmmforcefields</a> </li>\n",
    "        <li><code>conda install -c conda-forge -c omnia openmmforcefields</code></li>\n",
    "        <li><a href=https://github.com/openforcefield/openforcefield/blob/master/examples/swap_amber_parameters/swap_existing_ligand_parameters_with_openmmforcefields.ipynb>Example notebook available</a></li>\n",
    "    </ul>\n",
    "</div>"
   ]
  },
  {
   "cell_type": "markdown",
   "metadata": {},
   "source": [
    "## Parameterize the ligand (OFF Toolkit)\n",
    "\n",
    "In this step, we'll produce parameters for our ligand from the unconstrained Parsley 1.3.0 force field. [Parsley](https://openforcefield.org/force-fields/force-fields/#parsley) is the first generation force field produced by the Open Force Field Initiative. Rather than using atom types like traditional biomolecular force fields, Parsley assigns parameters to a molecule with [fancy subgraph matching](https://www.daylight.com/dayhtml/doc/theory/theory.smarts.html). \"Unconstrained\" denotes that bonds involving hydrogen are treated as harmonics, like other bonds, rather than being constrained to a fixed length. This is appropriate when single-point energies must be as accurate as possible, though constraints allow a greater stable time step.\n",
    "\n",
    "The Open Force Field Toolkit takes a molecular topology (the atoms in a molecule and their bonds) and the force field specification, and produces a `System` object that can be simulated with OpenMM or converted to inputs for other simulation packages. Note that, to produce a molecular topology, you need more than just the co-ordinates of the atoms; you also need their bonds, bond orders, and formal charges. As a result, `.sdf` files are used in this example; other file types are possible, but they must include this information."
   ]
  },
  {
   "cell_type": "code",
   "execution_count": 5,
   "metadata": {},
   "outputs": [],
   "source": [
    "# Load a molecule from a SDF file\n",
    "ligand: Molecule = Molecule.from_file(ligand_path)\n",
    "# Molecule loads both the co-ordinates of the atoms and their bond graph\n",
    "ligand_positions: unit.Quantity = ligand.conformers[0]\n",
    "ligand_topology: Topology = ligand.to_topology()\n",
    "\n",
    "# Load the force field specification\n",
    "off_forcefield: ForceField = ForceField(\"openff_unconstrained-1.3.0.offxml\")\n",
    "\n",
    "# Use the force field to produce an OpenMM system for the given topology\n",
    "ligand_system: openmm.System = off_forcefield.create_openmm_system(ligand_topology)"
   ]
  },
  {
   "cell_type": "markdown",
   "metadata": {},
   "source": [
    "_(takes ~100 seconds)_\n",
    "### This is the only block in the first workflow that uses the Open Force Field Toolkit\n",
    "\n",
    "In this workflow, the Toolkit is just responsible for combining a force field with a molecular topology. It is designed to check the input and give the user useful feedback if there seem to be errors or problems in the provided files. It also computes electric charges without user intervention. Computing charges is a process that can be confusing and error-prone, so we try to specify and simplify it as much as possible. Charges are computed efficiently with [OpenEye](https://www.eyesopen.com/) if is available; if it is not, the free toolkits [RDKit](https://www.rdkit.org/) and [AmberTools](https://ambermd.org/AmberTools.php) are used instead.\n"
   ]
  },
  {
   "cell_type": "markdown",
   "metadata": {},
   "source": [
    "## Solvate and parameterize the protein (OpenMM)\n",
    "\n",
    "Parsley is designed for small molecule parameterization. Parameters for proteins and other polymers are coming, but for now we'll use Amber 99sb as our protein force field."
   ]
  },
  {
   "cell_type": "code",
   "execution_count": 6,
   "metadata": {},
   "outputs": [],
   "source": [
    "# Load protein and water force field parameters\n",
    "omm_forcefield: openmm.app.ForceField = openmm.app.ForceField(\n",
    "    \"amber99sb.xml\", \"tip3p.xml\"\n",
    ")\n",
    "# Load the kinesin-5 receptor structure and solvate it in 0.15 M NaCl solution\n",
    "pdb: openmm.app.PDBFile = openmm.app.PDBFile(receptor_path)\n",
    "modeller: openmm.app.Modeller = openmm.app.Modeller(pdb.topology, pdb.positions)\n",
    "modeller.addSolvent(\n",
    "    omm_forcefield,\n",
    "    model=\"tip3p\",\n",
    "    padding=4.0 * unit.angstrom,\n",
    "    ionicStrength=0.15 * unit.molar,\n",
    ")\n",
    "# Construct the OpenMM System from the solvated structure and the protein force field\n",
    "protein_system: openmm.System = omm_forcefield.createSystem(\n",
    "    modeller.topology, nonbondedMethod=openmm.app.PME, rigidWater=False\n",
    ")"
   ]
  },
  {
   "cell_type": "markdown",
   "metadata": {},
   "source": [
    "* Magic: \n",
    "    * The protein was already prepared\n",
    "    * AMBER-compatible residue names\n",
    "    * `rigidWater=False` is necessary at this step due to design differences between OFF/OMM and ParmEd\n",
    "\n",
    "<div class=\"alert alert-warning\" style=\"max-width: 700px; margin-left: auto; margin-right: auto;\">\n",
    "⚠️ Note that OpenMM and the Open Force Field Toolkit both have classes called `Topology` and `ForceField` that serve similar functions. Don't get them confused!\n",
    "</div>\n"
   ]
  },
  {
   "cell_type": "markdown",
   "metadata": {},
   "source": [
    "## Combine the parameterized ligand and the parameterized protein"
   ]
  },
  {
   "cell_type": "code",
   "execution_count": 7,
   "metadata": {},
   "outputs": [],
   "source": [
    "# Load the protein into a ParmEd Structure\n",
    "protein_struct: pmd.Structure = pmd.openmm.load_topology(\n",
    "    modeller.topology, protein_system, modeller.positions\n",
    ")\n",
    "# Load the ligand into a ParmEd Structure\n",
    "ligand_struct: pmd.Structure = pmd.openmm.load_topology(\n",
    "    ligand_topology.to_openmm(), ligand_system, ligand_positions\n",
    ")\n",
    "\n",
    "# ParmEd Structures override the \"+\" operator with a method that combines systems (!)\n",
    "pmd_complex_struct: pmd.Structure = protein_struct + ligand_struct\n",
    "\n",
    "# Assign periodic box vectors from the solvated receptor structure\n",
    "pmd_complex_struct.box_vectors = modeller.topology.getPeriodicBoxVectors()"
   ]
  },
  {
   "cell_type": "markdown",
   "metadata": {},
   "source": [
    "## Visualize the complex"
   ]
  },
  {
   "cell_type": "code",
   "execution_count": 8,
   "metadata": {
    "scrolled": true
   },
   "outputs": [
    {
     "data": {
      "application/vnd.jupyter.widget-view+json": {
       "model_id": "d35d5fbe055f491da7b401fb291a7d1b",
       "version_major": 2,
       "version_minor": 0
      },
      "text/plain": [
       "NGLWidget()"
      ]
     },
     "metadata": {},
     "output_type": "display_data"
    }
   ],
   "source": [
    "view: nglview.NGLWidget = nglview.show_parmed(pmd_complex_struct)\n",
    "view.add_licorice(selection=\"(not protein)\")\n",
    "view.add_surface(selection=\":.NA or :.CL\")\n",
    "\n",
    "view"
   ]
  },
  {
   "cell_type": "markdown",
   "metadata": {},
   "source": [
    "* Note waters clashing with ligand, since protein was solvated alone"
   ]
  },
  {
   "cell_type": "markdown",
   "metadata": {},
   "source": [
    "## Remove waters that clash with the ligand (ParmEd/MDTraj)\n",
    "\n",
    "* Magic:\n",
    "    * Uses function at top of file to find clashes"
   ]
  },
  {
   "cell_type": "code",
   "execution_count": 9,
   "metadata": {},
   "outputs": [
    {
     "name": "stdout",
     "output_type": "stream",
     "text": [
      "Removing ligand-clashing water residues 7481,7535\n"
     ]
    },
    {
     "data": {
      "application/vnd.jupyter.widget-view+json": {
       "model_id": "705ef8601081453bb78932d43c019076",
       "version_major": 2,
       "version_minor": 0
      },
      "text/plain": [
       "NGLWidget()"
      ]
     },
     "metadata": {},
     "output_type": "display_data"
    }
   ],
   "source": [
    "clashes = find_clashing_water(pmd_complex_struct, \"CHE\", 0.15)\n",
    "\n",
    "if len(clashes) != 0:\n",
    "    clash_residues_str = \",\".join([str(i) for i in clashes])\n",
    "    print(f\"Removing ligand-clashing water residues {clash_residues_str}\")\n",
    "    pmd_complex_struct.strip(f\":{clash_residues_str}\")\n",
    "else:\n",
    "    print(\"No ligand-water clashes to resolve\")\n",
    "\n",
    "view: nglview.NGLWidget = nglview.show_parmed(pmd_complex_struct)\n",
    "\n",
    "view.add_licorice(selection=\"(not protein)\")\n",
    "view.add_surface(selection=\":.NA or :.CL\")\n",
    "view"
   ]
  },
  {
   "cell_type": "markdown",
   "metadata": {},
   "source": [
    "## Convert the combined system from ParmEd back to OpenMM"
   ]
  },
  {
   "cell_type": "code",
   "execution_count": 10,
   "metadata": {},
   "outputs": [],
   "source": [
    "system: openmm.System = pmd_complex_struct.createSystem(\n",
    "    nonbondedMethod=openmm.app.PME,\n",
    "    nonbondedCutoff=9 * unit.angstrom,\n",
    "    constraints=openmm.app.HBonds,\n",
    "    rigidWater=True,\n",
    ")\n",
    "integrator: openmm.LangevinIntegrator = openmm.LangevinIntegrator(\n",
    "    300 * unit.kelvin, 1 / unit.picosecond, 0.002 * unit.picoseconds\n",
    ")\n",
    "\n",
    "simulation: openmm.app.Simulation = openmm.app.Simulation(\n",
    "    pmd_complex_struct.topology, system, integrator\n",
    ")\n",
    "\n",
    "# The box is about 75 angstroms per side, so add (30, 30, 30) to center the protein\n",
    "simulation.context.setPositions(\n",
    "    pmd_complex_struct.positions + np.array([30, 30, 30]) * unit.angstrom\n",
    ")\n",
    "\n",
    "nc_reporter: pmd.openmm.NetCDFReporter = pmd.openmm.NetCDFReporter(\"trajectory.nc\", 10)\n",
    "simulation.reporters.append(nc_reporter)"
   ]
  },
  {
   "cell_type": "markdown",
   "metadata": {},
   "source": [
    "## Simulate the complex (OpenMM)\n",
    "### Minimize the combined system\n",
    "_(Takes 110 seconds)_"
   ]
  },
  {
   "cell_type": "code",
   "execution_count": 11,
   "metadata": {},
   "outputs": [],
   "source": [
    "simulation.minimizeEnergy()\n",
    "minimized_coords: unit.Quantity = simulation.context.getState(\n",
    "    getPositions=True\n",
    ").getPositions()"
   ]
  },
  {
   "cell_type": "markdown",
   "metadata": {},
   "source": [
    "### Run a short simulation\n",
    "\n",
    "If this were anything more than a demonstration of the Toolkit, this example would need to include additional steps like equilibration.\n",
    "\n",
    "_(Takes 85 seconds, largely due to trajectory writing frequency)_"
   ]
  },
  {
   "cell_type": "code",
   "execution_count": 12,
   "metadata": {},
   "outputs": [
    {
     "name": "stderr",
     "output_type": "stream",
     "text": [
      "/home/joshmitchell/conda/envs/offdev/lib/python3.7/site-packages/parmed/amber/netcdffiles.py:409: UserWarning: Could not find netCDF4 module. Falling back on scipy implementation, which can significantly slow down simulations if used as a reporter\n",
      "  warnings.warn('Could not find netCDF4 module. Falling back on '\n"
     ]
    }
   ],
   "source": [
    "simulation.context.setVelocitiesToTemperature(300 * unit.kelvin)\n",
    "simulation.step(1000)"
   ]
  },
  {
   "cell_type": "markdown",
   "metadata": {},
   "source": [
    "## While we wait, a few asides...\n",
    "\n",
    "### Force Fields\n",
    "* Reproducibility - User *must* see the name of what they're using\n",
    "* Conda data packages - \"Plugin\" support for additional force fields (anybody can add!)\n",
    "* Evolving together - Toolkit will support all functional forms in [OpenForceFields repo](https://github.com/openforcefield/openforcefields/)\n",
    "\n",
    "<img src=\"img/openforcefields.png\" alt=\"drawing\" width=\"800\"/>\n",
    "\n",
    "<hr/>\n",
    "    \n",
    "### Charge generation\n",
    "* Released FFs only use AM1-BCC, though different semiempirical methods and charge corrections are now available\n",
    "* \"Graph based\" charges are coming in the near future -- Consistency and speed!\n",
    "* Library charge support is available\n",
    "    \n",
    "    \n",
    "<img src=\"img/xkcd_charge.png\" alt=\"drawing\" width=\"400\"/>\n",
    "\n",
    "<hr/>\n",
    "\n",
    "### Current cheminformatics toolkit differences\n",
    "* File formats\n",
    "* Slight differences in partial charge\n",
    "* Speed\n",
    "* SMILES canonicalization\n",
    "* Behavior stability\n",
    "* Stereochemistry definition (Edge cases)"
   ]
  },
  {
   "cell_type": "markdown",
   "metadata": {},
   "source": [
    "## Visualize the simulation (nglview)"
   ]
  },
  {
   "cell_type": "code",
   "execution_count": 13,
   "metadata": {},
   "outputs": [
    {
     "name": "stdout",
     "output_type": "stream",
     "text": [
      "<mdtraj.Trajectory with 100 frames, 40097 atoms, 11915 residues, and unitcells>\n"
     ]
    },
    {
     "data": {
      "application/vnd.jupyter.widget-view+json": {
       "model_id": "735141189ecc49ffa3b67ca0f3fc9b3a",
       "version_major": 2,
       "version_minor": 0
      },
      "text/plain": [
       "NGLWidget(max_frame=99)"
      ]
     },
     "metadata": {},
     "output_type": "display_data"
    }
   ],
   "source": [
    "openmm.app.PDBFile.writeFile(\n",
    "    pmd_complex_struct.topology, pmd_complex_struct.positions, open(\"system.pdb\", \"w\")\n",
    ")\n",
    "mdt_traj = mdt.load(\"trajectory.nc\", top=\"system.pdb\")\n",
    "print(mdt_traj)\n",
    "import nglview\n",
    "\n",
    "view = nglview.show_mdtraj(mdt_traj)\n",
    "view"
   ]
  },
  {
   "cell_type": "markdown",
   "metadata": {},
   "source": [
    "# What about GROMACS?\n",
    "\n",
    "OpenMM makes it easy to run molecular simulations without leaving Python. The OpenFF toolkit currently exports directly to OpenMM, but no part of the parametrization process is exclusively supported by OpenMM. With ParmEd and other tools, the same systems can be run in other engines. Here we show how to use ParmEd to prepare and run the same workflow in GROMACS (_Thanks, Dennis Della Corte!_).\n",
    "\n",
    "Feel free to skip to \"Workflow 1 Conclusions\" below."
   ]
  },
  {
   "cell_type": "code",
   "execution_count": 17,
   "metadata": {},
   "outputs": [],
   "source": [
    "pmd_complex_struct.coordinates = minimized_coords\n",
    "\n",
    "# Export GROMACS files.\n",
    "pmd_complex_struct.save(\"system.top\", overwrite=True)\n",
    "pmd_complex_struct.save(\"system.gro\", overwrite=True)"
   ]
  },
  {
   "cell_type": "code",
   "execution_count": 18,
   "metadata": {},
   "outputs": [
    {
     "name": "stdout",
     "output_type": "stream",
     "text": [
      "Ignoring obsolete mdp entry 'ns_type'\n",
      "\n",
      "NOTE 1 [file minim.mdp]:\n",
      "  With Verlet lists the optimal nstlist is >= 10, with GPUs >= 20. Note\n",
      "  that with the Verlet scheme, nstlist has no effect on the accuracy of\n",
      "  your simulation.\n",
      "\n",
      "Setting the LD random seed to -134499474\n",
      "\n",
      "Generated 190 of the 190 non-bonded parameter combinations\n",
      "\n",
      "Excluding 3 bonded neighbours molecule type 'system1'\n",
      "\n",
      "Excluding 3 bonded neighbours molecule type 'HOH'\n",
      "\n",
      "Excluding 3 bonded neighbours molecule type 'NA'\n",
      "\n",
      "Excluding 3 bonded neighbours molecule type 'CL'\n",
      "\n",
      "Excluding 3 bonded neighbours molecule type 'CHEMBL1078774'\n",
      "\n",
      "NOTE 2 [file system.top, line 52558]:\n",
      "  System has non-zero total charge: 0.004995\n",
      "  Total charge should normally be an integer. See\n",
      "  http://www.gromacs.org/Documentation/Floating_Point_Arithmetic\n",
      "  for discussion on how close it should be to an integer.\n",
      "  \n",
      "\n",
      "\n",
      "\n",
      "WARNING 1 [file system.top, line 52558]:\n",
      "  You are using Ewald electrostatics in a system with net charge. This can\n",
      "  lead to severe artifacts, such as ions moving into regions with low\n",
      "  dielectric, due to the uniform background charge. We suggest to\n",
      "  neutralize your system with counter ions, possibly in combination with a\n",
      "  physiological salt concentration.\n",
      "\n",
      "\n",
      "++++ PLEASE READ AND CITE THE FOLLOWING REFERENCE ++++\n",
      "J. S. Hub, B. L. de Groot, H. Grubmueller, G. Groenhof\n",
      "Quantifying Artifacts in Ewald Simulations of Inhomogeneous Systems with a Net\n",
      "Charge\n",
      "J. Chem. Theory Comput. 10 (2014) pp. 381-393\n",
      "-------- -------- --- Thank You --- -------- --------\n",
      "\n",
      "Analysing residue names:\n",
      "There are:   349    Protein residues\n",
      "There are: 11503      Water residues\n",
      "There are:    62        Ion residues\n",
      "There are:     1      Other residues\n",
      "Analysing Protein...\n",
      "Analysing residues not classified as Protein/DNA/RNA/Water and splitting into groups...\n",
      "Analysing residues not classified as Protein/DNA/RNA/Water and splitting into groups...\n",
      "Number of degrees of freedom in T-Coupling group rest is 85779.00\n",
      "Calculating fourier grid dimensions for X Y Z\n",
      "Using a fourier grid of 64x64x64, spacing 0.118 0.118 0.118\n",
      "\n",
      "Estimate for the relative computational load of the PME mesh part: 0.26\n",
      "\n",
      "This run will generate roughly 3 Mb of data\n",
      "\n",
      "There were 2 notes\n",
      "\n",
      "There was 1 warning\n",
      "\n",
      "Back Off! I just backed up em.tpr to ./#em.tpr.4#\n",
      "\n",
      "Back Off! I just backed up em.log to ./#em.log.4#\n",
      "Reading file em.tpr, VERSION 2021.1-MODIFIED (single precision)\n",
      "1 GPU selected for this run.\n",
      "Mapping of GPU IDs to the 1 GPU task in the 1 rank on this node:\n",
      "  PP:0\n",
      "PP tasks will do (non-perturbed) short-ranged interactions on the GPU\n",
      "PP task will update and constrain coordinates on the CPU\n",
      "Using 1 MPI thread\n",
      "Using 4 OpenMP threads \n",
      "\n",
      "\n",
      "Back Off! I just backed up em.trr to ./#em.trr.4#\n",
      "\n",
      "Back Off! I just backed up em.edr to ./#em.edr.4#\n",
      "\n",
      "Steepest Descents:\n",
      "   Tolerance (Fmax)   =  1.00000e+03\n",
      "   Number of steps    =        50000\n",
      "\n",
      "writing lowest energy coordinates.\n",
      "\n",
      "Back Off! I just backed up em.gro to ./#em.gro.4#\n",
      "\n",
      "Steepest Descents converged to Fmax < 1000 in 109 steps\n",
      "Potential Energy  = -6.3798975e+05\n",
      "Maximum force     =  6.8210089e+02 on atom 2297\n",
      "Norm of force     =  1.5888591e+01\n",
      "Ignoring obsolete mdp entry 'ns_type'\n",
      "Setting the LD random seed to -75522063\n",
      "\n",
      "Generated 190 of the 190 non-bonded parameter combinations\n",
      "\n",
      "Excluding 3 bonded neighbours molecule type 'system1'\n",
      "\n",
      "turning H bonds into constraints...\n",
      "\n",
      "Excluding 3 bonded neighbours molecule type 'HOH'\n",
      "\n",
      "turning H bonds into constraints...\n",
      "\n",
      "Excluding 3 bonded neighbours molecule type 'NA'\n",
      "\n",
      "turning H bonds into constraints...\n",
      "\n",
      "Excluding 3 bonded neighbours molecule type 'CL'\n",
      "\n",
      "turning H bonds into constraints...\n",
      "\n",
      "Excluding 3 bonded neighbours molecule type 'CHEMBL1078774'\n",
      "\n",
      "turning H bonds into constraints...\n",
      "\n",
      "NOTE 1 [file system.top, line 52558]:\n",
      "  System has non-zero total charge: 0.004995\n",
      "  Total charge should normally be an integer. See\n",
      "  http://www.gromacs.org/Documentation/Floating_Point_Arithmetic\n",
      "  for discussion on how close it should be to an integer.\n",
      "  \n",
      "\n",
      "\n",
      "\n",
      "WARNING 1 [file system.top, line 52558]:\n",
      "  You are using Ewald electrostatics in a system with net charge. This can\n",
      "  lead to severe artifacts, such as ions moving into regions with low\n",
      "  dielectric, due to the uniform background charge. We suggest to\n",
      "  neutralize your system with counter ions, possibly in combination with a\n",
      "  physiological salt concentration.\n",
      "\n",
      "\n",
      "++++ PLEASE READ AND CITE THE FOLLOWING REFERENCE ++++\n",
      "J. S. Hub, B. L. de Groot, H. Grubmueller, G. Groenhof\n",
      "Quantifying Artifacts in Ewald Simulations of Inhomogeneous Systems with a Net\n",
      "Charge\n",
      "J. Chem. Theory Comput. 10 (2014) pp. 381-393\n",
      "-------- -------- --- Thank You --- -------- --------\n",
      "\n",
      "\n",
      "Setting gen_seed to -957488129\n",
      "\n",
      "Velocities were taken from a Maxwell distribution at 300 K\n",
      "Analysing residue names:\n",
      "There are:   349    Protein residues\n",
      "There are: 11503      Water residues\n",
      "There are:    62        Ion residues\n",
      "There are:     1      Other residues\n",
      "Analysing Protein...\n",
      "Analysing residues not classified as Protein/DNA/RNA/Water and splitting into groups...\n",
      "Analysing residues not classified as Protein/DNA/RNA/Water and splitting into groups...\n",
      "Number of degrees of freedom in T-Coupling group Protein is 13666.51\n",
      "Number of degrees of freedom in T-Coupling group non-Protein is 69331.49\n",
      "\n",
      "Determining Verlet buffer for a tolerance of 0.005 kJ/mol/ps at 300 K\n",
      "\n",
      "Calculated rlist for 1x1 atom pair-list as 1.032 nm, buffer size 0.032 nm\n",
      "\n",
      "Set rlist, assuming 4x4 atom pair-list, to 1.000 nm, buffer size 0.000 nm\n",
      "\n",
      "Note that mdrun will redetermine rlist based on the actual pair-list setup\n",
      "Calculating fourier grid dimensions for X Y Z\n",
      "Using a fourier grid of 48x48x48, spacing 0.158 0.158 0.158\n",
      "\n",
      "Estimate for the relative computational load of the PME mesh part: 0.23\n",
      "\n",
      "This run will generate roughly 6 Mb of data\n",
      "\n",
      "There was 1 note\n",
      "\n",
      "There was 1 warning\n",
      "\n",
      "Back Off! I just backed up nvt.tpr to ./#nvt.tpr.3#\n",
      "\n",
      "Back Off! I just backed up nvt.log to ./#nvt.log.3#\n",
      "Reading file nvt.tpr, VERSION 2021.1-MODIFIED (single precision)\n",
      "Changing nstlist from 10 to 100, rlist from 1 to 1.147\n",
      "\n",
      "1 GPU selected for this run.\n",
      "Mapping of GPU IDs to the 2 GPU tasks in the 1 rank on this node:\n",
      "  PP:0,PME:0\n",
      "PP tasks will do (non-perturbed) short-ranged interactions on the GPU\n",
      "PP task will update and constrain coordinates on the CPU\n",
      "PME tasks will do all aspects on the GPU\n",
      "Using 1 MPI thread\n",
      "Using 4 OpenMP threads \n",
      "\n",
      "\n",
      "Back Off! I just backed up nvt.trr to ./#nvt.trr.3#\n",
      "\n",
      "Back Off! I just backed up nvt.edr to ./#nvt.edr.3#\n",
      "starting mdrun 'Generic title'\n",
      "1000 steps,      2.0 ps.\n",
      "\n",
      "Writing final coordinates.\n",
      "\n",
      "Back Off! I just backed up nvt.gro to ./#nvt.gro.3#\n",
      "\n",
      "               Core t (s)   Wall t (s)        (%)\n",
      "       Time:       18.491        4.623      400.0\n",
      "                 (ns/day)    (hour/ns)\n",
      "Performance:       37.418        0.641\n",
      "Ignoring obsolete mdp entry 'ns_type'\n",
      "Setting the LD random seed to -1073741837\n",
      "\n",
      "Generated 190 of the 190 non-bonded parameter combinations\n",
      "\n",
      "Excluding 3 bonded neighbours molecule type 'system1'\n",
      "\n",
      "turning H bonds into constraints...\n",
      "\n",
      "Excluding 3 bonded neighbours molecule type 'HOH'\n",
      "\n",
      "turning H bonds into constraints...\n",
      "\n",
      "Excluding 3 bonded neighbours molecule type 'NA'\n",
      "\n",
      "turning H bonds into constraints...\n",
      "\n",
      "Excluding 3 bonded neighbours molecule type 'CL'\n",
      "\n",
      "turning H bonds into constraints...\n",
      "\n",
      "Excluding 3 bonded neighbours molecule type 'CHEMBL1078774'\n",
      "\n",
      "turning H bonds into constraints...\n",
      "\n",
      "NOTE 1 [file system.top, line 52558]:\n",
      "  System has non-zero total charge: 0.004995\n",
      "  Total charge should normally be an integer. See\n",
      "  http://www.gromacs.org/Documentation/Floating_Point_Arithmetic\n",
      "  for discussion on how close it should be to an integer.\n",
      "  \n",
      "\n",
      "\n",
      "\n",
      "WARNING 1 [file system.top, line 52558]:\n",
      "  You are using Ewald electrostatics in a system with net charge. This can\n",
      "  lead to severe artifacts, such as ions moving into regions with low\n",
      "  dielectric, due to the uniform background charge. We suggest to\n",
      "  neutralize your system with counter ions, possibly in combination with a\n",
      "  physiological salt concentration.\n",
      "\n",
      "\n",
      "++++ PLEASE READ AND CITE THE FOLLOWING REFERENCE ++++\n",
      "J. S. Hub, B. L. de Groot, H. Grubmueller, G. Groenhof\n",
      "Quantifying Artifacts in Ewald Simulations of Inhomogeneous Systems with a Net\n",
      "Charge\n",
      "J. Chem. Theory Comput. 10 (2014) pp. 381-393\n",
      "-------- -------- --- Thank You --- -------- --------\n",
      "\n"
     ]
    },
    {
     "name": "stdout",
     "output_type": "stream",
     "text": [
      "Analysing residue names:\n",
      "There are:   349    Protein residues\n",
      "There are: 11503      Water residues\n",
      "There are:    62        Ion residues\n",
      "There are:     1      Other residues\n",
      "Analysing Protein...\n",
      "Analysing residues not classified as Protein/DNA/RNA/Water and splitting into groups...\n",
      "Analysing residues not classified as Protein/DNA/RNA/Water and splitting into groups...\n",
      "Number of degrees of freedom in T-Coupling group Protein is 13666.51\n",
      "Number of degrees of freedom in T-Coupling group non-Protein is 69331.49\n",
      "\n",
      "Determining Verlet buffer for a tolerance of 0.005 kJ/mol/ps at 300 K\n",
      "\n",
      "Calculated rlist for 1x1 atom pair-list as 1.032 nm, buffer size 0.032 nm\n",
      "\n",
      "Set rlist, assuming 4x4 atom pair-list, to 1.000 nm, buffer size 0.000 nm\n",
      "\n",
      "Note that mdrun will redetermine rlist based on the actual pair-list setup\n",
      "\n",
      "Reading Coordinates, Velocities and Box size from old trajectory\n",
      "\n",
      "Will read whole trajectory\n",
      "Last frame         -1 time    2.000   \n",
      "\n",
      "Using frame at t = 2 ps\n",
      "\n",
      "Starting time for run is 0 ps\n",
      "Calculating fourier grid dimensions for X Y Z\n",
      "Using a fourier grid of 48x48x48, spacing 0.158 0.158 0.158\n",
      "\n",
      "Estimate for the relative computational load of the PME mesh part: 0.22\n",
      "\n",
      "This run will generate roughly 4 Mb of data\n",
      "\n",
      "There was 1 note\n",
      "\n",
      "There was 1 warning\n",
      "\n",
      "Back Off! I just backed up npt.tpr to ./#npt.tpr.3#\n",
      "\n",
      "Back Off! I just backed up npt.log to ./#npt.log.3#\n",
      "Reading file npt.tpr, VERSION 2021.1-MODIFIED (single precision)\n",
      "Changing nstlist from 10 to 100, rlist from 1 to 1.147\n",
      "\n",
      "1 GPU selected for this run.\n",
      "Mapping of GPU IDs to the 2 GPU tasks in the 1 rank on this node:\n",
      "  PP:0,PME:0\n",
      "PP tasks will do (non-perturbed) short-ranged interactions on the GPU\n",
      "PP task will update and constrain coordinates on the CPU\n",
      "PME tasks will do all aspects on the GPU\n",
      "Using 1 MPI thread\n",
      "Using 4 OpenMP threads \n",
      "\n",
      "\n",
      "Back Off! I just backed up npt.trr to ./#npt.trr.3#\n",
      "\n",
      "Back Off! I just backed up npt.edr to ./#npt.edr.3#\n",
      "starting mdrun 'Generic title'\n",
      "1000 steps,      2.0 ps.\n",
      "\n",
      "Writing final coordinates.\n",
      "\n",
      "Back Off! I just backed up npt.gro to ./#npt.gro.3#\n",
      "\n",
      "               Core t (s)   Wall t (s)        (%)\n",
      "       Time:       10.600        2.650      400.0\n",
      "                 (ns/day)    (hour/ns)\n",
      "Performance:       65.273        0.368\n",
      "                 :-) GROMACS - gmx grompp, 2021.1-MODIFIED (-:\n",
      "\n",
      "                            GROMACS is written by:\n",
      "     Andrey Alekseenko              Emile Apol              Rossen Apostolov     \n",
      "         Paul Bauer           Herman J.C. Berendsen           Par Bjelkmar       \n",
      "       Christian Blau           Viacheslav Bolnykh             Kevin Boyd        \n",
      "     Aldert van Buuren           Rudi van Drunen             Anton Feenstra      \n",
      "    Gilles Gouaillardet             Alan Gray               Gerrit Groenhof      \n",
      "       Anca Hamuraru            Vincent Hindriksen          M. Eric Irrgang      \n",
      "      Aleksei Iupinov           Christoph Junghans             Joe Jordan        \n",
      "    Dimitrios Karkoulis            Peter Kasson                Jiri Kraus        \n",
      "      Carsten Kutzner              Per Larsson              Justin A. Lemkul     \n",
      "       Viveca Lindahl            Magnus Lundborg             Erik Marklund       \n",
      "        Pascal Merz             Pieter Meulenhoff            Teemu Murtola       \n",
      "        Szilard Pall               Sander Pronk              Roland Schulz       \n",
      "       Michael Shirts            Alexey Shvetsov             Alfons Sijbers      \n",
      "       Peter Tieleman              Jon Vincent              Teemu Virolainen     \n",
      "     Christian Wennberg            Maarten Wolf              Artem Zhmurov       \n",
      "                           and the project leaders:\n",
      "        Mark Abraham, Berk Hess, Erik Lindahl, and David van der Spoel\n",
      "\n",
      "Copyright (c) 1991-2000, University of Groningen, The Netherlands.\n",
      "Copyright (c) 2001-2019, The GROMACS development team at\n",
      "Uppsala University, Stockholm University and\n",
      "the Royal Institute of Technology, Sweden.\n",
      "check out http://www.gromacs.org for more information.\n",
      "\n",
      "GROMACS is free software; you can redistribute it and/or modify it\n",
      "under the terms of the GNU Lesser General Public License\n",
      "as published by the Free Software Foundation; either version 2.1\n",
      "of the License, or (at your option) any later version.\n",
      "\n",
      "GROMACS:      gmx grompp, version 2021.1-MODIFIED\n",
      "Executable:   /home/joshmitchell/conda/envs/offdev/bin.AVX2_256/gmx\n",
      "Data prefix:  /home/joshmitchell/conda/envs/offdev\n",
      "Working dir:  /home/joshmitchell/Documents/openff/openff-toolkit/examples/toolkit_showcase\n",
      "Command line:\n",
      "  gmx grompp -f md.mdp -c npt.gro -t npt.cpt -p system.top -o md_0_1.tpr -maxwarn 1\n",
      "\n",
      "Ignoring obsolete mdp entry 'ns_type'\n",
      "Setting the LD random seed to -95423716\n",
      "\n",
      "Generated 190 of the 190 non-bonded parameter combinations\n",
      "\n",
      "Excluding 3 bonded neighbours molecule type 'system1'\n",
      "\n",
      "turning H bonds into constraints...\n",
      "\n",
      "Excluding 3 bonded neighbours molecule type 'HOH'\n",
      "\n",
      "turning H bonds into constraints...\n",
      "\n",
      "Excluding 3 bonded neighbours molecule type 'NA'\n",
      "\n",
      "turning H bonds into constraints...\n",
      "\n",
      "Excluding 3 bonded neighbours molecule type 'CL'\n",
      "\n",
      "turning H bonds into constraints...\n",
      "\n",
      "Excluding 3 bonded neighbours molecule type 'CHEMBL1078774'\n",
      "\n",
      "turning H bonds into constraints...\n",
      "\n",
      "NOTE 1 [file system.top, line 52558]:\n",
      "  System has non-zero total charge: 0.004995\n",
      "  Total charge should normally be an integer. See\n",
      "  http://www.gromacs.org/Documentation/Floating_Point_Arithmetic\n",
      "  for discussion on how close it should be to an integer.\n",
      "  \n",
      "\n",
      "\n",
      "\n",
      "WARNING 1 [file system.top, line 52558]:\n",
      "  You are using Ewald electrostatics in a system with net charge. This can\n",
      "  lead to severe artifacts, such as ions moving into regions with low\n",
      "  dielectric, due to the uniform background charge. We suggest to\n",
      "  neutralize your system with counter ions, possibly in combination with a\n",
      "  physiological salt concentration.\n",
      "\n",
      "\n",
      "++++ PLEASE READ AND CITE THE FOLLOWING REFERENCE ++++\n",
      "J. S. Hub, B. L. de Groot, H. Grubmueller, G. Groenhof\n",
      "Quantifying Artifacts in Ewald Simulations of Inhomogeneous Systems with a Net\n",
      "Charge\n",
      "J. Chem. Theory Comput. 10 (2014) pp. 381-393\n",
      "-------- -------- --- Thank You --- -------- --------\n",
      "\n",
      "Analysing residue names:\n",
      "There are:   349    Protein residues\n",
      "There are: 11503      Water residues\n",
      "There are:    62        Ion residues\n",
      "There are:     1      Other residues\n",
      "Analysing Protein...\n",
      "Analysing residues not classified as Protein/DNA/RNA/Water and splitting into groups...\n",
      "Analysing residues not classified as Protein/DNA/RNA/Water and splitting into groups...\n",
      "Number of degrees of freedom in T-Coupling group Protein is 13666.51\n",
      "Number of degrees of freedom in T-Coupling group non-Protein is 69331.49\n",
      "\n",
      "Determining Verlet buffer for a tolerance of 0.005 kJ/mol/ps at 300 K\n",
      "\n",
      "Calculated rlist for 1x1 atom pair-list as 1.033 nm, buffer size 0.033 nm\n",
      "\n",
      "Set rlist, assuming 4x4 atom pair-list, to 1.000 nm, buffer size 0.000 nm\n",
      "\n",
      "Note that mdrun will redetermine rlist based on the actual pair-list setup\n",
      "\n",
      "Reading Coordinates, Velocities and Box size from old trajectory\n",
      "\n",
      "Will read whole trajectory\n",
      "Last frame         -1 time    2.000   \n",
      "\n",
      "Using frame at t = 2 ps\n",
      "\n",
      "Starting time for run is 0 ps\n",
      "Calculating fourier grid dimensions for X Y Z\n",
      "Using a fourier grid of 48x48x48, spacing 0.154 0.154 0.154\n",
      "\n",
      "Estimate for the relative computational load of the PME mesh part: 0.22\n",
      "\n",
      "This run will generate roughly 22 Mb of data\n",
      "\n",
      "There was 1 note\n",
      "\n",
      "There was 1 warning\n",
      "\n",
      "Back Off! I just backed up md_0_1.tpr to ./#md_0_1.tpr.3#\n",
      "\n",
      "GROMACS reminds you: \"I know poetry is not dead, nor genius lost; nor has Mammon gained power over either, to bind or slay; they will both assert their existence, their presence, their liberty and strength again one day.\" (Jane Eyre in Jane Eyre by Charlotte Bronte)\n",
      "\n",
      "                  :-) GROMACS - gmx mdrun, 2021.1-MODIFIED (-:\n",
      "\n",
      "                            GROMACS is written by:\n",
      "     Andrey Alekseenko              Emile Apol              Rossen Apostolov     \n",
      "         Paul Bauer           Herman J.C. Berendsen           Par Bjelkmar       \n",
      "       Christian Blau           Viacheslav Bolnykh             Kevin Boyd        \n",
      "     Aldert van Buuren           Rudi van Drunen             Anton Feenstra      \n",
      "    Gilles Gouaillardet             Alan Gray               Gerrit Groenhof      \n",
      "       Anca Hamuraru            Vincent Hindriksen          M. Eric Irrgang      \n",
      "      Aleksei Iupinov           Christoph Junghans             Joe Jordan        \n",
      "    Dimitrios Karkoulis            Peter Kasson                Jiri Kraus        \n",
      "      Carsten Kutzner              Per Larsson              Justin A. Lemkul     \n",
      "       Viveca Lindahl            Magnus Lundborg             Erik Marklund       \n",
      "        Pascal Merz             Pieter Meulenhoff            Teemu Murtola       \n",
      "        Szilard Pall               Sander Pronk              Roland Schulz       \n",
      "       Michael Shirts            Alexey Shvetsov             Alfons Sijbers      \n",
      "       Peter Tieleman              Jon Vincent              Teemu Virolainen     \n",
      "     Christian Wennberg            Maarten Wolf              Artem Zhmurov       \n",
      "                           and the project leaders:\n",
      "        Mark Abraham, Berk Hess, Erik Lindahl, and David van der Spoel\n",
      "\n",
      "Copyright (c) 1991-2000, University of Groningen, The Netherlands.\n",
      "Copyright (c) 2001-2019, The GROMACS development team at\n",
      "Uppsala University, Stockholm University and\n",
      "the Royal Institute of Technology, Sweden.\n",
      "check out http://www.gromacs.org for more information.\n",
      "\n",
      "GROMACS is free software; you can redistribute it and/or modify it\n",
      "under the terms of the GNU Lesser General Public License\n",
      "as published by the Free Software Foundation; either version 2.1\n",
      "of the License, or (at your option) any later version.\n",
      "\n",
      "GROMACS:      gmx mdrun, version 2021.1-MODIFIED\n",
      "Executable:   /home/joshmitchell/conda/envs/offdev/bin.AVX2_256/gmx\n",
      "Data prefix:  /home/joshmitchell/conda/envs/offdev\n",
      "Working dir:  /home/joshmitchell/Documents/openff/openff-toolkit/examples/toolkit_showcase\n",
      "Command line:\n",
      "  gmx mdrun -deffnm md_0_1\n",
      "\n"
     ]
    },
    {
     "name": "stdout",
     "output_type": "stream",
     "text": [
      "\n",
      "Back Off! I just backed up md_0_1.log to ./#md_0_1.log.3#\n",
      "Reading file md_0_1.tpr, VERSION 2021.1-MODIFIED (single precision)\n",
      "Changing nstlist from 10 to 100, rlist from 1 to 1.151\n",
      "\n",
      "1 GPU selected for this run.\n",
      "Mapping of GPU IDs to the 2 GPU tasks in the 1 rank on this node:\n",
      "  PP:0,PME:0\n",
      "PP tasks will do (non-perturbed) short-ranged interactions on the GPU\n",
      "PP task will update and constrain coordinates on the CPU\n",
      "PME tasks will do all aspects on the GPU\n",
      "Using 1 MPI thread\n",
      "Using 4 OpenMP threads \n",
      "\n",
      "\n",
      "Back Off! I just backed up md_0_1.xtc to ./#md_0_1.xtc.3#\n",
      "\n",
      "Back Off! I just backed up md_0_1.edr to ./#md_0_1.edr.3#\n",
      "starting mdrun 'Generic title'\n",
      "1000 steps,      2.0 ps.\n",
      "\n",
      "Writing final coordinates.\n",
      "\n",
      "Back Off! I just backed up md_0_1.gro to ./#md_0_1.gro.3#\n",
      "\n",
      "               Core t (s)   Wall t (s)        (%)\n",
      "       Time:       12.285        3.071      400.0\n",
      "                 (ns/day)    (hour/ns)\n",
      "Performance:       56.321        0.426\n",
      "\n",
      "GROMACS reminds you: \"I think it would be a good idea.\" (Mahatma Gandhi, when asked what he thought of Western civilization)\n",
      "\n"
     ]
    }
   ],
   "source": [
    "# TODO: Work out why net charge is  not zero - Seems too big for rounding errors\n",
    "# TODO: Check if PARMED can produce position restraints, and return define = POSRES to equilibration MDPs\n",
    "# TODO: Otherwise clean up the notes produced by GROMACS\n",
    "\n",
    "! gmx -quiet grompp -f minim.mdp -c system.gro -p system.top -o em.tpr -maxwarn 1\n",
    "! gmx -quiet mdrun -deffnm em\n",
    "\n",
    "! gmx -quiet grompp -f nvt.mdp -c em.gro -r em.gro -p system.top -o nvt.tpr -maxwarn 1\n",
    "! gmx -quiet mdrun -deffnm nvt\n",
    "\n",
    "! gmx -quiet grompp -f npt.mdp -c nvt.gro -r nvt.gro -t nvt.cpt -p system.top -o npt.tpr -maxwarn 1\n",
    "! gmx -quiet mdrun -deffnm npt\n",
    "\n",
    "! gmx grompp -f md.mdp -c npt.gro -t npt.cpt -p system.top -o md_0_1.tpr -maxwarn 1\n",
    "! gmx mdrun -deffnm md_0_1"
   ]
  },
  {
   "cell_type": "markdown",
   "metadata": {},
   "source": [
    "* Magic:\n",
    "    * MDP files already prepared\n",
    "    * `maxwarn 1` becuase of rounding errors with charges\n",
    "* ParmEd *is* great, but *isn't* perfect, and we're actively working on bugfixes.\n",
    "* We have philosophical differences about what constitutes \"parameterization\" \n",
    "    * Hbond constraints?\n",
    "    * Electrostatics cutoffs?\n",
    "* ParmEd is unable to process several OpenMM GBSA models\n",
    "\n",
    "_(Takes 120 seconds)_\n"
   ]
  },
  {
   "cell_type": "code",
   "execution_count": 19,
   "metadata": {},
   "outputs": [
    {
     "name": "stdout",
     "output_type": "stream",
     "text": [
      "<mdtraj.Trajectory with 1 frames, 40097 atoms, 11915 residues, and unitcells>\n"
     ]
    }
   ],
   "source": [
    "# TODO: PBC treatment?\n",
    "mdt_traj = mdt.load(\"md_0_1.xtc\", top=\"system.gro\", stride=1000000)\n",
    "print(mdt_traj)"
   ]
  },
  {
   "cell_type": "code",
   "execution_count": 20,
   "metadata": {},
   "outputs": [
    {
     "data": {
      "application/vnd.jupyter.widget-view+json": {
       "model_id": "deea41a52fef401286683441ffcda094",
       "version_major": 2,
       "version_minor": 0
      },
      "text/plain": [
       "NGLWidget()"
      ]
     },
     "metadata": {},
     "output_type": "display_data"
    }
   ],
   "source": [
    "import nglview\n",
    "\n",
    "view = nglview.show_mdtraj(mdt_traj)\n",
    "view"
   ]
  },
  {
   "cell_type": "markdown",
   "metadata": {},
   "source": [
    "### Workflow 1 Conclusions\n",
    "* Toolkit parameterization requires *8 lines*, three of which are cheap hacks \n",
    "* Conda-installable, open source tools performed everything from basic system prep to simulation and visualization\n",
    "* Using OpenMM, we never had to leave Python\n",
    "* Using ParmEd, there was little additional work to running with GROMACS\n",
    "\n",
    "\n",
    "<img src=\"img/dog_food.jpg\" alt=\"drawing\" width=\"350\"/>\n"
   ]
  },
  {
   "cell_type": "markdown",
   "metadata": {},
   "source": [
    "## Workflow 2: Changing force field parameters and energy-minimizing the resulting molecule\n",
    "\n",
    "\n",
    "### Note the recent change to the SMIRNOFF 0.3 specification\n",
    "\n",
    "```\n",
    "<Angles version=\"0.3\" potential=\"harmonic\">\n",
    "\t\t<Angle smirks=\"[*:1]~[#6X4:2]-[*:3]\" angle=\"109.5*degree\" k=\"100.0*mole**-1*radian**-2*kilocalorie\"/>\n",
    "\t\t<Angle smirks=\"[#1:1]-[#6X4:2]-[#1:3]\" angle=\"109.5*degree\" k=\"70.0*mole**-1*radian**-2*kilocalorie\"/>\n",
    "</Angles>\n",
    "```\n",
    "<hr/>"
   ]
  },
  {
   "cell_type": "markdown",
   "metadata": {},
   "source": [
    "### Getting started\n",
    "\n",
    "Let's reload the ligand, in case the live demo had a hiccup above.\n",
    "\n",
    "Magic:\n",
    "* To avoid spending time running AM1-BCC again, I'm providing explicitly-defined charges"
   ]
  },
  {
   "cell_type": "code",
   "execution_count": 21,
   "metadata": {},
   "outputs": [],
   "source": [
    "ligand_path = \"fep-benchmark/eg5/chembl_1078774.sdf\"\n",
    "ligand = Molecule.from_file(ligand_path)\n",
    "ligand.partial_charges = (\n",
    "    np.array(\n",
    "        [\n",
    "            -0.085767,\n",
    "            -0.0027,\n",
    "            -0.085767,\n",
    "            -0.085767,\n",
    "            -0.1043,\n",
    "            -0.092,\n",
    "            -0.174,\n",
    "            0.1506,\n",
    "            -0.1383,\n",
    "            -0.073,\n",
    "            0.2004,\n",
    "            -0.4076,\n",
    "            0.1254,\n",
    "            -0.1114,\n",
    "            -0.0684,\n",
    "            -0.1077,\n",
    "            0.2508,\n",
    "            -0.1043,\n",
    "            -0.092,\n",
    "            -0.138,\n",
    "            0.1021,\n",
    "            -0.4871,\n",
    "            0.0369,\n",
    "            -0.1449,\n",
    "            -0.124,\n",
    "            -0.7206,\n",
    "            0.036144,\n",
    "            0.036144,\n",
    "            0.036144,\n",
    "            0.036144,\n",
    "            0.036144,\n",
    "            0.036144,\n",
    "            0.036144,\n",
    "            0.036144,\n",
    "            0.036144,\n",
    "            0.131,\n",
    "            0.135,\n",
    "            0.138,\n",
    "            0.0437,\n",
    "            0.0442,\n",
    "            0.0442,\n",
    "            0.0497,\n",
    "            0.0497,\n",
    "            0.0497,\n",
    "            0.0497,\n",
    "            0.0567,\n",
    "            0.0837,\n",
    "            0.147,\n",
    "            0.159,\n",
    "            0.432,\n",
    "            0.15,\n",
    "            0.3978,\n",
    "        ]\n",
    "    )\n",
    "    * unit.elementary_charge\n",
    ")\n",
    "ligand_positions = ligand.conformers[0]\n",
    "ligand_topology = ligand.to_topology()"
   ]
  },
  {
   "cell_type": "markdown",
   "metadata": {},
   "source": [
    "First, we use `ForceField.label_molecules` to identify which torsion parameters were assigned to the hydroxyl."
   ]
  },
  {
   "cell_type": "code",
   "execution_count": 22,
   "metadata": {},
   "outputs": [
    {
     "name": "stdout",
     "output_type": "stream",
     "text": [
      "(19, 20, 21, 49) <ProperTorsionType with smirks: [*:1]~[#6X3:2]-[#8X2:3]-[#1:4]  periodicity1: 2  phase1: 180.0 deg  id: t97  k1: 0.8722932201352 kcal/mol  idivf1: 1.0  >\n",
      "(22, 20, 21, 49) <ProperTorsionType with smirks: [*:1]~[#6X3:2]-[#8X2:3]-[#1:4]  periodicity1: 2  phase1: 180.0 deg  id: t97  k1: 0.8722932201352 kcal/mol  idivf1: 1.0  >\n"
     ]
    }
   ],
   "source": [
    "openff_forcefield = ForceField(\"openff-1.2.0.offxml\")\n",
    "ff_applied_parameters = openff_forcefield.label_molecules(ligand_topology)[0]\n",
    "for atoms, parameter in ff_applied_parameters[\"ProperTorsions\"].items():\n",
    "    ele_1 = ligand.atoms[atoms[0]].element.symbol\n",
    "    ele_2 = ligand.atoms[atoms[1]].element.symbol\n",
    "    ele_3 = ligand.atoms[atoms[2]].element.symbol\n",
    "    ele_4 = ligand.atoms[atoms[3]].element.symbol\n",
    "    if (ele_1 == \"H\" and ele_2 == \"O\") or (ele_3 == \"O\" and ele_4 == \"H\"):\n",
    "        print(atoms, parameter)"
   ]
  },
  {
   "cell_type": "code",
   "execution_count": 23,
   "metadata": {},
   "outputs": [],
   "source": [
    "hydroxyl_torsion = openff_forcefield.get_parameter_handler(\"ProperTorsions\").parameters[\n",
    "    \"[*:1]~[#6X3:2]-[#8X2:3]-[#1:4]\"\n",
    "]\n",
    "hydroxyl_torsion.periodicity1 = 2\n",
    "hydroxyl_torsion.phase1 = 180 * unit.degree\n",
    "hydroxyl_torsion.k1 = -10 * unit.kilocalorie / unit.mole"
   ]
  },
  {
   "cell_type": "code",
   "execution_count": 24,
   "metadata": {
    "scrolled": true
   },
   "outputs": [
    {
     "data": {
      "text/plain": [
       "nglview.widget.NGLWidget"
      ]
     },
     "execution_count": 24,
     "metadata": {},
     "output_type": "execute_result"
    }
   ],
   "source": [
    "type(view)"
   ]
  },
  {
   "cell_type": "code",
   "execution_count": 25,
   "metadata": {},
   "outputs": [
    {
     "data": {
      "application/vnd.jupyter.widget-view+json": {
       "model_id": "9e9633e41bd142c3a35b36ce6a954133",
       "version_major": 2,
       "version_minor": 0
      },
      "text/plain": [
       "NGLWidget()"
      ]
     },
     "metadata": {},
     "output_type": "display_data"
    }
   ],
   "source": [
    "view = minimize_and_visualize(ligand, openff_forcefield)\n",
    "view"
   ]
  },
  {
   "cell_type": "markdown",
   "metadata": {},
   "source": [
    "## But we didn't need the OFF toolkit to change the parameters for a _single term_\n",
    "## So, how about changing FF parameters for all H-X-H angles?"
   ]
  },
  {
   "cell_type": "code",
   "execution_count": 26,
   "metadata": {},
   "outputs": [
    {
     "name": "stdout",
     "output_type": "stream",
     "text": [
      "(26, 0, 27) <AngleType with smirks: [#1:1]-[#6X4:2]-[#1:3]  angle: 110.2468561538 deg  k: 67.57751269282 kcal/(mol rad**2)  id: a2  >\n",
      "(26, 0, 28) <AngleType with smirks: [#1:1]-[#6X4:2]-[#1:3]  angle: 110.2468561538 deg  k: 67.57751269282 kcal/(mol rad**2)  id: a2  >\n",
      "(27, 0, 28) <AngleType with smirks: [#1:1]-[#6X4:2]-[#1:3]  angle: 110.2468561538 deg  k: 67.57751269282 kcal/(mol rad**2)  id: a2  >\n",
      "(29, 2, 30) <AngleType with smirks: [#1:1]-[#6X4:2]-[#1:3]  angle: 110.2468561538 deg  k: 67.57751269282 kcal/(mol rad**2)  id: a2  >\n",
      "(29, 2, 31) <AngleType with smirks: [#1:1]-[#6X4:2]-[#1:3]  angle: 110.2468561538 deg  k: 67.57751269282 kcal/(mol rad**2)  id: a2  >\n",
      "(30, 2, 31) <AngleType with smirks: [#1:1]-[#6X4:2]-[#1:3]  angle: 110.2468561538 deg  k: 67.57751269282 kcal/(mol rad**2)  id: a2  >\n",
      "(32, 3, 33) <AngleType with smirks: [#1:1]-[#6X4:2]-[#1:3]  angle: 110.2468561538 deg  k: 67.57751269282 kcal/(mol rad**2)  id: a2  >\n",
      "(32, 3, 34) <AngleType with smirks: [#1:1]-[#6X4:2]-[#1:3]  angle: 110.2468561538 deg  k: 67.57751269282 kcal/(mol rad**2)  id: a2  >\n",
      "(33, 3, 34) <AngleType with smirks: [#1:1]-[#6X4:2]-[#1:3]  angle: 110.2468561538 deg  k: 67.57751269282 kcal/(mol rad**2)  id: a2  >\n",
      "(39, 12, 40) <AngleType with smirks: [#1:1]-[#6X4:2]-[#1:3]  angle: 110.2468561538 deg  k: 67.57751269282 kcal/(mol rad**2)  id: a2  >\n",
      "(41, 13, 42) <AngleType with smirks: [#1:1]-[#6X4:2]-[#1:3]  angle: 110.2468561538 deg  k: 67.57751269282 kcal/(mol rad**2)  id: a2  >\n",
      "(43, 14, 44) <AngleType with smirks: [#1:1]-[#6X4:2]-[#1:3]  angle: 110.2468561538 deg  k: 67.57751269282 kcal/(mol rad**2)  id: a2  >\n"
     ]
    }
   ],
   "source": [
    "ff_applied_parameters = openff_forcefield.label_molecules(ligand_topology)[0]\n",
    "for atoms, parameter in ff_applied_parameters[\"Angles\"].items():\n",
    "    ele_1 = ligand.atoms[atoms[0]].element.symbol\n",
    "    ele_2 = ligand.atoms[atoms[1]].element.symbol\n",
    "    ele_3 = ligand.atoms[atoms[2]].element.symbol\n",
    "    if ele_1 == \"H\" and ele_3 == \"H\":\n",
    "        print(atoms, parameter)"
   ]
  },
  {
   "cell_type": "code",
   "execution_count": 27,
   "metadata": {
    "scrolled": true
   },
   "outputs": [
    {
     "data": {
      "application/vnd.jupyter.widget-view+json": {
       "model_id": "aab71bf52b79417c80e0767b0ef549b0",
       "version_major": 2,
       "version_minor": 0
      },
      "text/plain": [
       "NGLWidget()"
      ]
     },
     "metadata": {},
     "output_type": "display_data"
    }
   ],
   "source": [
    "hxh_angle = openff_forcefield.get_parameter_handler(\"Angles\").parameters[\n",
    "    \"[#1:1]-[#6X4:2]-[#1:3]\"\n",
    "]\n",
    "hxh_angle.angle = 50 * unit.degree\n",
    "\n",
    "view = minimize_and_visualize(ligand, openff_forcefield)\n",
    "view"
   ]
  },
  {
   "cell_type": "markdown",
   "metadata": {},
   "source": [
    "![title](img/aperture.jpg)\n"
   ]
  },
  {
   "cell_type": "markdown",
   "metadata": {},
   "source": [
    "## Now, let's mess with some torsion parameters\n",
    "### Load a molecule with more interesting torsion from PDB, supplying complete topological information using SMILES"
   ]
  },
  {
   "cell_type": "code",
   "execution_count": 28,
   "metadata": {},
   "outputs": [
    {
     "data": {
      "application/vnd.jupyter.widget-view+json": {
       "model_id": "37c92e0e6282400892d2ec94f1fc74d3",
       "version_major": 2,
       "version_minor": 0
      },
      "text/plain": [
       "NGLWidget()"
      ]
     },
     "metadata": {},
     "output_type": "display_data"
    }
   ],
   "source": [
    "view = nglview.show_file(\"CID_15513.pdb\")\n",
    "view"
   ]
  },
  {
   "cell_type": "code",
   "execution_count": 29,
   "metadata": {},
   "outputs": [],
   "source": [
    "ligand = Molecule.from_smiles('COC(=O)C1=CC=C(C=C1)C(=O)O')"
   ]
  },
  {
   "cell_type": "code",
   "execution_count": 30,
   "metadata": {},
   "outputs": [],
   "source": [
    "omm_pdbfile = openmm.app.PDBFile('CID_15513.pdb')\n",
    "ligand_topology = Topology.from_openmm(omm_pdbfile.topology, unique_molecules=[ligand])"
   ]
  },
  {
   "cell_type": "code",
   "execution_count": 31,
   "metadata": {},
   "outputs": [
    {
     "data": {
      "application/vnd.jupyter.widget-view+json": {
       "model_id": "5801d914203a4564a81006d28f9e0f52",
       "version_major": 2,
       "version_minor": 0
      },
      "text/plain": [
       "NGLWidget()"
      ]
     },
     "metadata": {},
     "output_type": "display_data"
    }
   ],
   "source": [
    "openff_forcefield = ForceField('openff-1.2.0.offxml')\n",
    "ligand_system = openff_forcefield.create_openmm_system(ligand_topology)\n",
    "\n",
    "integrator = openmm.LangevinIntegrator(300*unit.kelvin, 1/unit.picosecond, 0.002*unit.picoseconds)\n",
    "simulation = openmm.app.Simulation(ligand_topology.to_openmm(), ligand_system, integrator)\n",
    "simulation.context.setPositions(omm_pdbfile.positions)\n",
    "simulation.minimizeEnergy()\n",
    "\n",
    "lig_struct = pmd.openmm.load_topology(simulation.topology, ligand_system, simulation.context.getState(getPositions=True).getPositions())\n",
    "with NamedTemporaryFile(suffix='.pdb') as tf:\n",
    "    openmm.app.PDBFile.writeModel(simulation.topology, simulation.context.getState(getPositions=True).getPositions(), open(tf.name, 'w'))\n",
    "    view = nglview.show_file(tf.name)\n",
    "view\n"
   ]
  },
  {
   "cell_type": "markdown",
   "metadata": {},
   "source": [
    "### Let's make the substituent groups perpendicular to the ring."
   ]
  },
  {
   "cell_type": "code",
   "execution_count": 32,
   "metadata": {
    "scrolled": true
   },
   "outputs": [
    {
     "name": "stdout",
     "output_type": "stream",
     "text": [
      "(0, 1, 2, 3) <ProperTorsionType with smirks: [#8,#16,#7:1]=[#6X3:2]-[#8X2H0:3]-[#6X4:4]  periodicity1: 2  periodicity2: 1  phase1: 180.0 deg  phase2: 180.0 deg  id: t101  k1: 2.458649012284 kcal/mol  k2: 0.2721741554653 kcal/mol  idivf1: 1.0  idivf2: 1.0  >\n",
      "(1, 2, 4, 5) <ProperTorsionType with smirks: [*:1]~[#6X3:2]-[#6X3$(*=[#8,#16,#7]):3]~[*:4]  periodicity1: 2  phase1: 180.0 deg  id: t47  k1: 0.9350453896311 kcal/mol  idivf1: 1.0  >\n",
      "(1, 2, 4, 9) <ProperTorsionType with smirks: [*:1]~[#6X3:2]-[#6X3$(*=[#8,#16,#7]):3]~[*:4]  periodicity1: 2  phase1: 180.0 deg  id: t47  k1: 0.9350453896311 kcal/mol  idivf1: 1.0  >\n",
      "(3, 2, 4, 5) <ProperTorsionType with smirks: [*:1]~[#6X3:2]-[#6X3$(*=[#8,#16,#7]):3]~[*:4]  periodicity1: 2  phase1: 180.0 deg  id: t47  k1: 0.9350453896311 kcal/mol  idivf1: 1.0  >\n",
      "(3, 2, 4, 9) <ProperTorsionType with smirks: [*:1]~[#6X3:2]-[#6X3$(*=[#8,#16,#7]):3]~[*:4]  periodicity1: 2  phase1: 180.0 deg  id: t47  k1: 0.9350453896311 kcal/mol  idivf1: 1.0  >\n",
      "(6, 7, 10, 11) <ProperTorsionType with smirks: [*:1]~[#6X3:2]-[#6X3$(*=[#8,#16,#7]):3]~[*:4]  periodicity1: 2  phase1: 180.0 deg  id: t47  k1: 0.9350453896311 kcal/mol  idivf1: 1.0  >\n",
      "(6, 7, 10, 12) <ProperTorsionType with smirks: [*:1]~[#6X3:2]-[#6X3$(*=[#8,#16,#7]):3]~[*:4]  periodicity1: 2  phase1: 180.0 deg  id: t47  k1: 0.9350453896311 kcal/mol  idivf1: 1.0  >\n",
      "(8, 7, 10, 11) <ProperTorsionType with smirks: [*:1]~[#6X3:2]-[#6X3$(*=[#8,#16,#7]):3]~[*:4]  periodicity1: 2  phase1: 180.0 deg  id: t47  k1: 0.9350453896311 kcal/mol  idivf1: 1.0  >\n",
      "(8, 7, 10, 12) <ProperTorsionType with smirks: [*:1]~[#6X3:2]-[#6X3$(*=[#8,#16,#7]):3]~[*:4]  periodicity1: 2  phase1: 180.0 deg  id: t47  k1: 0.9350453896311 kcal/mol  idivf1: 1.0  >\n",
      "(11, 10, 12, 20) <ProperTorsionType with smirks: [#1:1]-[#8X2:2]-[#6X3:3]=[#8X1:4]  periodicity1: 2  periodicity2: 1  phase1: 180.0 deg  phase2: 0.0 deg  id: t100  k1: 2.237928151469 kcal/mol  k2: 1.23728649144 kcal/mol  idivf1: 1.0  idivf2: 1.0  >\n"
     ]
    }
   ],
   "source": [
    "torsion_smirkses = set()\n",
    "ff_term_labels = openff_forcefield.label_molecules(ligand_topology)[0]\n",
    "for atoms, parameter in ff_term_labels['ProperTorsions'].items():\n",
    "    ele_1 = ligand.atoms[atoms[0]].element.symbol\n",
    "    ele_2 = ligand.atoms[atoms[1]].element.symbol\n",
    "    ele_3 = ligand.atoms[atoms[2]].element.symbol\n",
    "    ele_4 = ligand.atoms[atoms[3]].element.symbol\n",
    "    if (ele_1 == 'O') or (ele_4 == 'O'):\n",
    "        print(atoms, parameter)\n",
    "        torsion_smirkses.add(parameter.smirks)"
   ]
  },
  {
   "cell_type": "markdown",
   "metadata": {},
   "source": [
    "_You can go back to the [original FF file](https://github.com/openforcefield/openforcefields/blob/master/openforcefields/offxml/openff-1.2.0.offxml) to see where these are defined._\n",
    "\n",
    "This returns three _unique_ parameters, so I use a Python `set` to record all of their SMIRKSes.\n",
    "\n",
    "Now let's change the underlying FF to prefer those torsions being perpendicular."
   ]
  },
  {
   "cell_type": "code",
   "execution_count": 33,
   "metadata": {},
   "outputs": [],
   "source": [
    "for smarts in torsion_smirkses:\n",
    "    oxygen_torsion = openff_forcefield.get_parameter_handler('ProperTorsions').parameters[smarts]\n",
    "    oxygen_torsion.periodicity1 = 2\n",
    "    oxygen_torsion.phase1 = 180 * unit.degree\n",
    "    oxygen_torsion.k1 = -10 * unit.kilocalorie / unit.mole"
   ]
  },
  {
   "cell_type": "code",
   "execution_count": 34,
   "metadata": {
    "scrolled": true
   },
   "outputs": [
    {
     "data": {
      "application/vnd.jupyter.widget-view+json": {
       "model_id": "e10773af0b404a4aa923ea96a566a31b",
       "version_major": 2,
       "version_minor": 0
      },
      "text/plain": [
       "NGLWidget()"
      ]
     },
     "metadata": {},
     "output_type": "display_data"
    }
   ],
   "source": [
    "ligand_system = openff_forcefield.create_openmm_system(ligand_topology)\n",
    "\n",
    "integrator = openmm.LangevinIntegrator(300*unit.kelvin, 1/unit.picosecond, 0.002*unit.picoseconds)\n",
    "simulation = openmm.app.Simulation(ligand_topology.to_openmm(), ligand_system, integrator)\n",
    "simulation.context.setPositions(omm_pdbfile.positions)\n",
    "simulation.minimizeEnergy()\n",
    "\n",
    "lig_struct = pmd.openmm.load_topology(simulation.topology, ligand_system, simulation.context.getState(getPositions=True).getPositions())\n",
    "with NamedTemporaryFile(suffix='.pdb') as tf:\n",
    "    openmm.app.PDBFile.writeModel(simulation.topology, simulation.context.getState(getPositions=True).getPositions(), open(tf.name, 'w'))\n",
    "    view = nglview.show_file(tf.name)\n",
    "view"
   ]
  },
  {
   "cell_type": "markdown",
   "metadata": {},
   "source": [
    "## Workflow 2 Conclusions:\n",
    "\n",
    "* The 0.3 update of the SMIRNOFF specification has brought the object model more closely in line with the XML representation\n",
    "* The ForceField object model exposes a way to inspect the parameters assigned to molecules\n",
    "* The SMARTS-based parameters themselves can be modified prior to system creation\n",
    "* The resulting systems are *immediately* ready for calculation\n",
    "* This API enables fully automated cycles of parameter optimization\n",
    "* Generally, this creates opportunities to bridge cheminformatics and FF science\n",
    "\n",
    "Yet to come - An OpenFF `System` class\n",
    "* Could use a layer of indirection to make parameter optimization more efficient\n",
    "* Will require resolving questions in the SMIRNOFF spec\n",
    "    * How will the hierarchy of charge models be resolved?\n",
    "    * How will `GBSA` and `Electrostatics` forces know to inherit the same charges?\n",
    "    * Where will VirtualSites, which have both charge and vdW parameters, be defined?\n"
   ]
  }
 ],
 "metadata": {
  "kernelspec": {
   "display_name": "Python 3",
   "language": "python",
   "name": "python3"
  },
  "language_info": {
   "codemirror_mode": {
    "name": "ipython",
    "version": 3
   },
   "file_extension": ".py",
   "mimetype": "text/x-python",
   "name": "python",
   "nbconvert_exporter": "python",
   "pygments_lexer": "ipython3",
   "version": "3.7.10"
  }
 },
 "nbformat": 4,
 "nbformat_minor": 4
}
