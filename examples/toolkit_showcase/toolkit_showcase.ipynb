{
 "cells": [
  {
   "cell_type": "markdown",
   "metadata": {},
   "source": [
    "# Toolkit Showcase: Prepare and run a protein-ligand simulation\n",
    "\n",
    "<br />\n",
    "<details>\n",
    "    <summary><small>▼ Click here for dependency installation instructions</small></summary>\n",
    "\n",
    "    The simplest way to install dependencies is to install the examples package:\n",
    "    \n",
    "    conda install -c conda-forge openff-toolkit-examples\n",
    "    \n",
    "    This example will need access to a GROMACS install in addition to the above dependencies. Your existing GROMACS installed can be used, or you can install it from Bioconda:\n",
    "    \n",
    "    conda install -c bioconda gromacs\n",
    "    \n",
    "    You can also install all the depencies using the provided environment.yaml:\n",
    "    \n",
    "    conda env update --file ../environment.yaml \n",
    "    \n",
    "    You may also need to restart this notebook's kernel after you make these changes (Kernel -> Restart)\n",
    "</details>\n"
   ]
  },
  {
   "cell_type": "code",
   "execution_count": 1,
   "metadata": {},
   "outputs": [
    {
     "data": {
      "text/html": [
       "<!--\" Stylesheet for improved readability. This example has a lot of reading, so we want good typography. \"-->\n",
       "<style>\n",
       "p, ul, ol, h1, h2, h3, h4, h5, h6 {\n",
       "    max-width: 50rem;    \n",
       "}\n",
       "</style>\n"
      ],
      "text/plain": [
       "<IPython.core.display.HTML object>"
      ]
     },
     "metadata": {},
     "output_type": "display_data"
    }
   ],
   "source": [
    "%%html\n",
    "<!--\" Stylesheet for improved readability. This example has a lot of reading, so we want good typography. \"-->\n",
    "<style>\n",
    "p, ul, ol, h1, h2, h3, h4, h5, h6 {\n",
    "    max-width: 50rem;    \n",
    "}\n",
    "</style>"
   ]
  },
  {
   "cell_type": "code",
   "execution_count": 2,
   "metadata": {
    "slideshow": {
     "slide_type": "-"
    }
   },
   "outputs": [
    {
     "data": {
      "application/vnd.jupyter.widget-view+json": {
       "model_id": "2f62d6116bb94183b06c25c209148b03",
       "version_major": 2,
       "version_minor": 0
      },
      "text/plain": []
     },
     "metadata": {},
     "output_type": "display_data"
    },
    {
     "name": "stderr",
     "output_type": "stream",
     "text": [
      "Warning: Unable to load toolkit 'OpenEye Toolkit'. The Open Force Field Toolkit does not require the OpenEye Toolkits, and can use RDKit/AmberTools instead. However, if you have a valid license for the OpenEye Toolkits, consider installing them for faster performance and additional file format support: https://docs.eyesopen.com/toolkits/python/quickstart-python/linuxosx.html OpenEye offers free Toolkit licenses for academics: https://www.eyesopen.com/academic-licensing\n"
     ]
    }
   ],
   "source": [
    "# Imports from the Python standard library\n",
    "import sys\n",
    "from pathlib import Path\n",
    "from tempfile import NamedTemporaryFile\n",
    "\n",
    "# Imports from dependencies\n",
    "from simtk import openmm, unit\n",
    "import parmed as pmd\n",
    "import numpy as np\n",
    "import mdtraj as mdt\n",
    "import nglview\n",
    "\n",
    "# Imports from the toolkit\n",
    "import openff.toolkit\n",
    "from openff.toolkit.typing.engines.smirnoff import ForceField\n",
    "from openff.toolkit.topology import Molecule, Topology\n",
    "\n",
    "# Imports from local files\n",
    "from utils import find_clashing_water, minimize_and_visualize"
   ]
  },
  {
   "cell_type": "markdown",
   "metadata": {},
   "source": [
    "_(The OpenEye loading warning is expected -- The toolkit is informing us that OETK is unavailable, but it will safely fall back to using RDKit and AmberTools for the same functionality)_"
   ]
  },
  {
   "cell_type": "markdown",
   "metadata": {},
   "source": [
    "## Introducing the main cast\n",
    "\n",
    "Merck [provides data](https://github.com/MCompChem/fep-benchmark) to benchmark Free Energy Perturbation (FEP) procedures. We'll use structures from this dataset for this showcase:\n",
    "\n",
    "https://github.com/MCompChem/fep-benchmark\n",
    "\n",
    "This example is pre-packaged with one protein-ligand complex from the above repository, however you should be able to download other complexes and run them as well using this workflow. CHEMBL1078774, our ligand of choice, is an inhibitor of the mitotic functions of kinesin-5, a motor protein involved in cell division. \n",
    "\n",
    "The ligand and protein structures are already prepared for simulation:\n",
    "\n",
    "- Their co-ordinates are super-imposable\n",
    "- Hydrogens added to protein and crystallographic waters\n",
    "- N-methyl and acetyl terminal caps on the protein to prevent unphysical charges\n",
    "- Missing atoms are replaced\n",
    "\n",
    "<br />\n",
    "<details>\n",
    "    <summary><small>▼ Click here for the shell commands we used to download the protein-ligand complex</small></summary>\n",
    "\n",
    "    # Clone the repository\n",
    "    git clone https://github.com/MCompChem/fep-benchmark.git\n",
    "    # Take the first ligand from the eg5 benchmark\n",
    "    head -n119 fep-benchmark/eg5/ligands.sdf > chembl_1078774.sdf\n",
    "    # Take the prepared protein structure\n",
    "    cp fep-benchmark/eg5/3l9h_prepared.pdb .\n",
    "    \n",
    "</details>"
   ]
  },
  {
   "cell_type": "code",
   "execution_count": 3,
   "metadata": {
    "slideshow": {
     "slide_type": "-"
    }
   },
   "outputs": [],
   "source": [
    "receptor_path = \"3l9h_prepared.pdb\"\n",
    "ligand_path = \"chembl_1078774.sdf\""
   ]
  },
  {
   "cell_type": "markdown",
   "metadata": {},
   "source": [
    "We can visualize each structure using the [NGLView](https://github.com/nglviewer/nglview) widget. These visualizations are interactive; rotate by dragging the left mouse button, pan with the right mouse button, and zoom with the scroll wheel. You can also mouse over an atom to see its details, and click an atom to center the view on it. When you mouse over the widget, a full screen button will appear in its top right corner."
   ]
  },
  {
   "cell_type": "code",
   "execution_count": 4,
   "metadata": {},
   "outputs": [
    {
     "data": {
      "application/vnd.jupyter.widget-view+json": {
       "model_id": "525e9522bb444209996b78bce3f72c94",
       "version_major": 2,
       "version_minor": 0
      },
      "text/plain": [
       "NGLWidget()"
      ]
     },
     "metadata": {},
     "output_type": "display_data"
    }
   ],
   "source": [
    "view = nglview.show_file(ligand_path)\n",
    "view"
   ]
  },
  {
   "cell_type": "code",
   "execution_count": 5,
   "metadata": {},
   "outputs": [
    {
     "data": {
      "application/vnd.jupyter.widget-view+json": {
       "model_id": "cef8b98834494e45bb57bc97c4d5fbb5",
       "version_major": 2,
       "version_minor": 0
      },
      "text/plain": [
       "NGLWidget()"
      ]
     },
     "metadata": {},
     "output_type": "display_data"
    }
   ],
   "source": [
    "view = nglview.show_file(receptor_path)\n",
    "view"
   ]
  },
  {
   "cell_type": "markdown",
   "metadata": {},
   "source": [
    "# The plan:\n",
    "\n",
    "| Action | Software|\n",
    "|--|--|\n",
    "| Parameterize the ligand | OpenFF Toolkit\n",
    "| Solvate the protein | OpenMM\n",
    "| Parameterize the protein | OpenMM\n",
    "| Combine the ligand and protein into a complex | ParmEd\n",
    "| Remove waters that clash with the ligand | ParmEd/MDTraj\n",
    "| Simulate the complex | OpenMM\n",
    "| Visualize the simulation | NGLView\n",
    "\n",
    "<div class=\"alert alert-info\" style=\"max-width: 700px; margin-left: auto; margin-right: auto;\">\n",
    "<!-- TODO: Explain in more detail what OpenMMForceFields, and decide whether to use this in the showcase -->\n",
    "    ℹ️ Note that there's a new package `OpenMMForceFields` to replace much of this!\n",
    "    <ul>\n",
    "        <li> Home: <a href=https://github.com/openmm/openmmforcefields>https://github.com/openmm/openmmforcefields</a> </li>\n",
    "        <li><code>conda install -c conda-forge openmmforcefields</code></li>\n",
    "        <li><a href=https://github.com/openforcefield/openforcefield/blob/master/examples/swap_amber_parameters/swap_existing_ligand_parameters_with_openmmforcefields.ipynb>Example notebook available</a></li>\n",
    "    </ul>\n",
    "</div>"
   ]
  },
  {
   "cell_type": "markdown",
   "metadata": {},
   "source": [
    "## Parameterize the ligand (OFF Toolkit)\n",
    "\n",
    "In this step, we'll produce parameters for our ligand from the unconstrained Parsley 1.3.0 force field. [Parsley](https://openforcefield.org/force-fields/force-fields/#parsley) is the first generation force field produced by the Open Force Field Initiative. Rather than using atom types like traditional biomolecular force fields, Parsley assigns parameters to a molecule with [fancy subgraph matching](https://www.daylight.com/dayhtml/doc/theory/theory.smarts.html). \"Unconstrained\" denotes that bonds involving hydrogen are treated as harmonics, like other bonds, rather than being constrained to a fixed length. This is appropriate when single-point energies must be as accurate as possible, though constraints allow a greater stable time step.\n",
    "\n",
    "The Open Force Field Toolkit takes a molecular topology (the atoms in a molecule and their bonds) and the force field specification, and produces a `System` object that can be simulated with OpenMM or converted to inputs for other simulation packages. Note that, to produce a molecular topology, you need more than just the co-ordinates of the atoms; you also need their bonds, bond orders, and formal charges. As a result, `.sdf` files are used in this example; other file types are possible, but they must include this information."
   ]
  },
  {
   "cell_type": "code",
   "execution_count": 6,
   "metadata": {},
   "outputs": [],
   "source": [
    "# Load a molecule from a SDF file\n",
    "ligand = Molecule.from_file(ligand_path)\n",
    "# Molecule loads both the co-ordinates of the atoms and their bond graph\n",
    "ligand_positions = ligand.conformers[0]\n",
    "ligand_topology = ligand.to_topology()\n",
    "\n",
    "# Load the force field specification\n",
    "off_forcefield = ForceField(\"openff_unconstrained-1.3.0.offxml\")\n",
    "\n",
    "# Use the force field to produce an OpenMM system for the given topology\n",
    "ligand_system = off_forcefield.create_openmm_system(ligand_topology)"
   ]
  },
  {
   "cell_type": "markdown",
   "metadata": {},
   "source": [
    "_(takes ~100 seconds)_\n",
    "### This is the only block in the first workflow that uses the Open Force Field Toolkit\n",
    "\n",
    "In this workflow, the Toolkit is just responsible for combining a force field with a molecular topology. It is designed to check the input and give the user useful feedback if there seem to be errors or problems in the provided files. It also computes partial charges without user intervention. Computing charges is a process that can be confusing and error-prone, so we try to specify and simplify it as much as possible. Charges are computed efficiently with [OpenEye](https://www.eyesopen.com/) if is available; if it is not, the free toolkits [RDKit](https://www.rdkit.org/) and [AmberTools](https://ambermd.org/AmberTools.php) are used instead.\n"
   ]
  },
  {
   "cell_type": "markdown",
   "metadata": {},
   "source": [
    "## Solvate and parameterize the protein (OpenMM)\n",
    "\n",
    "The Parsley force field is designed for small molecule parameterization. Parameters for proteins and other polymers are coming, but for now we'll use Amber 99sb as our protein force field. The protein is already prepared with AMBER-compatible residue names, so this is simple.\n",
    "\n",
    "<div class=\"alert alert-warning\" style=\"max-width: 700px; margin-left: auto; margin-right: auto;\">\n",
    "⚠️ Note that OpenMM and the Open Force Field Toolkit both have classes called `Topology` and `ForceField` that serve similar functions. Don't get them confused!\n",
    "</div>\n"
   ]
  },
  {
   "cell_type": "code",
   "execution_count": 7,
   "metadata": {},
   "outputs": [],
   "source": [
    "# Load protein and water force field parameters\n",
    "omm_forcefield = openmm.app.ForceField(\n",
    "    \"amber99sb.xml\", \"tip3p.xml\"\n",
    ")\n",
    "# Load the kinesin-5 receptor structure and solvate it in 0.15 M NaCl solution\n",
    "pdb = openmm.app.PDBFile(receptor_path)\n",
    "modeller = openmm.app.Modeller(pdb.topology, pdb.positions)\n",
    "modeller.addSolvent(\n",
    "    omm_forcefield,\n",
    "    model=\"tip3p\",\n",
    "    padding=4.0 * unit.angstrom,\n",
    "    ionicStrength=0.15 * unit.molar,\n",
    ")\n",
    "# Construct the OpenMM System from the solvated structure and the protein force field\n",
    "protein_system = omm_forcefield.createSystem(\n",
    "    modeller.topology, \n",
    "    nonbondedMethod=openmm.app.PME, \n",
    "    rigidWater=False # Necessary due to design differences between OpenFF/OpenMM and ParmEd\n",
    ")"
   ]
  },
  {
   "cell_type": "markdown",
   "metadata": {},
   "source": [
    "<div class=\"alert alert-warning\" style=\"max-width: 700px; margin-left: auto; margin-right: auto;\">\n",
    "⚠️ Note that 4 Å is not enough padding for regular simulations; we're just using it for a fast example.\n",
    "</div>"
   ]
  },
  {
   "cell_type": "markdown",
   "metadata": {},
   "source": [
    "## Combine the parameterized ligand and the parameterized protein\n",
    "\n",
    "[ParmEd](https://github.com/ParmEd/ParmEd) is able to read, write, combine, and edit topologies and structures from several different simulation programs, including CHARMM, OpenMM, Amber, and GROMACS. Here, we use it to combine our protein and ligand systems from OpenMM, remove clashing water molecules, and then write the combined system to OpenMM or GROMACS formats."
   ]
  },
  {
   "cell_type": "code",
   "execution_count": 8,
   "metadata": {},
   "outputs": [],
   "source": [
    "# Load the protein into a ParmEd Structure\n",
    "protein_struct = pmd.openmm.load_topology(\n",
    "    modeller.topology, protein_system, modeller.positions\n",
    ")\n",
    "# Load the ligand into a ParmEd Structure\n",
    "ligand_struct = pmd.openmm.load_topology(\n",
    "    ligand_topology.to_openmm(), ligand_system, ligand_positions\n",
    ")\n",
    "\n",
    "# ParmEd Structures override the \"+\" operator with a method that combines systems (!)\n",
    "pmd_complex_struct = protein_struct + ligand_struct\n",
    "\n",
    "# Assign periodic box vectors from the solvated receptor structure\n",
    "pmd_complex_struct.box_vectors = modeller.topology.getPeriodicBoxVectors()"
   ]
  },
  {
   "cell_type": "markdown",
   "metadata": {},
   "source": [
    "## Visualize the complex\n",
    "\n",
    "NGLView supports a wide variety of [molecular visualization methods](https://nglviewer.org/ngl/api/manual/molecular-representations.html), as well as a VMD-like [atom selection language](https://nglviewer.org/ngl/api/manual/selection-language.html). This can be used to visualize complex systems like this one.\n",
    "\n",
    "The widget consists of a minimally documented [Python library frontend](https://nglviewer.org/nglview/latest/api.html) and an extensively documented [JavaScript backend](https://nglviewer.org/ngl/api/manual/index.html). You'll need to refer to the documentation for both to do anything sophisticated, as the Python code delegates most of its options and functionality to the JS code."
   ]
  },
  {
   "cell_type": "code",
   "execution_count": 9,
   "metadata": {
    "scrolled": true
   },
   "outputs": [
    {
     "data": {
      "application/vnd.jupyter.widget-view+json": {
       "model_id": "5e8e1f57a6564542b6699975c0e9efdc",
       "version_major": 2,
       "version_minor": 0
      },
      "text/plain": [
       "NGLWidget()"
      ]
     },
     "metadata": {},
     "output_type": "display_data"
    }
   ],
   "source": [
    "# Create the widget. By default, proteins are shown as a cartoon and unrecognised ligands with a ball-and-stick model\n",
    "view = nglview.show_parmed(pmd_complex_struct)\n",
    "    \n",
    "# Add a licorice/stick representation for everything except the protein\n",
    "view.add_licorice(selection=\"(not protein)\")\n",
    "# Make the ions clearer by drawing their vdW surfaces\n",
    "view.add_surface(selection=\":.NA or :.CL\")\n",
    "\n",
    "# Render the widget\n",
    "view"
   ]
  },
  {
   "cell_type": "markdown",
   "metadata": {},
   "source": [
    "<div class=\"alert alert-warning\" style=\"max-width: 700px; margin-left: auto; margin-right: auto;\">\n",
    "⚠️ Note that there are waters clashing with the ligand, since the protein was solvated alone\n",
    "</div>"
   ]
  },
  {
   "cell_type": "markdown",
   "metadata": {},
   "source": [
    "## Remove waters that clash with the ligand (ParmEd/MDTraj)\n",
    "\n",
    "In this step we use ParmEd to find and remove clashes from the combined system. Much of the work of this step is done by the `find_clashing_water` function, which can be found in the `utils.py` file accompanying this notebook."
   ]
  },
  {
   "cell_type": "code",
   "execution_count": 10,
   "metadata": {
    "scrolled": true
   },
   "outputs": [
    {
     "name": "stdout",
     "output_type": "stream",
     "text": [
      "Removing ligand-clashing water residues 7482,7536\n"
     ]
    },
    {
     "data": {
      "application/vnd.jupyter.widget-view+json": {
       "model_id": "37ca76a7e5ca42678c4851f23726d75f",
       "version_major": 2,
       "version_minor": 0
      },
      "text/plain": [
       "NGLWidget()"
      ]
     },
     "metadata": {},
     "output_type": "display_data"
    }
   ],
   "source": [
    "clashes = find_clashing_water(pmd_complex_struct, \"CHE\", 0.15)\n",
    "\n",
    "if len(clashes) != 0:\n",
    "    clash_residues_str = \",\".join([str(i) for i in clashes])\n",
    "    print(f\"Removing ligand-clashing water residues {clash_residues_str}\")\n",
    "    pmd_complex_struct.strip(f\":{clash_residues_str}\")\n",
    "else:\n",
    "    print(\"No ligand-water clashes to resolve\")\n",
    "\n",
    "view = nglview.show_parmed(pmd_complex_struct)\n",
    "\n",
    "view.add_licorice(selection=\"(not protein)\")\n",
    "view.add_surface(selection=\":.NA or :.CL\")\n",
    "view"
   ]
  },
  {
   "cell_type": "markdown",
   "metadata": {},
   "source": [
    "## Convert the combined system from ParmEd to our simulation engine of choice\n",
    "\n",
    "Now that we have our system prepared in ParmEd, we can convert it to the engine we want to run our molecular dynamics simulation on. In this step, we'll use OpenMM; in the next, we'll use GROMACS."
   ]
  },
  {
   "cell_type": "code",
   "execution_count": 11,
   "metadata": {},
   "outputs": [],
   "source": [
    "# Create an OpenMM System from the ParmEd structure, adding in the appropriate parameters\n",
    "system = pmd_complex_struct.createSystem(\n",
    "    nonbondedMethod=openmm.app.PME,\n",
    "    nonbondedCutoff=9 * unit.angstrom,\n",
    "    constraints=openmm.app.HBonds,\n",
    "    rigidWater=True, # Note that this is different to what we used to convert to ParmEd, due to differences in implementation between the two programs\n",
    ")\n",
    "# Construct and configure a Langevin integrator at 300 K with an appropriate friction constant and time-step\n",
    "integrator = openmm.LangevinIntegrator(\n",
    "    300 * unit.kelvin, 1 / unit.picosecond, 0.002 * unit.picoseconds\n",
    ")\n",
    "\n",
    "# Combine the topology from ParmEd with the new System and integrator\n",
    "simulation = openmm.app.Simulation(\n",
    "    pmd_complex_struct.topology, system, integrator\n",
    ")\n",
    "\n",
    "# The box is about 75 angstroms per side, so add (30, 30, 30) to center the protein\n",
    "simulation.context.setPositions(\n",
    "    pmd_complex_struct.positions + np.array([30, 30, 30]) * unit.angstrom\n",
    ")\n",
    "\n",
    "# Add a reporter to record the structure every 10 steps\n",
    "nc_reporter = pmd.openmm.NetCDFReporter(\"trajectory.nc\", 10)\n",
    "simulation.reporters.append(nc_reporter)"
   ]
  },
  {
   "cell_type": "markdown",
   "metadata": {},
   "source": [
    "## Simulate the complex (OpenMM)\n",
    "### Minimize the combined system\n",
    "\n",
    "This will reduce any forces that are too large to integrate, such as from clashes or from disagreements between the crystal structure and force field.\n"
   ]
  },
  {
   "cell_type": "code",
   "execution_count": 12,
   "metadata": {},
   "outputs": [],
   "source": [
    "simulation.minimizeEnergy()\n",
    "minimized_coords = simulation.context.getState(\n",
    "    getPositions=True\n",
    ").getPositions()"
   ]
  },
  {
   "cell_type": "markdown",
   "metadata": {},
   "source": [
    "_(Takes ~2 minutes on single core)_"
   ]
  },
  {
   "cell_type": "markdown",
   "metadata": {},
   "source": [
    "### Run a short simulation\n",
    "\n",
    "If this were anything more than a demonstration of the Toolkit, this example would need to include additional steps like equilibration. \n",
    "\n",
    "<div class=\"alert alert-warning\" style=\"max-width: 700px; margin-left: auto; margin-right: auto;\">\n",
    "⚠️ Don't take this example as a description of a valid simulation protocol!\n",
    "</div>"
   ]
  },
  {
   "cell_type": "code",
   "execution_count": 13,
   "metadata": {},
   "outputs": [
    {
     "name": "stderr",
     "output_type": "stream",
     "text": [
      "/home/joshmitchell/conda/envs/offdev/lib/python3.7/site-packages/parmed/amber/netcdffiles.py:409: UserWarning: Could not find netCDF4 module. Falling back on scipy implementation, which can significantly slow down simulations if used as a reporter\n",
      "  warnings.warn('Could not find netCDF4 module. Falling back on '\n"
     ]
    }
   ],
   "source": [
    "simulation.context.setVelocitiesToTemperature(300 * unit.kelvin)\n",
    "simulation.step(1000)"
   ]
  },
  {
   "cell_type": "markdown",
   "metadata": {},
   "source": [
    "_(Takes ~85 seconds on a single core, largely due to trajectory writing frequency)_"
   ]
  },
  {
   "cell_type": "markdown",
   "metadata": {},
   "source": [
    "## While we wait, a few asides...\n",
    "\n",
    "<!-- TODO: Get enough extra details to make sense of and expand on these -->\n",
    "\n",
    "### Force Fields\n",
    "* Reproducibility - User *must* see the name of what they're using\n",
    "    * Force field is completely specified by the name, so the name of the force field actually defines all the parameters (cutoff distance, VDW modifiers, constraints, partial charge generation method, etc)\n",
    "    * As much as possible, we want energy and force to be a deterministic output of combining a molecule and a force field\n",
    "    * Give the force field name in a paper and it should be reproducible\n",
    "* Conda data packages - \"Plugin\" support for additional force fields (anybody can add!)\n",
    "    * Loads force fields (.offxml) from a list of directories that any package can append to\n",
    "    * Path to list is in slack\n",
    "* Evolving together - Toolkit will support all functional forms in [`openff-forcefields` repo](https://github.com/openforcefield/openff-forcefields/) and the SMIRNOFF spec\n",
    "    * SMIRNOFF is not just a spec, we're also committing to a reference implementation\n",
    "\n",
    "<img src=\"img/openforcefields.png\" alt=\"drawing\" width=\"800\"/>\n",
    "\n",
    "<hr/>\n",
    "    \n",
    "### Charge generation\n",
    "* Released FFs only use AM1-BCC, though different semiempirical methods and charge corrections are now available\n",
    "    * Plans to use other methods in future\n",
    "* \"Graph based\" charges are coming in the near future -- Consistency and speed!\n",
    "    * Currently researching\n",
    "    * Lets us remove conformer dependence - charges depend on bond graph, not 3D coordinates\n",
    "    * Potentially a lot faster\n",
    "* Library charge support is available\n",
    "    * Template based charges can also be assigned\n",
    "    \n",
    "    \n",
    "<img src=\"img/xkcd_charge.png\" alt=\"drawing\" width=\"400\"/>\n",
    "\n",
    "<hr/>\n",
    "\n",
    "### Current cheminformatics toolkit differences - openeye vs rdkit - probs don't need this section\n",
    "* We try to protect users but there are edge cases\n",
    "* File formats\n",
    "* Slight differences in partial charge\n",
    "* Speed\n",
    "* SMILES canonicalization\n",
    "* Behavior stability\n",
    "* Stereochemistry definition (Edge cases)"
   ]
  },
  {
   "cell_type": "markdown",
   "metadata": {},
   "source": [
    "## Visualize the simulation (nglview)\n",
    "\n",
    "NGLView can display trajectories, as well as single structures. Mouse over the widget to see the animation controls."
   ]
  },
  {
   "cell_type": "code",
   "execution_count": 14,
   "metadata": {},
   "outputs": [
    {
     "name": "stdout",
     "output_type": "stream",
     "text": [
      "<mdtraj.Trajectory with 100 frames, 40097 atoms, 11915 residues, and unitcells>\n"
     ]
    },
    {
     "data": {
      "application/vnd.jupyter.widget-view+json": {
       "model_id": "c95390595b48431e8466679a38412f2e",
       "version_major": 2,
       "version_minor": 0
      },
      "text/plain": [
       "NGLWidget(max_frame=99)"
      ]
     },
     "metadata": {},
     "output_type": "display_data"
    }
   ],
   "source": [
    "openmm.app.PDBFile.writeFile(\n",
    "    pmd_complex_struct.topology, pmd_complex_struct.positions, open(\"system.pdb\", \"w\")\n",
    ")\n",
    "mdt_traj = mdt.load(\"trajectory.nc\", top=\"system.pdb\")\n",
    "print(mdt_traj)\n",
    "import nglview\n",
    "\n",
    "view = nglview.show_mdtraj(mdt_traj)\n",
    "view"
   ]
  },
  {
   "cell_type": "markdown",
   "metadata": {},
   "source": [
    "## Conclusions\n",
    "* Toolkit parameterization requires *8 lines*, three of which are cheap hacks \n",
    "* Conda-installable, open source tools performed everything from basic system prep to simulation and visualization\n",
    "* Using OpenMM, we never had to leave Python\n",
    "* Using ParmEd, there was little additional work to running with GROMACS\n",
    "\n",
    "\n",
    "<img src=\"img/dog_food.jpg\" alt=\"drawing\" width=\"350\"/>\n",
    "\n",
    "## What's next?\n",
    "\n",
    "<!-- TODO: List some examples to continue on with after this one -->\n",
    "\n",
    " - Parameter manipulation\n",
    " - Conformer energies\n",
    " - QCArchive interface"
   ]
  },
  {
   "cell_type": "markdown",
   "metadata": {},
   "source": [
    "# Appendix: What about GROMACS?\n",
    "\n",
    "OpenMM makes it easy to run molecular simulations without leaving Python. The OpenFF toolkit currently exports directly to OpenMM, but no part of the parametrization process is exclusively supported by OpenMM. With ParmEd and other tools, the same systems can be run in other engines. Here we show how to use ParmEd to prepare and run the same workflow in GROMACS (_Thanks, Dennis Della Corte!_).\n",
    "\n",
    "We have [another example](some_url) that uses ParmEd to produce Amber input files too, and also validate single point energies.\n",
    "\n",
    "<div class=\"alert alert-warning\" style=\"max-width: 700px; margin-left: auto; margin-right: auto;\">\n",
    "⚠️ Don't take this example as a description of a valid simulation protocol!\n",
    "</div>"
   ]
  },
  {
   "cell_type": "code",
   "execution_count": 15,
   "metadata": {},
   "outputs": [],
   "source": [
    "# Export GROMACS files.\n",
    "pmd_complex_struct.save(\"system.top\", overwrite=True)\n",
    "pmd_complex_struct.save(\"system.gro\", overwrite=True)"
   ]
  },
  {
   "cell_type": "code",
   "execution_count": 16,
   "metadata": {},
   "outputs": [
    {
     "name": "stdout",
     "output_type": "stream",
     "text": [
      "env: GMX_MAXBACKUP=-1\n",
      "                 :-) GROMACS - gmx grompp, 2021.1-MODIFIED (-:\n",
      "\n",
      "                            GROMACS is written by:\n",
      "     Andrey Alekseenko              Emile Apol              Rossen Apostolov     \n",
      "         Paul Bauer           Herman J.C. Berendsen           Par Bjelkmar       \n",
      "       Christian Blau           Viacheslav Bolnykh             Kevin Boyd        \n",
      "     Aldert van Buuren           Rudi van Drunen             Anton Feenstra      \n",
      "    Gilles Gouaillardet             Alan Gray               Gerrit Groenhof      \n",
      "       Anca Hamuraru            Vincent Hindriksen          M. Eric Irrgang      \n",
      "      Aleksei Iupinov           Christoph Junghans             Joe Jordan        \n",
      "    Dimitrios Karkoulis            Peter Kasson                Jiri Kraus        \n",
      "      Carsten Kutzner              Per Larsson              Justin A. Lemkul     \n",
      "       Viveca Lindahl            Magnus Lundborg             Erik Marklund       \n",
      "        Pascal Merz             Pieter Meulenhoff            Teemu Murtola       \n",
      "        Szilard Pall               Sander Pronk              Roland Schulz       \n",
      "       Michael Shirts            Alexey Shvetsov             Alfons Sijbers      \n",
      "       Peter Tieleman              Jon Vincent              Teemu Virolainen     \n",
      "     Christian Wennberg            Maarten Wolf              Artem Zhmurov       \n",
      "                           and the project leaders:\n",
      "        Mark Abraham, Berk Hess, Erik Lindahl, and David van der Spoel\n",
      "\n",
      "Copyright (c) 1991-2000, University of Groningen, The Netherlands.\n",
      "Copyright (c) 2001-2019, The GROMACS development team at\n",
      "Uppsala University, Stockholm University and\n",
      "the Royal Institute of Technology, Sweden.\n",
      "check out http://www.gromacs.org for more information.\n",
      "\n",
      "GROMACS is free software; you can redistribute it and/or modify it\n",
      "under the terms of the GNU Lesser General Public License\n",
      "as published by the Free Software Foundation; either version 2.1\n",
      "of the License, or (at your option) any later version.\n",
      "\n",
      "GROMACS:      gmx grompp, version 2021.1-MODIFIED\n",
      "Executable:   /home/joshmitchell/conda/envs/offdev/bin.AVX2_256/gmx\n",
      "Data prefix:  /home/joshmitchell/conda/envs/offdev\n",
      "Working dir:  /home/joshmitchell/Documents/openff/openff-toolkit/examples/toolkit_showcase\n",
      "Command line:\n",
      "  gmx grompp -f minim.mdp -c system.gro -p system.top -o em.tpr -maxwarn 1\n",
      "\n",
      "\n",
      "NOTE 1 [file minim.mdp]:\n",
      "  You have set rlist larger than the interaction cut-off, but you also have\n",
      "  verlet-buffer-tolerance > 0. Will set rlist using verlet-buffer-tolerance.\n",
      "\n",
      "Setting the LD random seed to -1369465355\n",
      "\n",
      "Generated 190 of the 190 non-bonded parameter combinations\n",
      "\n",
      "Excluding 3 bonded neighbours molecule type 'system1'\n",
      "\n",
      "Excluding 3 bonded neighbours molecule type 'HOH'\n",
      "\n",
      "Excluding 3 bonded neighbours molecule type 'NA'\n",
      "\n",
      "Excluding 3 bonded neighbours molecule type 'CL'\n",
      "\n",
      "Excluding 3 bonded neighbours molecule type 'CHEMBL1078774'\n",
      "\n",
      "NOTE 2 [file system.top, line 52558]:\n",
      "  System has non-zero total charge: 0.004995\n",
      "  Total charge should normally be an integer. See\n",
      "  http://www.gromacs.org/Documentation/Floating_Point_Arithmetic\n",
      "  for discussion on how close it should be to an integer.\n",
      "  \n",
      "\n",
      "\n",
      "\n",
      "WARNING 1 [file system.top, line 52558]:\n",
      "  You are using Ewald electrostatics in a system with net charge. This can\n",
      "  lead to severe artifacts, such as ions moving into regions with low\n",
      "  dielectric, due to the uniform background charge. We suggest to\n",
      "  neutralize your system with counter ions, possibly in combination with a\n",
      "  physiological salt concentration.\n",
      "\n",
      "\n",
      "++++ PLEASE READ AND CITE THE FOLLOWING REFERENCE ++++\n",
      "J. S. Hub, B. L. de Groot, H. Grubmueller, G. Groenhof\n",
      "Quantifying Artifacts in Ewald Simulations of Inhomogeneous Systems with a Net\n",
      "Charge\n",
      "J. Chem. Theory Comput. 10 (2014) pp. 381-393\n",
      "-------- -------- --- Thank You --- -------- --------\n",
      "\n",
      "Analysing residue names:\n",
      "There are:   349    Protein residues\n",
      "There are: 11503      Water residues\n",
      "There are:    62        Ion residues\n",
      "There are:     1      Other residues\n",
      "Analysing Protein...\n",
      "Analysing residues not classified as Protein/DNA/RNA/Water and splitting into groups...\n",
      "Analysing residues not classified as Protein/DNA/RNA/Water and splitting into groups...\n",
      "Number of degrees of freedom in T-Coupling group rest is 85779.00\n",
      "Calculating fourier grid dimensions for X Y Z\n",
      "Using a fourier grid of 64x64x64, spacing 0.118 0.118 0.118\n",
      "\n",
      "Estimate for the relative computational load of the PME mesh part: 0.29\n",
      "\n",
      "This run will generate roughly 3 Mb of data\n",
      "\n",
      "There were 2 notes\n",
      "\n",
      "There was 1 warning\n",
      "\n",
      "GROMACS reminds you: \"Naive you are if you believe life favours those who aren't naive.\" (Piet Hein)\n",
      "\n",
      "                  :-) GROMACS - gmx mdrun, 2021.1-MODIFIED (-:\n",
      "\n",
      "                            GROMACS is written by:\n",
      "     Andrey Alekseenko              Emile Apol              Rossen Apostolov     \n",
      "         Paul Bauer           Herman J.C. Berendsen           Par Bjelkmar       \n",
      "       Christian Blau           Viacheslav Bolnykh             Kevin Boyd        \n",
      "     Aldert van Buuren           Rudi van Drunen             Anton Feenstra      \n",
      "    Gilles Gouaillardet             Alan Gray               Gerrit Groenhof      \n",
      "       Anca Hamuraru            Vincent Hindriksen          M. Eric Irrgang      \n",
      "      Aleksei Iupinov           Christoph Junghans             Joe Jordan        \n",
      "    Dimitrios Karkoulis            Peter Kasson                Jiri Kraus        \n",
      "      Carsten Kutzner              Per Larsson              Justin A. Lemkul     \n",
      "       Viveca Lindahl            Magnus Lundborg             Erik Marklund       \n",
      "        Pascal Merz             Pieter Meulenhoff            Teemu Murtola       \n",
      "        Szilard Pall               Sander Pronk              Roland Schulz       \n",
      "       Michael Shirts            Alexey Shvetsov             Alfons Sijbers      \n",
      "       Peter Tieleman              Jon Vincent              Teemu Virolainen     \n",
      "     Christian Wennberg            Maarten Wolf              Artem Zhmurov       \n",
      "                           and the project leaders:\n",
      "        Mark Abraham, Berk Hess, Erik Lindahl, and David van der Spoel\n",
      "\n",
      "Copyright (c) 1991-2000, University of Groningen, The Netherlands.\n",
      "Copyright (c) 2001-2019, The GROMACS development team at\n",
      "Uppsala University, Stockholm University and\n",
      "the Royal Institute of Technology, Sweden.\n",
      "check out http://www.gromacs.org for more information.\n",
      "\n",
      "GROMACS is free software; you can redistribute it and/or modify it\n",
      "under the terms of the GNU Lesser General Public License\n",
      "as published by the Free Software Foundation; either version 2.1\n",
      "of the License, or (at your option) any later version.\n",
      "\n",
      "GROMACS:      gmx mdrun, version 2021.1-MODIFIED\n",
      "Executable:   /home/joshmitchell/conda/envs/offdev/bin.AVX2_256/gmx\n",
      "Data prefix:  /home/joshmitchell/conda/envs/offdev\n",
      "Working dir:  /home/joshmitchell/Documents/openff/openff-toolkit/examples/toolkit_showcase\n",
      "Command line:\n",
      "  gmx mdrun -v -deffnm em\n",
      "\n",
      "Reading file em.tpr, VERSION 2021.1-MODIFIED (single precision)\n",
      "Using 1 MPI thread\n",
      "Using 4 OpenMP threads \n",
      "\n",
      "\n",
      "Steepest Descents:\n",
      "   Tolerance (Fmax)   =  1.00000e+03\n",
      "   Number of steps    =        10000\n",
      "Step=    0, Dmax= 1.0e-02 nm, Epot= -2.70269e+05 Fmax= 7.30366e+05, atom= 40036\n",
      "Step=    1, Dmax= 1.0e-02 nm, Epot= -2.88536e+05 Fmax= 2.86573e+05, atom= 40036\n",
      "Step=    2, Dmax= 1.2e-02 nm, Epot= -3.15589e+05 Fmax= 9.91189e+04, atom= 40036\n",
      "Step=    3, Dmax= 1.4e-02 nm, Epot= -3.53989e+05 Fmax= 2.86555e+04, atom= 40036\n",
      "Step=    4, Dmax= 1.7e-02 nm, Epot= -3.96070e+05 Fmax= 9.33615e+03, atom= 31122\n",
      "Step=    5, Dmax= 2.1e-02 nm, Epot= -4.30131e+05 Fmax= 3.85404e+03, atom= 39894\n",
      "Step=    6, Dmax= 2.5e-02 nm, Epot= -4.58741e+05 Fmax= 2.44227e+04, atom= 1513\n",
      "Step=    7, Dmax= 3.0e-02 nm, Epot= -4.64600e+05 Fmax= 1.81547e+04, atom= 3062\n",
      "Step=    8, Dmax= 3.6e-02 nm, Epot= -4.67011e+05 Fmax= 3.70480e+04, atom= 3062\n",
      "Step=    9, Dmax= 4.3e-02 nm, Epot= -4.71399e+05 Fmax= 2.79807e+04, atom= 3062\n",
      "Step=   10, Dmax= 5.2e-02 nm, Epot= -4.71833e+05 Fmax= 5.00809e+04, atom= 3062\n",
      "Step=   11, Dmax= 6.2e-02 nm, Epot= -4.75736e+05 Fmax= 4.16255e+04, atom= 3062\n",
      "Step=   13, Dmax= 3.7e-02 nm, Epot= -4.80493e+05 Fmax= 1.36666e+04, atom= 3062\n",
      "Step=   14, Dmax= 4.5e-02 nm, Epot= -4.80716e+05 Fmax= 5.45077e+04, atom= 3062\n",
      "Step=   15, Dmax= 5.3e-02 nm, Epot= -4.86493e+05 Fmax= 2.71527e+04, atom= 3062\n"
     ]
    },
    {
     "name": "stdout",
     "output_type": "stream",
     "text": [
      "Step=   17, Dmax= 3.2e-02 nm, Epot= -4.88761e+05 Fmax= 2.10301e+04, atom= 3062\n",
      "Step=   18, Dmax= 3.9e-02 nm, Epot= -4.89576e+05 Fmax= 3.65034e+04, atom= 3062\n",
      "Step=   19, Dmax= 4.6e-02 nm, Epot= -4.91658e+05 Fmax= 3.26288e+04, atom= 3062\n",
      "Step=   21, Dmax= 2.8e-02 nm, Epot= -4.94609e+05 Fmax= 9.00885e+03, atom= 3062\n",
      "Step=   22, Dmax= 3.3e-02 nm, Epot= -4.95687e+05 Fmax= 4.20918e+04, atom= 3062\n",
      "Step=   23, Dmax= 4.0e-02 nm, Epot= -4.99455e+05 Fmax= 1.89654e+04, atom= 3062\n",
      "Step=   25, Dmax= 2.4e-02 nm, Epot= -5.00884e+05 Fmax= 1.73206e+04, atom= 3062\n",
      "Step=   26, Dmax= 2.9e-02 nm, Epot= -5.01784e+05 Fmax= 2.61715e+04, atom= 3062\n",
      "Step=   27, Dmax= 3.5e-02 nm, Epot= -5.03047e+05 Fmax= 2.59385e+04, atom= 2434\n",
      "Step=   28, Dmax= 4.1e-02 nm, Epot= -5.03178e+05 Fmax= 3.67982e+04, atom= 2434\n",
      "Step=   29, Dmax= 5.0e-02 nm, Epot= -5.04177e+05 Fmax= 3.79490e+04, atom= 2434\n",
      "Step=   31, Dmax= 3.0e-02 nm, Epot= -5.07596e+05 Fmax= 7.05712e+03, atom= 2434\n",
      "Step=   33, Dmax= 1.8e-02 nm, Epot= -5.09046e+05 Fmax= 1.98497e+04, atom= 2434\n",
      "Step=   34, Dmax= 2.1e-02 nm, Epot= -5.10343e+05 Fmax= 1.29119e+04, atom= 2434\n",
      "Step=   35, Dmax= 2.6e-02 nm, Epot= -5.10881e+05 Fmax= 2.63102e+04, atom= 2434\n",
      "Step=   36, Dmax= 3.1e-02 nm, Epot= -5.12241e+05 Fmax= 2.07844e+04, atom= 2434\n",
      "Step=   38, Dmax= 1.9e-02 nm, Epot= -5.13592e+05 Fmax= 7.40374e+03, atom= 2434\n",
      "Step=   39, Dmax= 2.2e-02 nm, Epot= -5.14498e+05 Fmax= 2.67475e+04, atom= 2434\n",
      "Step=   40, Dmax= 2.7e-02 nm, Epot= -5.16099e+05 Fmax= 1.39984e+04, atom= 2434\n",
      "Step=   42, Dmax= 1.6e-02 nm, Epot= -5.16999e+05 Fmax= 1.04980e+04, atom= 2434\n",
      "Step=   43, Dmax= 1.9e-02 nm, Epot= -5.17734e+05 Fmax= 1.88063e+04, atom= 2434\n",
      "Step=   44, Dmax= 2.3e-02 nm, Epot= -5.18636e+05 Fmax= 1.64653e+04, atom= 2434\n",
      "Step=   45, Dmax= 2.8e-02 nm, Epot= -5.18977e+05 Fmax= 2.56888e+04, atom= 2434\n",
      "Step=   46, Dmax= 3.3e-02 nm, Epot= -5.19801e+05 Fmax= 2.48765e+04, atom= 2434\n",
      "Step=   48, Dmax= 2.0e-02 nm, Epot= -5.21259e+05 Fmax= 5.43453e+03, atom= 2434\n",
      "Step=   49, Dmax= 2.4e-02 nm, Epot= -5.22132e+05 Fmax= 3.13845e+04, atom= 2434\n",
      "Step=   50, Dmax= 2.9e-02 nm, Epot= -5.23961e+05 Fmax= 1.25240e+04, atom= 2434\n",
      "Step=   52, Dmax= 1.7e-02 nm, Epot= -5.24614e+05 Fmax= 1.38281e+04, atom= 2434\n",
      "Step=   53, Dmax= 2.1e-02 nm, Epot= -5.25170e+05 Fmax= 1.76799e+04, atom= 2434\n",
      "Step=   54, Dmax= 2.5e-02 nm, Epot= -5.25712e+05 Fmax= 2.02047e+04, atom= 2434\n",
      "Step=   55, Dmax= 3.0e-02 nm, Epot= -5.26071e+05 Fmax= 2.50598e+04, atom= 2434\n",
      "Step=   56, Dmax= 3.6e-02 nm, Epot= -5.26383e+05 Fmax= 2.91944e+04, atom= 2434\n",
      "Step=   58, Dmax= 2.1e-02 nm, Epot= -5.28035e+05 Fmax= 3.40204e+03, atom= 2434\n",
      "Step=   59, Dmax= 2.6e-02 nm, Epot= -5.29444e+05 Fmax= 3.62604e+04, atom= 2434\n",
      "Step=   60, Dmax= 3.1e-02 nm, Epot= -5.31560e+05 Fmax= 1.13057e+04, atom= 2434\n",
      "Step=   62, Dmax= 1.9e-02 nm, Epot= -5.31988e+05 Fmax= 1.71001e+04, atom= 2434\n",
      "Step=   63, Dmax= 2.2e-02 nm, Epot= -5.32511e+05 Fmax= 1.68403e+04, atom= 2434\n",
      "Step=   64, Dmax= 2.7e-02 nm, Epot= -5.32724e+05 Fmax= 2.38842e+04, atom= 2434\n",
      "Step=   65, Dmax= 3.2e-02 nm, Epot= -5.33166e+05 Fmax= 2.47609e+04, atom= 2434\n",
      "Step=   67, Dmax= 1.9e-02 nm, Epot= -5.34285e+05 Fmax= 4.49060e+03, atom= 2434\n",
      "Step=   68, Dmax= 2.3e-02 nm, Epot= -5.34895e+05 Fmax= 3.06072e+04, atom= 2434\n",
      "Step=   69, Dmax= 2.8e-02 nm, Epot= -5.36304e+05 Fmax= 1.17680e+04, atom= 2434\n",
      "Step=   71, Dmax= 1.7e-02 nm, Epot= -5.36727e+05 Fmax= 1.34936e+04, atom= 2434\n",
      "Step=   72, Dmax= 2.0e-02 nm, Epot= -5.37084e+05 Fmax= 1.69760e+04, atom= 2434\n",
      "Step=   73, Dmax= 2.4e-02 nm, Epot= -5.37430e+05 Fmax= 1.93828e+04, atom= 2434\n",
      "Step=   74, Dmax= 2.9e-02 nm, Epot= -5.37627e+05 Fmax= 2.43255e+04, atom= 2434\n",
      "Step=   75, Dmax= 3.4e-02 nm, Epot= -5.37824e+05 Fmax= 2.78153e+04, atom= 2434\n",
      "Step=   77, Dmax= 2.1e-02 nm, Epot= -5.39079e+05 Fmax= 3.61249e+03, atom= 2434\n",
      "Step=   78, Dmax= 2.5e-02 nm, Epot= -5.39689e+05 Fmax= 3.38742e+04, atom= 2434\n",
      "Step=   79, Dmax= 3.0e-02 nm, Epot= -5.41280e+05 Fmax= 1.18358e+04, atom= 2434\n",
      "Step=   81, Dmax= 1.8e-02 nm, Epot= -5.41590e+05 Fmax= 1.53314e+04, atom= 2434\n",
      "Step=   82, Dmax= 2.1e-02 nm, Epot= -5.41900e+05 Fmax= 1.74390e+04, atom= 2434\n",
      "Step=   83, Dmax= 2.6e-02 nm, Epot= -5.42099e+05 Fmax= 2.16111e+04, atom= 2434\n",
      "Step=   84, Dmax= 3.1e-02 nm, Epot= -5.42268e+05 Fmax= 2.53322e+04, atom= 2434\n",
      "Step=   86, Dmax= 1.8e-02 nm, Epot= -5.43275e+05 Fmax= 2.79927e+03, atom= 2434\n",
      "Step=   87, Dmax= 2.2e-02 nm, Epot= -5.44140e+05 Fmax= 3.16437e+04, atom= 2434\n",
      "Step=   88, Dmax= 2.7e-02 nm, Epot= -5.45486e+05 Fmax= 9.30169e+03, atom= 2434\n",
      "Step=   90, Dmax= 1.6e-02 nm, Epot= -5.45740e+05 Fmax= 1.52156e+04, atom= 2434\n",
      "Step=   91, Dmax= 1.9e-02 nm, Epot= -5.46087e+05 Fmax= 1.40356e+04, atom= 2434\n",
      "Step=   92, Dmax= 2.3e-02 nm, Epot= -5.46187e+05 Fmax= 2.11358e+04, atom= 2434\n",
      "Step=   93, Dmax= 2.8e-02 nm, Epot= -5.46506e+05 Fmax= 2.08498e+04, atom= 2434\n",
      "Step=   95, Dmax= 1.7e-02 nm, Epot= -5.47187e+05 Fmax= 4.41260e+03, atom= 2434\n",
      "Step=   96, Dmax= 2.0e-02 nm, Epot= -5.47469e+05 Fmax= 2.57744e+04, atom= 2434\n",
      "Step=   97, Dmax= 2.4e-02 nm, Epot= -5.48325e+05 Fmax= 1.07277e+04, atom= 2434\n",
      "Step=   99, Dmax= 1.4e-02 nm, Epot= -5.48612e+05 Fmax= 1.10417e+04, atom= 2434\n",
      "Step=  100, Dmax= 1.7e-02 nm, Epot= -5.48828e+05 Fmax= 1.52564e+04, atom= 2434\n",
      "Step=  101, Dmax= 2.1e-02 nm, Epot= -5.49087e+05 Fmax= 1.61037e+04, atom= 2434\n",
      "Step=  102, Dmax= 2.5e-02 nm, Epot= -5.49176e+05 Fmax= 2.16493e+04, atom= 2434\n",
      "Step=  103, Dmax= 3.0e-02 nm, Epot= -5.49367e+05 Fmax= 2.33874e+04, atom= 2434\n",
      "Step=  105, Dmax= 1.8e-02 nm, Epot= -5.50152e+05 Fmax= 3.74775e+03, atom= 2434\n",
      "Step=  106, Dmax= 2.1e-02 nm, Epot= -5.50393e+05 Fmax= 2.85910e+04, atom= 2434\n",
      "Step=  107, Dmax= 2.6e-02 nm, Epot= -5.51393e+05 Fmax= 1.07069e+04, atom= 2434\n",
      "Step=  109, Dmax= 1.5e-02 nm, Epot= -5.51622e+05 Fmax= 1.26922e+04, atom= 2434\n",
      "Step=  110, Dmax= 1.8e-02 nm, Epot= -5.51816e+05 Fmax= 1.55699e+04, atom= 2434\n",
      "Step=  111, Dmax= 2.2e-02 nm, Epot= -5.51989e+05 Fmax= 1.81154e+04, atom= 2434\n",
      "Step=  112, Dmax= 2.7e-02 nm, Epot= -5.52070e+05 Fmax= 2.24287e+04, atom= 2434\n",
      "Step=  113, Dmax= 3.2e-02 nm, Epot= -5.52133e+05 Fmax= 2.59156e+04, atom= 2434\n",
      "Step=  115, Dmax= 1.9e-02 nm, Epot= -5.53044e+05 Fmax= 3.23628e+03, atom= 2434\n",
      "Step=  116, Dmax= 2.3e-02 nm, Epot= -5.53212e+05 Fmax= 3.13972e+04, atom= 2434\n",
      "Step=  117, Dmax= 2.8e-02 nm, Epot= -5.54384e+05 Fmax= 1.09439e+04, atom= 2434\n",
      "Step=  119, Dmax= 1.7e-02 nm, Epot= -5.54554e+05 Fmax= 1.42205e+04, atom= 2434\n",
      "Step=  120, Dmax= 2.0e-02 nm, Epot= -5.54732e+05 Fmax= 1.61599e+04, atom= 2434\n",
      "Step=  121, Dmax= 2.4e-02 nm, Epot= -5.54821e+05 Fmax= 2.00288e+04, atom= 2434\n",
      "Step=  122, Dmax= 2.9e-02 nm, Epot= -5.54889e+05 Fmax= 2.35126e+04, atom= 2434\n",
      "Step=  124, Dmax= 1.7e-02 nm, Epot= -5.55643e+05 Fmax= 2.56317e+03, atom= 2434\n",
      "Step=  125, Dmax= 2.1e-02 nm, Epot= -5.55998e+05 Fmax= 2.93973e+04, atom= 2434\n",
      "Step=  126, Dmax= 2.5e-02 nm, Epot= -5.57040e+05 Fmax= 8.50654e+03, atom= 2434\n",
      "Step=  128, Dmax= 1.5e-02 nm, Epot= -5.57173e+05 Fmax= 1.42249e+04, atom= 2434\n",
      "Step=  129, Dmax= 1.8e-02 nm, Epot= -5.57408e+05 Fmax= 1.28701e+04, atom= 2434\n",
      "Step=  130, Dmax= 2.1e-02 nm, Epot= -5.57418e+05 Fmax= 1.97431e+04, atom= 2434\n",
      "Step=  131, Dmax= 2.6e-02 nm, Epot= -5.57638e+05 Fmax= 1.91716e+04, atom= 2434\n",
      "Step=  133, Dmax= 1.5e-02 nm, Epot= -5.58156e+05 Fmax= 4.25328e+03, atom= 2434\n",
      "Step=  134, Dmax= 1.8e-02 nm, Epot= -5.58199e+05 Fmax= 2.36883e+04, atom= 2434\n",
      "Step=  135, Dmax= 2.2e-02 nm, Epot= -5.58857e+05 Fmax= 1.01326e+04, atom= 2434\n",
      "Step=  137, Dmax= 1.3e-02 nm, Epot= -5.59051e+05 Fmax= 1.00352e+04, atom= 2434\n",
      "Step=  138, Dmax= 1.6e-02 nm, Epot= -5.59166e+05 Fmax= 1.43456e+04, atom= 2434\n",
      "Step=  139, Dmax= 1.9e-02 nm, Epot= -5.59345e+05 Fmax= 1.47148e+04, atom= 2434\n",
      "Step=  140, Dmax= 2.3e-02 nm, Epot= -5.59350e+05 Fmax= 2.02935e+04, atom= 2434\n",
      "Step=  141, Dmax= 2.8e-02 nm, Epot= -5.59480e+05 Fmax= 2.14635e+04, atom= 2434\n",
      "Step=  143, Dmax= 1.7e-02 nm, Epot= -5.60102e+05 Fmax= 3.69665e+03, atom= 2434\n",
      "Step=  145, Dmax= 9.9e-03 nm, Epot= -5.60348e+05 Fmax= 1.12076e+04, atom= 2434\n",
      "Step=  146, Dmax= 1.2e-02 nm, Epot= -5.60584e+05 Fmax= 6.99530e+03, atom= 2434\n",
      "Step=  147, Dmax= 1.4e-02 nm, Epot= -5.60672e+05 Fmax= 1.46614e+04, atom= 2434\n",
      "Step=  148, Dmax= 1.7e-02 nm, Epot= -5.60929e+05 Fmax= 1.15165e+04, atom= 2434\n"
     ]
    },
    {
     "name": "stdout",
     "output_type": "stream",
     "text": [
      "Step=  150, Dmax= 1.0e-02 nm, Epot= -5.61183e+05 Fmax= 4.10064e+03, atom= 2434\n",
      "Step=  151, Dmax= 1.2e-02 nm, Epot= -5.61351e+05 Fmax= 1.49000e+04, atom= 2434\n",
      "Step=  152, Dmax= 1.5e-02 nm, Epot= -5.61672e+05 Fmax= 7.63115e+03, atom= 2434\n",
      "Step=  154, Dmax= 8.9e-03 nm, Epot= -5.61852e+05 Fmax= 5.98149e+03, atom= 2434\n",
      "Step=  155, Dmax= 1.1e-02 nm, Epot= -5.62005e+05 Fmax= 1.01806e+04, atom= 2434\n",
      "Step=  156, Dmax= 1.3e-02 nm, Epot= -5.62188e+05 Fmax= 9.39899e+03, atom= 2434\n",
      "Step=  157, Dmax= 1.5e-02 nm, Epot= -5.62274e+05 Fmax= 1.39139e+04, atom= 2434\n",
      "Step=  158, Dmax= 1.8e-02 nm, Epot= -5.62435e+05 Fmax= 1.42187e+04, atom= 2434\n",
      "Step=  160, Dmax= 1.1e-02 nm, Epot= -5.62760e+05 Fmax= 2.58488e+03, atom= 2434\n",
      "Step=  161, Dmax= 1.3e-02 nm, Epot= -5.63042e+05 Fmax= 1.79523e+04, atom= 2434\n",
      "Step=  162, Dmax= 1.6e-02 nm, Epot= -5.63477e+05 Fmax= 6.31141e+03, atom= 2434\n",
      "Step=  164, Dmax= 9.5e-03 nm, Epot= -5.63629e+05 Fmax= 8.33946e+03, atom= 2434\n",
      "Step=  165, Dmax= 1.1e-02 nm, Epot= -5.63780e+05 Fmax= 9.07027e+03, atom= 2434\n",
      "Step=  166, Dmax= 1.4e-02 nm, Epot= -5.63894e+05 Fmax= 1.19806e+04, atom= 2434\n",
      "Step=  167, Dmax= 1.6e-02 nm, Epot= -5.64024e+05 Fmax= 1.30968e+04, atom= 2434\n",
      "Step=  168, Dmax= 2.0e-02 nm, Epot= -5.64065e+05 Fmax= 1.71331e+04, atom= 2434\n",
      "Step=  169, Dmax= 2.4e-02 nm, Epot= -5.64147e+05 Fmax= 1.89261e+04, atom= 2434\n",
      "Step=  171, Dmax= 1.4e-02 nm, Epot= -5.64647e+05 Fmax= 2.80565e+03, atom= 2434\n",
      "Step=  172, Dmax= 1.7e-02 nm, Epot= -5.64741e+05 Fmax= 2.29725e+04, atom= 2434\n",
      "Step=  173, Dmax= 2.1e-02 nm, Epot= -5.65384e+05 Fmax= 8.43783e+03, atom= 2434\n",
      "Step=  175, Dmax= 1.2e-02 nm, Epot= -5.65507e+05 Fmax= 1.02632e+04, atom= 2434\n",
      "Step=  176, Dmax= 1.5e-02 nm, Epot= -5.65613e+05 Fmax= 1.23503e+04, atom= 2434\n",
      "Step=  177, Dmax= 1.8e-02 nm, Epot= -5.65699e+05 Fmax= 1.45887e+04, atom= 2434\n",
      "Step=  178, Dmax= 2.1e-02 nm, Epot= -5.65734e+05 Fmax= 1.78796e+04, atom= 2434\n",
      "Step=  179, Dmax= 2.6e-02 nm, Epot= -5.65746e+05 Fmax= 2.08440e+04, atom= 2434\n",
      "Step=  181, Dmax= 1.5e-02 nm, Epot= -5.66344e+05 Fmax= 2.50470e+03, atom= 2434\n",
      "Step=  182, Dmax= 1.8e-02 nm, Epot= -5.66372e+05 Fmax= 2.51155e+04, atom= 2434\n",
      "Step=  183, Dmax= 2.2e-02 nm, Epot= -5.67147e+05 Fmax= 8.68802e+03, atom= 2434\n",
      "Step=  185, Dmax= 1.3e-02 nm, Epot= -5.67238e+05 Fmax= 1.14206e+04, atom= 2434\n",
      "Step=  186, Dmax= 1.6e-02 nm, Epot= -5.67340e+05 Fmax= 1.28796e+04, atom= 2434\n",
      "Step=  187, Dmax= 1.9e-02 nm, Epot= -5.67376e+05 Fmax= 1.60684e+04, atom= 2434\n",
      "Step=  188, Dmax= 2.3e-02 nm, Epot= -5.67404e+05 Fmax= 1.88046e+04, atom= 2434\n",
      "Step=  190, Dmax= 1.4e-02 nm, Epot= -5.67912e+05 Fmax= 2.05703e+03, atom= 2434\n",
      "Step=  191, Dmax= 1.6e-02 nm, Epot= -5.68035e+05 Fmax= 2.35248e+04, atom= 2434\n",
      "Step=  192, Dmax= 2.0e-02 nm, Epot= -5.68754e+05 Fmax= 6.69953e+03, atom= 2434\n",
      "Step=  194, Dmax= 1.2e-02 nm, Epot= -5.68820e+05 Fmax= 1.14832e+04, atom= 2434\n",
      "Step=  195, Dmax= 1.4e-02 nm, Epot= -5.68974e+05 Fmax= 1.01631e+04, atom= 2434\n",
      "Step=  197, Dmax= 8.5e-03 nm, Epot= -5.69175e+05 Fmax= 2.89360e+03, atom= 2434\n",
      "Step=  198, Dmax= 1.0e-02 nm, Epot= -5.69326e+05 Fmax= 1.25769e+04, atom= 2434\n",
      "Step=  199, Dmax= 1.2e-02 nm, Epot= -5.69572e+05 Fmax= 6.22524e+03, atom= 2434\n",
      "Step=  201, Dmax= 7.4e-03 nm, Epot= -5.69701e+05 Fmax= 4.96850e+03, atom= 2434\n",
      "Step=  202, Dmax= 8.8e-03 nm, Epot= -5.69806e+05 Fmax= 8.62224e+03, atom= 2434\n",
      "Step=  203, Dmax= 1.1e-02 nm, Epot= -5.69943e+05 Fmax= 7.51983e+03, atom= 2434\n",
      "Step=  204, Dmax= 1.3e-02 nm, Epot= -5.69990e+05 Fmax= 1.19999e+04, atom= 2434\n",
      "Step=  205, Dmax= 1.5e-02 nm, Epot= -5.70128e+05 Fmax= 1.12495e+04, atom= 2434\n",
      "Step=  207, Dmax= 9.2e-03 nm, Epot= -5.70356e+05 Fmax= 2.77741e+03, atom= 2434\n",
      "Step=  208, Dmax= 1.1e-02 nm, Epot= -5.70481e+05 Fmax= 1.38285e+04, atom= 2434\n",
      "Step=  209, Dmax= 1.3e-02 nm, Epot= -5.70764e+05 Fmax= 6.37766e+03, atom= 2434\n",
      "Step=  211, Dmax= 7.9e-03 nm, Epot= -5.70887e+05 Fmax= 5.65322e+03, atom= 2434\n",
      "Step=  212, Dmax= 9.5e-03 nm, Epot= -5.70976e+05 Fmax= 8.94221e+03, atom= 2434\n",
      "Step=  213, Dmax= 1.1e-02 nm, Epot= -5.71100e+05 Fmax= 8.40674e+03, atom= 2434\n",
      "Step=  214, Dmax= 1.4e-02 nm, Epot= -5.71131e+05 Fmax= 1.25590e+04, atom= 2434\n",
      "Step=  215, Dmax= 1.6e-02 nm, Epot= -5.71248e+05 Fmax= 1.24247e+04, atom= 2434\n",
      "Step=  217, Dmax= 9.9e-03 nm, Epot= -5.71514e+05 Fmax= 2.64394e+03, atom= 2434\n",
      "Step=  218, Dmax= 1.2e-02 nm, Epot= -5.71601e+05 Fmax= 1.51946e+04, atom= 2434\n",
      "Step=  219, Dmax= 1.4e-02 nm, Epot= -5.71937e+05 Fmax= 6.52080e+03, atom= 2434\n",
      "Step=  221, Dmax= 8.5e-03 nm, Epot= -5.72050e+05 Fmax= 6.41123e+03, atom= 2434\n",
      "Step=  222, Dmax= 1.0e-02 nm, Epot= -5.72127e+05 Fmax= 9.26295e+03, atom= 2434\n",
      "Step=  223, Dmax= 1.2e-02 nm, Epot= -5.72234e+05 Fmax= 9.38345e+03, atom= 2434\n",
      "Step=  224, Dmax= 1.5e-02 nm, Epot= -5.72251e+05 Fmax= 1.31351e+04, atom= 2434\n",
      "Step=  225, Dmax= 1.8e-02 nm, Epot= -5.72339e+05 Fmax= 1.37110e+04, atom= 2434\n",
      "Step=  227, Dmax= 1.1e-02 nm, Epot= -5.72657e+05 Fmax= 2.47652e+03, atom= 2434\n",
      "Step=  228, Dmax= 1.3e-02 nm, Epot= -5.72698e+05 Fmax= 1.66831e+04, atom= 2434\n",
      "Step=  229, Dmax= 1.5e-02 nm, Epot= -5.73105e+05 Fmax= 6.65764e+03, atom= 2434\n",
      "Step=  231, Dmax= 9.2e-03 nm, Epot= -5.73204e+05 Fmax= 7.24378e+03, atom= 2434\n",
      "Step=  232, Dmax= 1.1e-02 nm, Epot= -5.73272e+05 Fmax= 9.59051e+03, atom= 2434\n",
      "Step=  233, Dmax= 1.3e-02 nm, Epot= -5.73355e+05 Fmax= 1.04499e+04, atom= 2434\n",
      "Step=  234, Dmax= 1.6e-02 nm, Epot= -5.73363e+05 Fmax= 1.37368e+04, atom= 2434\n",
      "Step=  235, Dmax= 1.9e-02 nm, Epot= -5.73411e+05 Fmax= 1.51090e+04, atom= 2434\n",
      "Step=  237, Dmax= 1.1e-02 nm, Epot= -5.73799e+05 Fmax= 2.28138e+03, atom= 2434\n",
      "Step=  239, Dmax= 6.8e-03 nm, Epot= -5.73948e+05 Fmax= 7.97660e+03, atom= 2434\n",
      "Step=  240, Dmax= 8.2e-03 nm, Epot= -5.74094e+05 Fmax= 4.58591e+03, atom= 2434\n",
      "Step=  241, Dmax= 9.8e-03 nm, Epot= -5.74131e+05 Fmax= 1.03296e+04, atom= 2434\n",
      "Step=  242, Dmax= 1.2e-02 nm, Epot= -5.74292e+05 Fmax= 7.73894e+03, atom= 2434\n",
      "Step=  244, Dmax= 7.1e-03 nm, Epot= -5.74440e+05 Fmax= 3.05632e+03, atom= 4838\n",
      "Step=  245, Dmax= 8.5e-03 nm, Epot= -5.74516e+05 Fmax= 9.95767e+03, atom= 2434\n",
      "Step=  246, Dmax= 1.0e-02 nm, Epot= -5.74699e+05 Fmax= 5.63544e+03, atom= 4838\n",
      "Step=  248, Dmax= 6.1e-03 nm, Epot= -5.74810e+05 Fmax= 3.71799e+03, atom= 4838\n",
      "Step=  249, Dmax= 7.3e-03 nm, Epot= -5.74894e+05 Fmax= 7.52995e+03, atom= 4838\n",
      "Step=  250, Dmax= 8.8e-03 nm, Epot= -5.75016e+05 Fmax= 5.94206e+03, atom= 4838\n",
      "Step=  251, Dmax= 1.1e-02 nm, Epot= -5.75044e+05 Fmax= 1.02448e+04, atom= 4838\n",
      "Step=  252, Dmax= 1.3e-02 nm, Epot= -5.75169e+05 Fmax= 9.14597e+03, atom= 4838\n",
      "Step=  254, Dmax= 7.6e-03 nm, Epot= -5.75349e+05 Fmax= 2.50007e+03, atom= 4838\n",
      "Step=  255, Dmax= 9.1e-03 nm, Epot= -5.75433e+05 Fmax= 1.14556e+04, atom= 4838\n",
      "Step=  256, Dmax= 1.1e-02 nm, Epot= -5.75659e+05 Fmax= 5.32684e+03, atom= 4838\n",
      "Step=  258, Dmax= 6.6e-03 nm, Epot= -5.75759e+05 Fmax= 4.72729e+03, atom= 4838\n",
      "Step=  259, Dmax= 7.9e-03 nm, Epot= -5.75833e+05 Fmax= 7.36055e+03, atom= 4838\n",
      "Step=  260, Dmax= 9.5e-03 nm, Epot= -5.75932e+05 Fmax= 7.11925e+03, atom= 4838\n",
      "Step=  261, Dmax= 1.1e-02 nm, Epot= -5.75967e+05 Fmax= 1.02764e+04, atom= 4838\n",
      "Step=  262, Dmax= 1.4e-02 nm, Epot= -5.76052e+05 Fmax= 1.05630e+04, atom= 4838\n",
      "Step=  264, Dmax= 8.2e-03 nm, Epot= -5.76268e+05 Fmax= 1.95446e+03, atom= 4838\n",
      "Step=  265, Dmax= 9.8e-03 nm, Epot= -5.76383e+05 Fmax= 1.30430e+04, atom= 4838\n",
      "Step=  266, Dmax= 1.2e-02 nm, Epot= -5.76661e+05 Fmax= 5.00546e+03, atom= 4838\n",
      "Step=  268, Dmax= 7.1e-03 nm, Epot= -5.76747e+05 Fmax= 5.80258e+03, atom= 4838\n",
      "Step=  269, Dmax= 8.5e-03 nm, Epot= -5.76824e+05 Fmax= 7.18984e+03, atom= 4838\n",
      "Step=  270, Dmax= 1.0e-02 nm, Epot= -5.76896e+05 Fmax= 8.37389e+03, atom= 4838\n",
      "Step=  271, Dmax= 1.2e-02 nm, Epot= -5.76944e+05 Fmax= 1.03216e+04, atom= 4838\n",
      "Step=  272, Dmax= 1.5e-02 nm, Epot= -5.76985e+05 Fmax= 1.20745e+04, atom= 4838\n",
      "Step=  274, Dmax= 8.8e-03 nm, Epot= -5.77245e+05 Fmax= 1.38185e+03, atom= 4838\n",
      "Step=  275, Dmax= 1.1e-02 nm, Epot= -5.77460e+05 Fmax= 1.47204e+04, atom= 4838\n",
      "Step=  276, Dmax= 1.3e-02 nm, Epot= -5.77797e+05 Fmax= 4.70294e+03, atom= 4838\n",
      "Step=  278, Dmax= 7.6e-03 nm, Epot= -5.77868e+05 Fmax= 6.91785e+03, atom= 4838\n",
      "Step=  279, Dmax= 9.1e-03 nm, Epot= -5.77954e+05 Fmax= 7.05038e+03, atom= 4838\n",
      "Step=  280, Dmax= 1.1e-02 nm, Epot= -5.77995e+05 Fmax= 9.67985e+03, atom= 4838\n",
      "Step=  281, Dmax= 1.3e-02 nm, Epot= -5.78064e+05 Fmax= 1.04146e+04, atom= 4838\n"
     ]
    },
    {
     "name": "stdout",
     "output_type": "stream",
     "text": [
      "Step=  283, Dmax= 7.9e-03 nm, Epot= -5.78264e+05 Fmax= 1.63397e+03, atom= 4838\n",
      "Step=  284, Dmax= 9.5e-03 nm, Epot= -5.78417e+05 Fmax= 1.28725e+04, atom= 4838\n",
      "Step=  285, Dmax= 1.1e-02 nm, Epot= -5.78677e+05 Fmax= 4.49576e+03, atom= 4838\n",
      "Step=  287, Dmax= 6.8e-03 nm, Epot= -5.78754e+05 Fmax= 5.93244e+03, atom= 4838\n",
      "Step=  288, Dmax= 8.2e-03 nm, Epot= -5.78832e+05 Fmax= 6.56100e+03, atom= 4838\n",
      "Step=  289, Dmax= 9.8e-03 nm, Epot= -5.78888e+05 Fmax= 8.44796e+03, atom= 4838\n",
      "Step=  290, Dmax= 1.2e-02 nm, Epot= -5.78950e+05 Fmax= 9.53545e+03, atom= 4838\n",
      "Step=  291, Dmax= 1.4e-02 nm, Epot= -5.78970e+05 Fmax= 1.20573e+04, atom= 4838\n",
      "Step=  292, Dmax= 1.7e-02 nm, Epot= -5.78994e+05 Fmax= 1.38099e+04, atom= 4838\n",
      "Step=  294, Dmax= 1.0e-02 nm, Epot= -5.79302e+05 Fmax= 1.72929e+03, atom= 4838\n",
      "Step=  295, Dmax= 1.2e-02 nm, Epot= -5.79354e+05 Fmax= 1.68986e+04, atom= 4838\n",
      "Step=  296, Dmax= 1.5e-02 nm, Epot= -5.79760e+05 Fmax= 5.54431e+03, atom= 4838\n",
      "Step=  298, Dmax= 8.8e-03 nm, Epot= -5.79815e+05 Fmax= 7.88281e+03, atom= 4838\n",
      "Step=  299, Dmax= 1.1e-02 nm, Epot= -5.79889e+05 Fmax= 8.25225e+03, atom= 4838\n",
      "Step=  300, Dmax= 1.3e-02 nm, Epot= -5.79908e+05 Fmax= 1.10743e+04, atom= 4838\n",
      "Step=  301, Dmax= 1.5e-02 nm, Epot= -5.79958e+05 Fmax= 1.21329e+04, atom= 4838\n",
      "Step=  303, Dmax= 9.1e-03 nm, Epot= -5.80201e+05 Fmax= 1.78530e+03, atom= 4838\n",
      "Step=  304, Dmax= 1.1e-02 nm, Epot= -5.80271e+05 Fmax= 1.49695e+04, atom= 4838\n",
      "Step=  305, Dmax= 1.3e-02 nm, Epot= -5.80593e+05 Fmax= 5.10419e+03, atom= 4838\n",
      "Step=  307, Dmax= 7.9e-03 nm, Epot= -5.80655e+05 Fmax= 6.94286e+03, atom= 4838\n",
      "Step=  308, Dmax= 9.4e-03 nm, Epot= -5.80724e+05 Fmax= 7.49312e+03, atom= 4838\n",
      "Step=  309, Dmax= 1.1e-02 nm, Epot= -5.80759e+05 Fmax= 9.84407e+03, atom= 4838\n",
      "Step=  310, Dmax= 1.4e-02 nm, Epot= -5.80809e+05 Fmax= 1.09301e+04, atom= 4838\n",
      "Step=  312, Dmax= 8.2e-03 nm, Epot= -5.81012e+05 Fmax= 1.54664e+03, atom= 4838\n",
      "Step=  313, Dmax= 9.8e-03 nm, Epot= -5.81142e+05 Fmax= 1.34058e+04, atom= 4838\n",
      "Step=  314, Dmax= 1.2e-02 nm, Epot= -5.81408e+05 Fmax= 4.59264e+03, atom= 4838\n",
      "Step=  316, Dmax= 7.0e-03 nm, Epot= -5.81473e+05 Fmax= 6.18267e+03, atom= 4838\n",
      "Step=  317, Dmax= 8.5e-03 nm, Epot= -5.81542e+05 Fmax= 6.76780e+03, atom= 4838\n",
      "Step=  318, Dmax= 1.0e-02 nm, Epot= -5.81586e+05 Fmax= 8.74733e+03, atom= 4838\n",
      "Step=  319, Dmax= 1.2e-02 nm, Epot= -5.81638e+05 Fmax= 9.88708e+03, atom= 4838\n",
      "Step=  320, Dmax= 1.5e-02 nm, Epot= -5.81645e+05 Fmax= 1.24379e+04, atom= 4838\n",
      "Step=  321, Dmax= 1.8e-02 nm, Epot= -5.81655e+05 Fmax= 1.43588e+04, atom= 4838\n",
      "Step=  323, Dmax= 1.1e-02 nm, Epot= -5.81970e+05 Fmax= 1.72100e+03, atom= 4838\n",
      "Step=  325, Dmax= 6.3e-03 nm, Epot= -5.82096e+05 Fmax= 7.91304e+03, atom= 4838\n",
      "Step=  326, Dmax= 7.6e-03 nm, Epot= -5.82216e+05 Fmax= 3.67409e+03, atom= 4838\n",
      "Step=  327, Dmax= 9.1e-03 nm, Epot= -5.82229e+05 Fmax= 1.02526e+04, atom= 4838\n",
      "Step=  328, Dmax= 1.1e-02 nm, Epot= -5.82374e+05 Fmax= 6.42995e+03, atom= 4838\n",
      "Step=  330, Dmax= 6.5e-03 nm, Epot= -5.82469e+05 Fmax= 3.58648e+03, atom= 4838\n",
      "Step=  331, Dmax= 7.9e-03 nm, Epot= -5.82511e+05 Fmax= 8.42017e+03, atom= 4838\n",
      "Step=  332, Dmax= 9.4e-03 nm, Epot= -5.82620e+05 Fmax= 6.00602e+03, atom= 4838\n",
      "Step=  334, Dmax= 5.7e-03 nm, Epot= -5.82711e+05 Fmax= 2.64183e+03, atom= 4838\n",
      "Step=  335, Dmax= 6.8e-03 nm, Epot= -5.82779e+05 Fmax= 7.75595e+03, atom= 4838\n",
      "Step=  336, Dmax= 8.1e-03 nm, Epot= -5.82888e+05 Fmax= 4.69968e+03, atom= 4838\n",
      "Step=  337, Dmax= 9.8e-03 nm, Epot= -5.82888e+05 Fmax= 1.02641e+04, atom= 4838\n",
      "Step=  338, Dmax= 1.2e-02 nm, Epot= -5.83013e+05 Fmax= 7.66439e+03, atom= 4838\n",
      "Step=  340, Dmax= 7.0e-03 nm, Epot= -5.83129e+05 Fmax= 3.10078e+03, atom= 4838\n",
      "Step=  341, Dmax= 8.4e-03 nm, Epot= -5.83158e+05 Fmax= 9.80490e+03, atom= 4838\n",
      "Step=  342, Dmax= 1.0e-02 nm, Epot= -5.83298e+05 Fmax= 5.70262e+03, atom= 4838\n",
      "Step=  344, Dmax= 6.1e-03 nm, Epot= -5.83382e+05 Fmax= 3.59222e+03, atom= 4838\n",
      "Step=  345, Dmax= 7.3e-03 nm, Epot= -5.83430e+05 Fmax= 7.58047e+03, atom= 4838\n",
      "Step=  346, Dmax= 8.8e-03 nm, Epot= -5.83523e+05 Fmax= 5.80636e+03, atom= 4838\n",
      "Step=  348, Dmax= 5.3e-03 nm, Epot= -5.83609e+05 Fmax= 2.23435e+03, atom= 4838\n",
      "Step=  349, Dmax= 6.3e-03 nm, Epot= -5.83691e+05 Fmax= 7.39806e+03, atom= 4838\n",
      "Step=  350, Dmax= 7.6e-03 nm, Epot= -5.83794e+05 Fmax= 4.18345e+03, atom= 4838\n",
      "Step=  351, Dmax= 9.1e-03 nm, Epot= -5.83805e+05 Fmax= 9.69233e+03, atom= 4838\n",
      "Step=  352, Dmax= 1.1e-02 nm, Epot= -5.83924e+05 Fmax= 6.97632e+03, atom= 4838\n",
      "Step=  354, Dmax= 6.5e-03 nm, Epot= -5.84026e+05 Fmax= 3.01611e+03, atom= 4838\n",
      "Step=  355, Dmax= 7.8e-03 nm, Epot= -5.84063e+05 Fmax= 8.99641e+03, atom= 4838\n",
      "Step=  356, Dmax= 9.4e-03 nm, Epot= -5.84187e+05 Fmax= 5.39545e+03, atom= 4838\n",
      "Step=  358, Dmax= 5.6e-03 nm, Epot= -5.84265e+05 Fmax= 3.24757e+03, atom= 4838\n",
      "Step=  359, Dmax= 6.8e-03 nm, Epot= -5.84318e+05 Fmax= 7.11006e+03, atom= 4838\n",
      "Step=  360, Dmax= 8.1e-03 nm, Epot= -5.84406e+05 Fmax= 5.33727e+03, atom= 4838\n",
      "Step=  361, Dmax= 9.8e-03 nm, Epot= -5.84414e+05 Fmax= 9.57906e+03, atom= 4838\n",
      "Step=  362, Dmax= 1.2e-02 nm, Epot= -5.84505e+05 Fmax= 8.33524e+03, atom= 4838\n",
      "Step=  364, Dmax= 7.0e-03 nm, Epot= -5.84634e+05 Fmax= 2.40574e+03, atom= 4838\n",
      "Step=  365, Dmax= 8.4e-03 nm, Epot= -5.84669e+05 Fmax= 1.05101e+04, atom= 4838\n",
      "Step=  366, Dmax= 1.0e-02 nm, Epot= -5.84834e+05 Fmax= 4.96350e+03, atom= 4838\n",
      "Step=  368, Dmax= 6.1e-03 nm, Epot= -5.84902e+05 Fmax= 4.32782e+03, atom= 4838\n",
      "Step=  369, Dmax= 7.3e-03 nm, Epot= -5.84949e+05 Fmax= 6.80827e+03, atom= 4838\n",
      "Step=  370, Dmax= 8.7e-03 nm, Epot= -5.85017e+05 Fmax= 6.57081e+03, atom= 4838\n",
      "Step=  371, Dmax= 1.0e-02 nm, Epot= -5.85032e+05 Fmax= 9.46294e+03, atom= 4838\n",
      "Step=  372, Dmax= 1.3e-02 nm, Epot= -5.85090e+05 Fmax= 9.79037e+03, atom= 4838\n",
      "Step=  374, Dmax= 7.6e-03 nm, Epot= -5.85253e+05 Fmax= 1.75637e+03, atom= 4838\n",
      "Step=  375, Dmax= 9.1e-03 nm, Epot= -5.85310e+05 Fmax= 1.21324e+04, atom= 4838\n",
      "Step=  376, Dmax= 1.1e-02 nm, Epot= -5.85527e+05 Fmax= 4.50890e+03, atom= 4838\n",
      "Step=  378, Dmax= 6.5e-03 nm, Epot= -5.85584e+05 Fmax= 5.48174e+03, atom= 4838\n",
      "Step=  379, Dmax= 7.8e-03 nm, Epot= -5.85636e+05 Fmax= 6.49131e+03, atom= 4838\n",
      "Step=  380, Dmax= 9.4e-03 nm, Epot= -5.85678e+05 Fmax= 7.89057e+03, atom= 4838\n",
      "Step=  381, Dmax= 1.1e-02 nm, Epot= -5.85712e+05 Fmax= 9.34494e+03, atom= 4838\n",
      "Step=  382, Dmax= 1.4e-02 nm, Epot= -5.85724e+05 Fmax= 1.13482e+04, atom= 4838\n",
      "Step=  384, Dmax= 8.1e-03 nm, Epot= -5.85934e+05 Fmax= 1.06772e+03, atom= 4838\n",
      "Step=  385, Dmax= 9.7e-03 nm, Epot= -5.86106e+05 Fmax= 1.38519e+04, atom= 4838\n",
      "Step=  386, Dmax= 1.2e-02 nm, Epot= -5.86386e+05 Fmax= 4.06029e+03, atom= 4838\n",
      "Step=  388, Dmax= 7.0e-03 nm, Epot= -5.86428e+05 Fmax= 6.68816e+03, atom= 4838\n",
      "Step=  389, Dmax= 8.4e-03 nm, Epot= -5.86496e+05 Fmax= 6.18851e+03, atom= 4838\n",
      "Step=  390, Dmax= 1.0e-02 nm, Epot= -5.86505e+05 Fmax= 9.27342e+03, atom= 4838\n",
      "Step=  391, Dmax= 1.2e-02 nm, Epot= -5.86566e+05 Fmax= 9.25543e+03, atom= 4838\n",
      "Step=  393, Dmax= 7.3e-03 nm, Epot= -5.86716e+05 Fmax= 1.86981e+03, atom= 4838\n",
      "Step=  394, Dmax= 8.7e-03 nm, Epot= -5.86754e+05 Fmax= 1.14699e+04, atom= 4838\n",
      "Step=  395, Dmax= 1.0e-02 nm, Epot= -5.86949e+05 Fmax= 4.56491e+03, atom= 4838\n",
      "Step=  397, Dmax= 6.3e-03 nm, Epot= -5.87005e+05 Fmax= 5.04196e+03, atom= 4838\n",
      "Step=  398, Dmax= 7.5e-03 nm, Epot= -5.87049e+05 Fmax= 6.50221e+03, atom= 4838\n",
      "Step=  399, Dmax= 9.0e-03 nm, Epot= -5.87097e+05 Fmax= 7.33165e+03, atom= 4838\n",
      "Step=  400, Dmax= 1.1e-02 nm, Epot= -5.87119e+05 Fmax= 9.28311e+03, atom= 4838\n",
      "Step=  401, Dmax= 1.3e-02 nm, Epot= -5.87144e+05 Fmax= 1.06266e+04, atom= 4838\n",
      "Step=  403, Dmax= 7.8e-03 nm, Epot= -5.87333e+05 Fmax= 1.33214e+03, atom= 4838\n",
      "Step=  404, Dmax= 9.4e-03 nm, Epot= -5.87414e+05 Fmax= 1.29944e+04, atom= 4838\n",
      "Step=  405, Dmax= 1.1e-02 nm, Epot= -5.87664e+05 Fmax= 4.25733e+03, atom= 4838\n",
      "Step=  407, Dmax= 6.8e-03 nm, Epot= -5.87708e+05 Fmax= 6.07056e+03, atom= 4838\n",
      "Step=  408, Dmax= 8.1e-03 nm, Epot= -5.87762e+05 Fmax= 6.34079e+03, atom= 4838\n",
      "Step=  409, Dmax= 9.7e-03 nm, Epot= -5.87784e+05 Fmax= 8.52939e+03, atom= 4838\n",
      "Step=  410, Dmax= 1.2e-02 nm, Epot= -5.87824e+05 Fmax= 9.32947e+03, atom= 4838\n",
      "Step=  412, Dmax= 7.0e-03 nm, Epot= -5.87976e+05 Fmax= 1.37983e+03, atom= 4838\n",
      "Step=  413, Dmax= 8.4e-03 nm, Epot= -5.88058e+05 Fmax= 1.15063e+04, atom= 4838\n"
     ]
    },
    {
     "name": "stdout",
     "output_type": "stream",
     "text": [
      "Step=  414, Dmax= 1.0e-02 nm, Epot= -5.88260e+05 Fmax= 3.92838e+03, atom= 4838\n",
      "Step=  416, Dmax= 6.1e-03 nm, Epot= -5.88309e+05 Fmax= 5.33845e+03, atom= 4838\n",
      "Step=  417, Dmax= 7.3e-03 nm, Epot= -5.88360e+05 Fmax= 5.76570e+03, atom= 4838\n",
      "Step=  418, Dmax= 8.7e-03 nm, Epot= -5.88390e+05 Fmax= 7.57252e+03, atom= 4838\n",
      "Step=  419, Dmax= 1.0e-02 nm, Epot= -5.88430e+05 Fmax= 8.41235e+03, atom= 4838\n",
      "Step=  421, Dmax= 6.3e-03 nm, Epot= -5.88561e+05 Fmax= 1.18775e+03, atom= 4838\n",
      "Step=  422, Dmax= 7.5e-03 nm, Epot= -5.88680e+05 Fmax= 1.03097e+04, atom= 4838\n",
      "Step=  423, Dmax= 9.0e-03 nm, Epot= -5.88852e+05 Fmax= 3.52904e+03, atom= 4838\n",
      "Step=  425, Dmax= 5.4e-03 nm, Epot= -5.88902e+05 Fmax= 4.75882e+03, atom= 4838\n",
      "Step=  426, Dmax= 6.5e-03 nm, Epot= -5.88952e+05 Fmax= 5.20245e+03, atom= 4838\n",
      "Step=  427, Dmax= 7.8e-03 nm, Epot= -5.88989e+05 Fmax= 6.73265e+03, atom= 4838\n",
      "Step=  428, Dmax= 9.4e-03 nm, Epot= -5.89029e+05 Fmax= 7.60397e+03, atom= 4838\n",
      "Step=  429, Dmax= 1.1e-02 nm, Epot= -5.89041e+05 Fmax= 9.57651e+03, atom= 4838\n",
      "Step=  430, Dmax= 1.3e-02 nm, Epot= -5.89055e+05 Fmax= 1.10508e+04, atom= 4838\n",
      "Step=  432, Dmax= 8.1e-03 nm, Epot= -5.89259e+05 Fmax= 1.32315e+03, atom= 4838\n",
      "Step=  433, Dmax= 9.7e-03 nm, Epot= -5.89296e+05 Fmax= 1.35556e+04, atom= 4838\n",
      "Step=  434, Dmax= 1.2e-02 nm, Epot= -5.89571e+05 Fmax= 4.28872e+03, atom= 4838\n",
      "Step=  436, Dmax= 7.0e-03 nm, Epot= -5.89605e+05 Fmax= 6.42032e+03, atom= 4838\n",
      "Step=  437, Dmax= 8.4e-03 nm, Epot= -5.89658e+05 Fmax= 6.41255e+03, atom= 4838\n",
      "Step=  438, Dmax= 1.0e-02 nm, Epot= -5.89663e+05 Fmax= 8.99725e+03, atom= 4838\n",
      "Step=  439, Dmax= 1.2e-02 nm, Epot= -5.89704e+05 Fmax= 9.47083e+03, atom= 4838\n",
      "Step=  441, Dmax= 7.2e-03 nm, Epot= -5.89863e+05 Fmax= 1.61829e+03, atom= 4838\n",
      "Step=  442, Dmax= 8.7e-03 nm, Epot= -5.89880e+05 Fmax= 1.16789e+04, atom= 4838\n",
      "Step=  443, Dmax= 1.0e-02 nm, Epot= -5.90090e+05 Fmax= 4.30779e+03, atom= 4838\n",
      "Step=  445, Dmax= 6.3e-03 nm, Epot= -5.90134e+05 Fmax= 5.26886e+03, atom= 4838\n",
      "Step=  446, Dmax= 7.5e-03 nm, Epot= -5.90174e+05 Fmax= 6.23840e+03, atom= 4838\n",
      "Step=  447, Dmax= 9.0e-03 nm, Epot= -5.90204e+05 Fmax= 7.55168e+03, atom= 4838\n",
      "Step=  448, Dmax= 1.1e-02 nm, Epot= -5.90224e+05 Fmax= 9.00950e+03, atom= 4838\n",
      "Step=  449, Dmax= 1.3e-02 nm, Epot= -5.90226e+05 Fmax= 1.08368e+04, atom= 4838\n",
      "Step=  451, Dmax= 7.8e-03 nm, Epot= -5.90429e+05 Fmax= 1.08441e+03, atom= 4838\n",
      "Step=  452, Dmax= 9.4e-03 nm, Epot= -5.90504e+05 Fmax= 1.31881e+04, atom= 4838\n",
      "Step=  453, Dmax= 1.1e-02 nm, Epot= -5.90776e+05 Fmax= 4.01709e+03, atom= 4838\n",
      "Step=  455, Dmax= 6.7e-03 nm, Epot= -5.90805e+05 Fmax= 6.27888e+03, atom= 4838\n",
      "Step=  456, Dmax= 8.1e-03 nm, Epot= -5.90858e+05 Fmax= 6.09364e+03, atom= 4838\n",
      "Step=  457, Dmax= 9.7e-03 nm, Epot= -5.90858e+05 Fmax= 8.72985e+03, atom= 4838\n",
      "Step=  458, Dmax= 1.2e-02 nm, Epot= -5.90900e+05 Fmax= 9.07206e+03, atom= 4838\n",
      "Step=  460, Dmax= 7.0e-03 nm, Epot= -5.91050e+05 Fmax= 1.60253e+03, atom= 4838\n",
      "Step=  461, Dmax= 8.4e-03 nm, Epot= -5.91060e+05 Fmax= 1.12382e+04, atom= 4838\n",
      "Step=  462, Dmax= 1.0e-02 nm, Epot= -5.91260e+05 Fmax= 4.14356e+03, atom= 4838\n",
      "Step=  464, Dmax= 6.0e-03 nm, Epot= -5.91302e+05 Fmax= 5.09104e+03, atom= 4838\n",
      "Step=  465, Dmax= 7.2e-03 nm, Epot= -5.91340e+05 Fmax= 5.97698e+03, atom= 4838\n",
      "Step=  466, Dmax= 8.7e-03 nm, Epot= -5.91366e+05 Fmax= 7.31682e+03, atom= 4838\n",
      "Step=  467, Dmax= 1.0e-02 nm, Epot= -5.91387e+05 Fmax= 8.61650e+03, atom= 4838\n",
      "Step=  469, Dmax= 6.3e-03 nm, Epot= -5.91527e+05 Fmax= 9.52832e+02, atom= 4838\n",
      "\n",
      "writing lowest energy coordinates.\n",
      "\n",
      "Steepest Descents converged to Fmax < 1000 in 470 steps\n",
      "Potential Energy  = -5.9152744e+05\n",
      "Maximum force     =  9.5283179e+02 on atom 4838\n",
      "Norm of force     =  3.2177385e+01\n",
      "\n",
      "GROMACS reminds you: \"What's Your Definition Of Dirty ?\" (G. Michael)\n",
      "\n"
     ]
    }
   ],
   "source": [
    "# TODO: Work out why net charge is  not zero - Seems too big for rounding errors\n",
    "    # Reason is that the ligand has a charge of 0.004995 according to the topology\n",
    "    # Known bug: https://github.com/openforcefield/openff-toolkit/issues/456\n",
    "# TODO: Check if PARMED can produce position restraints, and return define = POSRES to equilibration MDPs\n",
    "# TODO: Otherwise clean up the notes produced by GROMACS\n",
    "\n",
    "# Configure GROMACS not to clutter up our directory with backups\n",
    "%env GMX_MAXBACKUP=-1\n",
    "\n",
    "# Energy minimise the coordinates\n",
    "! gmx grompp -f minim.mdp -c system.gro -p system.top -o em.tpr -maxwarn 1\n",
    "! gmx mdrun -v -deffnm em\n"
   ]
  },
  {
   "cell_type": "code",
   "execution_count": 17,
   "metadata": {},
   "outputs": [
    {
     "name": "stdout",
     "output_type": "stream",
     "text": [
      "                 :-) GROMACS - gmx grompp, 2021.1-MODIFIED (-:\n",
      "\n",
      "                            GROMACS is written by:\n",
      "     Andrey Alekseenko              Emile Apol              Rossen Apostolov     \n",
      "         Paul Bauer           Herman J.C. Berendsen           Par Bjelkmar       \n",
      "       Christian Blau           Viacheslav Bolnykh             Kevin Boyd        \n",
      "     Aldert van Buuren           Rudi van Drunen             Anton Feenstra      \n",
      "    Gilles Gouaillardet             Alan Gray               Gerrit Groenhof      \n",
      "       Anca Hamuraru            Vincent Hindriksen          M. Eric Irrgang      \n",
      "      Aleksei Iupinov           Christoph Junghans             Joe Jordan        \n",
      "    Dimitrios Karkoulis            Peter Kasson                Jiri Kraus        \n",
      "      Carsten Kutzner              Per Larsson              Justin A. Lemkul     \n",
      "       Viveca Lindahl            Magnus Lundborg             Erik Marklund       \n",
      "        Pascal Merz             Pieter Meulenhoff            Teemu Murtola       \n",
      "        Szilard Pall               Sander Pronk              Roland Schulz       \n",
      "       Michael Shirts            Alexey Shvetsov             Alfons Sijbers      \n",
      "       Peter Tieleman              Jon Vincent              Teemu Virolainen     \n",
      "     Christian Wennberg            Maarten Wolf              Artem Zhmurov       \n",
      "                           and the project leaders:\n",
      "        Mark Abraham, Berk Hess, Erik Lindahl, and David van der Spoel\n",
      "\n",
      "Copyright (c) 1991-2000, University of Groningen, The Netherlands.\n",
      "Copyright (c) 2001-2019, The GROMACS development team at\n",
      "Uppsala University, Stockholm University and\n",
      "the Royal Institute of Technology, Sweden.\n",
      "check out http://www.gromacs.org for more information.\n",
      "\n",
      "GROMACS is free software; you can redistribute it and/or modify it\n",
      "under the terms of the GNU Lesser General Public License\n",
      "as published by the Free Software Foundation; either version 2.1\n",
      "of the License, or (at your option) any later version.\n",
      "\n",
      "GROMACS:      gmx grompp, version 2021.1-MODIFIED\n",
      "Executable:   /home/joshmitchell/conda/envs/offdev/bin.AVX2_256/gmx\n",
      "Data prefix:  /home/joshmitchell/conda/envs/offdev\n",
      "Working dir:  /home/joshmitchell/Documents/openff/openff-toolkit/examples/toolkit_showcase\n",
      "Command line:\n",
      "  gmx grompp -f sim.mdp -c em.gro -p system.top -o md.tpr -maxwarn 2\n",
      "\n",
      "\n",
      "NOTE 1 [file sim.mdp]:\n",
      "  You have set rlist larger than the interaction cut-off, but you also have\n",
      "  verlet-buffer-tolerance > 0. Will set rlist using verlet-buffer-tolerance.\n",
      "\n",
      "Setting the LD random seed to -1225140281\n",
      "\n",
      "Generated 190 of the 190 non-bonded parameter combinations\n",
      "\n",
      "Excluding 3 bonded neighbours molecule type 'system1'\n",
      "\n",
      "Excluding 3 bonded neighbours molecule type 'HOH'\n",
      "\n",
      "Excluding 3 bonded neighbours molecule type 'NA'\n",
      "\n",
      "Excluding 3 bonded neighbours molecule type 'CL'\n",
      "\n",
      "Excluding 3 bonded neighbours molecule type 'CHEMBL1078774'\n",
      "\n",
      "NOTE 2 [file system.top, line 52558]:\n",
      "  System has non-zero total charge: 0.004995\n",
      "  Total charge should normally be an integer. See\n",
      "  http://www.gromacs.org/Documentation/Floating_Point_Arithmetic\n",
      "  for discussion on how close it should be to an integer.\n",
      "  \n",
      "\n",
      "\n",
      "\n",
      "WARNING 1 [file system.top, line 52558]:\n",
      "  You are using Ewald electrostatics in a system with net charge. This can\n",
      "  lead to severe artifacts, such as ions moving into regions with low\n",
      "  dielectric, due to the uniform background charge. We suggest to\n",
      "  neutralize your system with counter ions, possibly in combination with a\n",
      "  physiological salt concentration.\n",
      "\n",
      "\n",
      "++++ PLEASE READ AND CITE THE FOLLOWING REFERENCE ++++\n",
      "J. S. Hub, B. L. de Groot, H. Grubmueller, G. Groenhof\n",
      "Quantifying Artifacts in Ewald Simulations of Inhomogeneous Systems with a Net\n",
      "Charge\n",
      "J. Chem. Theory Comput. 10 (2014) pp. 381-393\n",
      "-------- -------- --- Thank You --- -------- --------\n",
      "\n",
      "\n",
      "Setting gen_seed to -1097146682\n",
      "\n",
      "Velocities were taken from a Maxwell distribution at 300 K\n",
      "\n",
      "NOTE 3 [file system.top, line 52558]:\n",
      "  The bond in molecule-type CHEMBL1078774 between atoms 22 O2 and 50 H24\n",
      "  has an estimated oscillational period of 9.0e-03 ps, which is less than\n",
      "  10 times the time step of 1.0e-03 ps.\n",
      "  Maybe you forgot to change the constraints mdp option.\n",
      "\n",
      "Analysing residue names:\n",
      "There are:   349    Protein residues\n",
      "There are: 11503      Water residues\n",
      "There are:    62        Ion residues\n",
      "There are:     1      Other residues\n",
      "Analysing Protein...\n",
      "Analysing residues not classified as Protein/DNA/RNA/Water and splitting into groups...\n",
      "Analysing residues not classified as Protein/DNA/RNA/Water and splitting into groups...\n",
      "Number of degrees of freedom in T-Coupling group System is 85779.00\n",
      "\n",
      "Determining Verlet buffer for a tolerance of 0.005 kJ/mol/ps at 300 K\n",
      "\n",
      "Calculated rlist for 1x1 atom pair-list as 0.911 nm, buffer size 0.011 nm\n",
      "\n",
      "Set rlist, assuming 4x4 atom pair-list, to 0.900 nm, buffer size 0.000 nm\n",
      "\n",
      "Note that mdrun will redetermine rlist based on the actual pair-list setup\n",
      "Calculating fourier grid dimensions for X Y Z\n",
      "Using a fourier grid of 64x64x64, spacing 0.118 0.118 0.118\n",
      "\n",
      "Estimate for the relative computational load of the PME mesh part: 0.31\n",
      "\n",
      "This run will generate roughly 5 Mb of data\n",
      "\n",
      "There were 3 notes\n",
      "\n",
      "There was 1 warning\n",
      "\n",
      "GROMACS reminds you: \"Stupidity got us into this mess, and stupidity will get us out.\" (Homer Simpson)\n",
      "\n",
      "                  :-) GROMACS - gmx mdrun, 2021.1-MODIFIED (-:\n",
      "\n",
      "                            GROMACS is written by:\n",
      "     Andrey Alekseenko              Emile Apol              Rossen Apostolov     \n",
      "         Paul Bauer           Herman J.C. Berendsen           Par Bjelkmar       \n",
      "       Christian Blau           Viacheslav Bolnykh             Kevin Boyd        \n",
      "     Aldert van Buuren           Rudi van Drunen             Anton Feenstra      \n",
      "    Gilles Gouaillardet             Alan Gray               Gerrit Groenhof      \n",
      "       Anca Hamuraru            Vincent Hindriksen          M. Eric Irrgang      \n",
      "      Aleksei Iupinov           Christoph Junghans             Joe Jordan        \n",
      "    Dimitrios Karkoulis            Peter Kasson                Jiri Kraus        \n",
      "      Carsten Kutzner              Per Larsson              Justin A. Lemkul     \n",
      "       Viveca Lindahl            Magnus Lundborg             Erik Marklund       \n",
      "        Pascal Merz             Pieter Meulenhoff            Teemu Murtola       \n",
      "        Szilard Pall               Sander Pronk              Roland Schulz       \n",
      "       Michael Shirts            Alexey Shvetsov             Alfons Sijbers      \n",
      "       Peter Tieleman              Jon Vincent              Teemu Virolainen     \n",
      "     Christian Wennberg            Maarten Wolf              Artem Zhmurov       \n",
      "                           and the project leaders:\n",
      "        Mark Abraham, Berk Hess, Erik Lindahl, and David van der Spoel\n",
      "\n",
      "Copyright (c) 1991-2000, University of Groningen, The Netherlands.\n",
      "Copyright (c) 2001-2019, The GROMACS development team at\n",
      "Uppsala University, Stockholm University and\n",
      "the Royal Institute of Technology, Sweden.\n",
      "check out http://www.gromacs.org for more information.\n",
      "\n",
      "GROMACS is free software; you can redistribute it and/or modify it\n",
      "under the terms of the GNU Lesser General Public License\n",
      "as published by the Free Software Foundation; either version 2.1\n",
      "of the License, or (at your option) any later version.\n",
      "\n",
      "GROMACS:      gmx mdrun, version 2021.1-MODIFIED\n",
      "Executable:   /home/joshmitchell/conda/envs/offdev/bin.AVX2_256/gmx\n",
      "Data prefix:  /home/joshmitchell/conda/envs/offdev\n",
      "Working dir:  /home/joshmitchell/Documents/openff/openff-toolkit/examples/toolkit_showcase\n",
      "Command line:\n",
      "  gmx mdrun -v -deffnm md\n",
      "\n",
      "Reading file md.tpr, VERSION 2021.1-MODIFIED (single precision)\n",
      "Changing nstlist from 10 to 80, rlist from 0.9 to 0.998\n",
      "\n",
      "Using 1 MPI thread\n",
      "Using 4 OpenMP threads \n",
      "\n",
      "starting mdrun 'Generic title'\n",
      "5000 steps,      5.0 ps.\n",
      "step 4900, remaining wall clock time:     1 s          \n",
      "Writing final coordinates.\n",
      "step 5000, remaining wall clock time:     0 s          \n",
      "               Core t (s)   Wall t (s)        (%)\n",
      "       Time:      210.002       52.501      400.0\n",
      "                 (ns/day)    (hour/ns)\n",
      "Performance:        8.230        2.916\n",
      "\n",
      "GROMACS reminds you: \"Three Little Fonzies\" (Pulp Fiction)\n",
      "\n"
     ]
    }
   ],
   "source": [
    "# Run a short simulation\n",
    "! gmx grompp -f sim.mdp -c em.gro -p system.top -o md.tpr -maxwarn 2\n",
    "! gmx mdrun -v -deffnm md"
   ]
  },
  {
   "cell_type": "markdown",
   "metadata": {},
   "source": [
    "_(Takes ~100 seconds)_\n",
    "\n",
    "* Magic:\n",
    "    * MDP files already prepared\n",
    "    * `maxwarn 1` becuase of rounding errors with charges"
   ]
  },
  {
   "cell_type": "code",
   "execution_count": 20,
   "metadata": {},
   "outputs": [
    {
     "name": "stdout",
     "output_type": "stream",
     "text": [
      "<mdtraj.Trajectory with 11 frames, 40097 atoms, 11915 residues, and unitcells>\n"
     ]
    }
   ],
   "source": [
    "mdt_traj = mdt.load(\"md.xtc\", top=\"system.gro\")\n",
    "mdt_traj.image_molecules(inplace=True)\n",
    "print(mdt_traj)"
   ]
  },
  {
   "cell_type": "code",
   "execution_count": 21,
   "metadata": {},
   "outputs": [
    {
     "data": {
      "application/vnd.jupyter.widget-view+json": {
       "model_id": "d936091a018e4ff98428b1e131ae3337",
       "version_major": 2,
       "version_minor": 0
      },
      "text/plain": [
       "NGLWidget(max_frame=10)"
      ]
     },
     "metadata": {},
     "output_type": "display_data"
    }
   ],
   "source": [
    "import nglview\n",
    "\n",
    "view = nglview.show_mdtraj(mdt_traj)\n",
    "view"
   ]
  },
  {
   "cell_type": "code",
   "execution_count": null,
   "metadata": {},
   "outputs": [],
   "source": []
  }
 ],
 "metadata": {
  "kernelspec": {
   "display_name": "Python 3",
   "language": "python",
   "name": "python3"
  },
  "language_info": {
   "codemirror_mode": {
    "name": "ipython",
    "version": 3
   },
   "file_extension": ".py",
   "mimetype": "text/x-python",
   "name": "python",
   "nbconvert_exporter": "python",
   "pygments_lexer": "ipython3",
   "version": "3.7.10"
  }
 },
 "nbformat": 4,
 "nbformat_minor": 4
}
